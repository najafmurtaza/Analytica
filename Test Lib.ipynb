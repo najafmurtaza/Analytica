{
 "cells": [
  {
   "cell_type": "code",
   "execution_count": 1,
   "metadata": {},
   "outputs": [],
   "source": [
    "%load_ext autoreload\n",
    "%autoreload 2"
   ]
  },
  {
   "cell_type": "code",
   "execution_count": 2,
   "metadata": {},
   "outputs": [],
   "source": [
    "import analytica as alt\n",
    "import numpy as np\n",
    "import pandas as pd"
   ]
  },
  {
   "cell_type": "code",
   "execution_count": 3,
   "metadata": {},
   "outputs": [],
   "source": [
    "a = np.array(['a', 'b', 'c'])\n",
    "b = np.array(['c', 'd', None])\n",
    "c = np.random.rand(3)\n",
    "d = np.array([True, False, True])\n",
    "e = np.array([1, 2, 3])\n",
    "f = np.array([3.4, np.nan, 5.1])\n",
    "\n",
    "data_dict = {'a': a, 'b': b, 'c': c, 'd': d, 'e': e, 'f':f}"
   ]
  },
  {
   "cell_type": "code",
   "execution_count": 4,
   "metadata": {},
   "outputs": [],
   "source": [
    "alt_df = alt.DataFrame(data_dict)\n",
    "pd_df = pd.DataFrame(data_dict)"
   ]
  },
  {
   "cell_type": "code",
   "execution_count": 5,
   "metadata": {},
   "outputs": [],
   "source": [
    "a1 = np.array(['a', 'b', 'c'])\n",
    "b1 = np.array(['c', 'd', 'e'])\n",
    "c1 = np.array(['f', 'g', 'h'])\n",
    "d1 = np.array(['i', 'j', None])\n",
    "e1 = np.array(['k', None, 'l'])\n",
    "f1 = np.array(['m', 'n', None])\n",
    "\n",
    "data_dict = {'a': a1, 'b': b1, 'c': c1, 'd': d1, 'e': e1, 'f':f1}\n",
    "\n",
    "alt_df2 = alt.DataFrame(data_dict)\n",
    "pd_df2 = pd.DataFrame(data_dict)"
   ]
  },
  {
   "cell_type": "code",
   "execution_count": 6,
   "metadata": {},
   "outputs": [
    {
     "name": "stdout",
     "output_type": "stream",
     "text": [
      "3\n",
      "3\n"
     ]
    }
   ],
   "source": [
    "print(len(alt_df))\n",
    "print(len(pd_df))"
   ]
  },
  {
   "cell_type": "code",
   "execution_count": 7,
   "metadata": {},
   "outputs": [
    {
     "name": "stdout",
     "output_type": "stream",
     "text": [
      "['a', 'b', 'c', 'd', 'e', 'f']\n",
      "Index(['a', 'b', 'c', 'd', 'e', 'f'], dtype='object')\n"
     ]
    }
   ],
   "source": [
    "print(alt_df.columns)\n",
    "print(pd_df.columns)"
   ]
  },
  {
   "cell_type": "code",
   "execution_count": 8,
   "metadata": {},
   "outputs": [
    {
     "name": "stdout",
     "output_type": "stream",
     "text": [
      "['f', 'g', 'h', 'i', 'j', 'k']\n",
      "Index(['f', 'g', 'h', 'i', 'j', 'k'], dtype='object')\n"
     ]
    }
   ],
   "source": [
    "alt_df.columns = ['f', 'g', 'h', 'i', 'j', 'k']\n",
    "pd_df.columns = ['f', 'g', 'h', 'i', 'j', 'k']\n",
    "\n",
    "print(alt_df.columns)\n",
    "print(pd_df.columns)\n",
    "\n",
    "alt_df.columns = ['a', 'b', 'c', 'd', 'e', 'f']\n",
    "pd_df.columns = ['a', 'b', 'c', 'd', 'e', 'f']"
   ]
  },
  {
   "cell_type": "code",
   "execution_count": 9,
   "metadata": {},
   "outputs": [
    {
     "name": "stdout",
     "output_type": "stream",
     "text": [
      "(3, 6)\n",
      "(3, 6)\n"
     ]
    }
   ],
   "source": [
    "print(alt_df.shape)\n",
    "print(pd_df.shape)"
   ]
  },
  {
   "cell_type": "code",
   "execution_count": 10,
   "metadata": {},
   "outputs": [
    {
     "name": "stdout",
     "output_type": "stream",
     "text": [
      "a     object\n",
      "b     object\n",
      "c    float64\n",
      "d       bool\n",
      "e      int64\n",
      "f    float64\n",
      "dtype: object\n",
      "None\n"
     ]
    },
    {
     "data": {
      "text/html": [
       "<table><thead><tr><th></th><th>Column Name</th><th>Data Type </th></tr></thead><tbody><tr><td><strong>0</strong></td><td>a         </td><td>object    </td></tr><tr><td><strong>1</strong></td><td>b         </td><td>object    </td></tr><tr><td><strong>2</strong></td><td>c         </td><td>float64   </td></tr><tr><td><strong>3</strong></td><td>d         </td><td>bool      </td></tr><tr><td><strong>4</strong></td><td>e         </td><td>int64     </td></tr><tr><td><strong>5</strong></td><td>f         </td><td>float64   </td></tr></tbody></table>"
      ],
      "text/plain": [
       "<analytica.DataFrame at 0x7fa270756b90>"
      ]
     },
     "execution_count": 10,
     "metadata": {},
     "output_type": "execute_result"
    }
   ],
   "source": [
    "print(print(pd_df.dtypes))\n",
    "alt_df.dtypes"
   ]
  },
  {
   "cell_type": "code",
   "execution_count": 11,
   "metadata": {},
   "outputs": [
    {
     "name": "stdout",
     "output_type": "stream",
     "text": [
      "[['a' 'c' 0.2344232545306849 True 1 3.4]\n",
      " ['b' 'd' 0.7577739878877324 False 2 nan]\n",
      " ['c' None 0.8115432172214994 True 3 5.1]]\n",
      "[['a' 'c' 0.2344232545306849 True 1 3.4]\n",
      " ['b' 'd' 0.7577739878877324 False 2 nan]\n",
      " ['c' None 0.8115432172214994 True 3 5.1]]\n"
     ]
    }
   ],
   "source": [
    "print(alt_df.values)\n",
    "print(pd_df.values)"
   ]
  },
  {
   "cell_type": "markdown",
   "metadata": {},
   "source": [
    "# Col Indexing"
   ]
  },
  {
   "cell_type": "code",
   "execution_count": 12,
   "metadata": {},
   "outputs": [
    {
     "name": "stdout",
     "output_type": "stream",
     "text": [
      "0       c\n",
      "1       d\n",
      "2    None\n",
      "Name: b, dtype: object\n"
     ]
    },
    {
     "data": {
      "text/html": [
       "<table><thead><tr><th></th><th>b         </th></tr></thead><tbody><tr><td><strong>0</strong></td><td>c         </td></tr><tr><td><strong>1</strong></td><td>d         </td></tr><tr><td><strong>2</strong></td><td>None      </td></tr></tbody></table>"
      ],
      "text/plain": [
       "<analytica.DataFrame at 0x7fa2707dcc10>"
      ]
     },
     "execution_count": 12,
     "metadata": {},
     "output_type": "execute_result"
    }
   ],
   "source": [
    "print(pd_df['b'])\n",
    "alt_df['b']"
   ]
  },
  {
   "cell_type": "code",
   "execution_count": 13,
   "metadata": {},
   "outputs": [
    {
     "name": "stdout",
     "output_type": "stream",
     "text": [
      "   e     b\n",
      "0  1     c\n",
      "1  2     d\n",
      "2  3  None\n"
     ]
    },
    {
     "data": {
      "text/html": [
       "<table><thead><tr><th></th><th>e         </th><th>b         </th></tr></thead><tbody><tr><td><strong>0</strong></td><td>         1</td><td>c         </td></tr><tr><td><strong>1</strong></td><td>         2</td><td>d         </td></tr><tr><td><strong>2</strong></td><td>         3</td><td>None      </td></tr></tbody></table>"
      ],
      "text/plain": [
       "<analytica.DataFrame at 0x7fa298413dd0>"
      ]
     },
     "execution_count": 13,
     "metadata": {},
     "output_type": "execute_result"
    }
   ],
   "source": [
    "print(pd_df[['e', 'b']])\n",
    "alt_df[['e', 'b']]"
   ]
  },
  {
   "cell_type": "code",
   "execution_count": 14,
   "metadata": {},
   "outputs": [
    {
     "name": "stdout",
     "output_type": "stream",
     "text": [
      "   a     b         c     d  e    f\n",
      "0  a     c  0.234423  True  1  3.4\n",
      "2  c  None  0.811543  True  3  5.1\n"
     ]
    },
    {
     "data": {
      "text/html": [
       "<table><thead><tr><th></th><th>a         </th><th>b         </th><th>c         </th><th>d         </th><th>e         </th><th>f         </th></tr></thead><tbody><tr><td><strong>0</strong></td><td>a         </td><td>c         </td><td>     0.234</td><td>True</td><td>         1</td><td>     3.400</td></tr><tr><td><strong>1</strong></td><td>c         </td><td>None      </td><td>     0.812</td><td>True</td><td>         3</td><td>     5.100</td></tr></tbody></table>"
      ],
      "text/plain": [
       "<analytica.DataFrame at 0x7fa2707dca10>"
      ]
     },
     "execution_count": 14,
     "metadata": {},
     "output_type": "execute_result"
    }
   ],
   "source": [
    "print(pd_df[d])\n",
    "alt_df[alt.DataFrame({'d': d})]"
   ]
  },
  {
   "cell_type": "code",
   "execution_count": 15,
   "metadata": {},
   "outputs": [
    {
     "name": "stdout",
     "output_type": "stream",
     "text": [
      "0.7577739878877324\n"
     ]
    },
    {
     "data": {
      "text/html": [
       "<table><thead><tr><th></th><th>c         </th></tr></thead><tbody><tr><td><strong>0</strong></td><td>     0.758</td></tr></tbody></table>"
      ],
      "text/plain": [
       "<analytica.DataFrame at 0x7fa27077c790>"
      ]
     },
     "execution_count": 15,
     "metadata": {},
     "output_type": "execute_result"
    }
   ],
   "source": [
    "print(pd_df.iloc[1,2])\n",
    "alt_df[1,2]"
   ]
  },
  {
   "cell_type": "code",
   "execution_count": 16,
   "metadata": {},
   "outputs": [
    {
     "name": "stdout",
     "output_type": "stream",
     "text": [
      "d\n"
     ]
    },
    {
     "data": {
      "text/html": [
       "<table><thead><tr><th></th><th>b         </th></tr></thead><tbody><tr><td><strong>0</strong></td><td>d         </td></tr></tbody></table>"
      ],
      "text/plain": [
       "<analytica.DataFrame at 0x7fa27077cf50>"
      ]
     },
     "execution_count": 16,
     "metadata": {},
     "output_type": "execute_result"
    }
   ],
   "source": [
    "print(pd_df.loc[1,'b'])\n",
    "alt_df[1,'b']"
   ]
  },
  {
   "cell_type": "code",
   "execution_count": 17,
   "metadata": {},
   "outputs": [
    {
     "name": "stdout",
     "output_type": "stream",
     "text": [
      "0       c\n",
      "2    None\n",
      "Name: b, dtype: object\n"
     ]
    },
    {
     "data": {
      "text/html": [
       "<table><thead><tr><th></th><th>b         </th></tr></thead><tbody><tr><td><strong>0</strong></td><td>c         </td></tr><tr><td><strong>1</strong></td><td>None      </td></tr></tbody></table>"
      ],
      "text/plain": [
       "<analytica.DataFrame at 0x7fa270715a90>"
      ]
     },
     "execution_count": 17,
     "metadata": {},
     "output_type": "execute_result"
    }
   ],
   "source": [
    "print(pd_df.loc[d, 'b'])\n",
    "alt_df[alt.DataFrame({'d': d}), 'b']"
   ]
  },
  {
   "cell_type": "markdown",
   "metadata": {},
   "source": [
    "# Row, Col Indexing"
   ]
  },
  {
   "cell_type": "code",
   "execution_count": 18,
   "metadata": {},
   "outputs": [
    {
     "name": "stdout",
     "output_type": "stream",
     "text": [
      "1       d\n",
      "2    None\n",
      "Name: b, dtype: object\n"
     ]
    },
    {
     "data": {
      "text/html": [
       "<table><thead><tr><th></th><th>b         </th></tr></thead><tbody><tr><td><strong>0</strong></td><td>d         </td></tr><tr><td><strong>1</strong></td><td>None      </td></tr></tbody></table>"
      ],
      "text/plain": [
       "<analytica.DataFrame at 0x7fa270715c10>"
      ]
     },
     "execution_count": 18,
     "metadata": {},
     "output_type": "execute_result"
    }
   ],
   "source": [
    "print(pd_df.loc[[1,2], 'b'])\n",
    "alt_df[[1,2], 'b']"
   ]
  },
  {
   "cell_type": "code",
   "execution_count": 19,
   "metadata": {},
   "outputs": [
    {
     "name": "stdout",
     "output_type": "stream",
     "text": [
      "1       d\n",
      "2    None\n",
      "Name: b, dtype: object\n"
     ]
    },
    {
     "data": {
      "text/html": [
       "<table><thead><tr><th></th><th>b         </th></tr></thead><tbody><tr><td><strong>0</strong></td><td>d         </td></tr><tr><td><strong>1</strong></td><td>None      </td></tr></tbody></table>"
      ],
      "text/plain": [
       "<analytica.DataFrame at 0x7fa29847f3d0>"
      ]
     },
     "execution_count": 19,
     "metadata": {},
     "output_type": "execute_result"
    }
   ],
   "source": [
    "print(pd_df.loc[1:3, 'b'])\n",
    "alt_df[1:3, 'b']"
   ]
  },
  {
   "cell_type": "code",
   "execution_count": 20,
   "metadata": {},
   "outputs": [
    {
     "name": "stdout",
     "output_type": "stream",
     "text": [
      "   a     b         c\n",
      "1  b     d  0.757774\n",
      "2  c  None  0.811543\n"
     ]
    },
    {
     "data": {
      "text/html": [
       "<table><thead><tr><th></th><th>a         </th><th>b         </th><th>c         </th></tr></thead><tbody><tr><td><strong>0</strong></td><td>b         </td><td>d         </td><td>     0.758</td></tr><tr><td><strong>1</strong></td><td>c         </td><td>None      </td><td>     0.812</td></tr></tbody></table>"
      ],
      "text/plain": [
       "<analytica.DataFrame at 0x7fa2707752d0>"
      ]
     },
     "execution_count": 20,
     "metadata": {},
     "output_type": "execute_result"
    }
   ],
   "source": [
    "print(pd_df.loc[1:3, ['a','b','c']])\n",
    "alt_df[1:3, ['a','b','c']]"
   ]
  },
  {
   "cell_type": "code",
   "execution_count": 21,
   "metadata": {},
   "outputs": [
    {
     "name": "stdout",
     "output_type": "stream",
     "text": [
      "   a     b         c\n",
      "1  b     d  0.757774\n",
      "2  c  None  0.811543\n"
     ]
    },
    {
     "data": {
      "text/html": [
       "<table><thead><tr><th></th><th>a         </th><th>b         </th><th>c         </th></tr></thead><tbody><tr><td><strong>0</strong></td><td>b         </td><td>d         </td><td>     0.758</td></tr><tr><td><strong>1</strong></td><td>c         </td><td>None      </td><td>     0.812</td></tr></tbody></table>"
      ],
      "text/plain": [
       "<analytica.DataFrame at 0x7fa27075fd90>"
      ]
     },
     "execution_count": 21,
     "metadata": {},
     "output_type": "execute_result"
    }
   ],
   "source": [
    "print(pd_df.iloc[1:3, [0,1,2]])\n",
    "alt_df[1:3, [0,1,2]]"
   ]
  },
  {
   "cell_type": "code",
   "execution_count": 22,
   "metadata": {},
   "outputs": [
    {
     "data": {
      "text/html": [
       "<table><thead><tr><th></th><th>a         </th><th>b         </th><th>c         </th></tr></thead><tbody><tr><td><strong>0</strong></td><td>b         </td><td>d         </td><td>     0.758</td></tr><tr><td><strong>1</strong></td><td>c         </td><td>None      </td><td>     0.812</td></tr></tbody></table>"
      ],
      "text/plain": [
       "<analytica.DataFrame at 0x7fa270723210>"
      ]
     },
     "execution_count": 22,
     "metadata": {},
     "output_type": "execute_result"
    }
   ],
   "source": [
    "alt_df[1:3, ['a',1,2]]"
   ]
  },
  {
   "cell_type": "code",
   "execution_count": 23,
   "metadata": {},
   "outputs": [
    {
     "name": "stdout",
     "output_type": "stream",
     "text": [
      "   a     b         c\n",
      "1  b     d  0.757774\n",
      "2  c  None  0.811543\n"
     ]
    },
    {
     "data": {
      "text/html": [
       "<table><thead><tr><th></th><th>a         </th><th>b         </th><th>c         </th></tr></thead><tbody><tr><td><strong>0</strong></td><td>b         </td><td>d         </td><td>     0.758</td></tr><tr><td><strong>1</strong></td><td>c         </td><td>None      </td><td>     0.812</td></tr></tbody></table>"
      ],
      "text/plain": [
       "<analytica.DataFrame at 0x7fa2707c4c90>"
      ]
     },
     "execution_count": 23,
     "metadata": {},
     "output_type": "execute_result"
    }
   ],
   "source": [
    "print(pd_df.loc[1:3, 'a':'c'])\n",
    "alt_df[1:3, 'a':'c']"
   ]
  },
  {
   "cell_type": "code",
   "execution_count": 24,
   "metadata": {},
   "outputs": [
    {
     "name": "stdout",
     "output_type": "stream",
     "text": [
      "   a     b         c\n",
      "1  b     d  0.757774\n",
      "2  c  None  0.811543\n"
     ]
    },
    {
     "data": {
      "text/html": [
       "<table><thead><tr><th></th><th>a         </th><th>b         </th><th>c         </th></tr></thead><tbody><tr><td><strong>0</strong></td><td>b         </td><td>d         </td><td>     0.758</td></tr><tr><td><strong>1</strong></td><td>c         </td><td>None      </td><td>     0.812</td></tr></tbody></table>"
      ],
      "text/plain": [
       "<analytica.DataFrame at 0x7fa270775990>"
      ]
     },
     "execution_count": 24,
     "metadata": {},
     "output_type": "execute_result"
    }
   ],
   "source": [
    "print(pd_df.iloc[1:3, :3])\n",
    "alt_df[1:3, :3]"
   ]
  },
  {
   "cell_type": "markdown",
   "metadata": {},
   "source": [
    "# Row Indexing"
   ]
  },
  {
   "cell_type": "code",
   "execution_count": 25,
   "metadata": {},
   "outputs": [
    {
     "name": "stdout",
     "output_type": "stream",
     "text": [
      "a           b\n",
      "b           d\n",
      "c    0.757774\n",
      "d       False\n",
      "e           2\n",
      "f         NaN\n",
      "Name: 1, dtype: object\n"
     ]
    },
    {
     "data": {
      "text/html": [
       "<table><thead><tr><th></th><th>a         </th><th>b         </th><th>c         </th><th>d         </th><th>e         </th><th>f         </th></tr></thead><tbody><tr><td><strong>0</strong></td><td>b         </td><td>d         </td><td>     0.758</td><td>False</td><td>         2</td><td>       nan</td></tr></tbody></table>"
      ],
      "text/plain": [
       "<analytica.DataFrame at 0x7fa270715090>"
      ]
     },
     "execution_count": 25,
     "metadata": {},
     "output_type": "execute_result"
    }
   ],
   "source": [
    "print(pd_df.iloc[1])\n",
    "alt_df[1]"
   ]
  },
  {
   "cell_type": "code",
   "execution_count": 26,
   "metadata": {},
   "outputs": [
    {
     "name": "stdout",
     "output_type": "stream",
     "text": [
      "   a     b         c      d  e    f\n",
      "1  b     d  0.757774  False  2  NaN\n",
      "2  c  None  0.811543   True  3  5.1\n"
     ]
    },
    {
     "data": {
      "text/html": [
       "<table><thead><tr><th></th><th>a         </th><th>b         </th><th>c         </th><th>d         </th><th>e         </th><th>f         </th></tr></thead><tbody><tr><td><strong>0</strong></td><td>b         </td><td>d         </td><td>     0.758</td><td>False</td><td>         2</td><td>       nan</td></tr><tr><td><strong>1</strong></td><td>c         </td><td>None      </td><td>     0.812</td><td>True</td><td>         3</td><td>     5.100</td></tr></tbody></table>"
      ],
      "text/plain": [
       "<analytica.DataFrame at 0x7fa270715d90>"
      ]
     },
     "execution_count": 26,
     "metadata": {},
     "output_type": "execute_result"
    }
   ],
   "source": [
    "print(pd_df.iloc[[1,2]])\n",
    "alt_df[[1,2]]"
   ]
  },
  {
   "cell_type": "code",
   "execution_count": 27,
   "metadata": {},
   "outputs": [
    {
     "name": "stdout",
     "output_type": "stream",
     "text": [
      "   a     b         c      d  e    f\n",
      "1  b     d  0.757774  False  2  NaN\n",
      "2  c  None  0.811543   True  3  5.1\n"
     ]
    },
    {
     "data": {
      "text/html": [
       "<table><thead><tr><th></th><th>a         </th><th>b         </th><th>c         </th><th>d         </th><th>e         </th><th>f         </th></tr></thead><tbody><tr><td><strong>0</strong></td><td>b         </td><td>d         </td><td>     0.758</td><td>False</td><td>         2</td><td>       nan</td></tr><tr><td><strong>1</strong></td><td>c         </td><td>None      </td><td>     0.812</td><td>True</td><td>         3</td><td>     5.100</td></tr></tbody></table>"
      ],
      "text/plain": [
       "<analytica.DataFrame at 0x7fa2707dc7d0>"
      ]
     },
     "execution_count": 27,
     "metadata": {},
     "output_type": "execute_result"
    }
   ],
   "source": [
    "print(pd_df.iloc[1:3])\n",
    "alt_df[1:3]"
   ]
  },
  {
   "cell_type": "markdown",
   "metadata": {},
   "source": [
    "# Min"
   ]
  },
  {
   "cell_type": "code",
   "execution_count": 28,
   "metadata": {},
   "outputs": [
    {
     "name": "stdout",
     "output_type": "stream",
     "text": [
      "a           a\n",
      "c    0.234423\n",
      "d       False\n",
      "e           1\n",
      "f         3.4\n",
      "dtype: object\n"
     ]
    },
    {
     "data": {
      "text/html": [
       "<table><thead><tr><th></th><th>a         </th><th>c         </th><th>d         </th><th>e         </th><th>f         </th></tr></thead><tbody><tr><td><strong>0</strong></td><td>a         </td><td>     0.234</td><td>False</td><td>         1</td><td>     3.400</td></tr></tbody></table>"
      ],
      "text/plain": [
       "<analytica.DataFrame at 0x7fa270723390>"
      ]
     },
     "execution_count": 28,
     "metadata": {},
     "output_type": "execute_result"
    }
   ],
   "source": [
    "print(pd_df.min())\n",
    "alt_df.min()"
   ]
  },
  {
   "cell_type": "code",
   "execution_count": 29,
   "metadata": {},
   "outputs": [
    {
     "name": "stdout",
     "output_type": "stream",
     "text": [
      "0    0.234423\n",
      "1    0.000000\n",
      "2    0.811543\n",
      "dtype: float64\n"
     ]
    },
    {
     "data": {
      "text/html": [
       "<table><thead><tr><th></th><th>min       </th></tr></thead><tbody><tr><td><strong>0</strong></td><td>     0.234</td></tr><tr><td><strong>1</strong></td><td>     0.000</td></tr><tr><td><strong>2</strong></td><td>     0.812</td></tr></tbody></table>"
      ],
      "text/plain": [
       "<analytica.DataFrame at 0x7fa2707234d0>"
      ]
     },
     "execution_count": 29,
     "metadata": {},
     "output_type": "execute_result"
    }
   ],
   "source": [
    "print(pd_df.min(axis=1))\n",
    "alt_df.min(axis=1)"
   ]
  },
  {
   "cell_type": "code",
   "execution_count": 30,
   "metadata": {},
   "outputs": [
    {
     "name": "stdout",
     "output_type": "stream",
     "text": [
      "a    a\n",
      "b    c\n",
      "c    f\n",
      "dtype: object\n"
     ]
    },
    {
     "data": {
      "text/html": [
       "<table><thead><tr><th></th><th>a         </th><th>b         </th><th>c         </th></tr></thead><tbody><tr><td><strong>0</strong></td><td>a         </td><td>c         </td><td>f         </td></tr></tbody></table>"
      ],
      "text/plain": [
       "<analytica.DataFrame at 0x7fa270743d90>"
      ]
     },
     "execution_count": 30,
     "metadata": {},
     "output_type": "execute_result"
    }
   ],
   "source": [
    "print(pd_df2.min())\n",
    "alt_df2.min()"
   ]
  },
  {
   "cell_type": "code",
   "execution_count": 31,
   "metadata": {
    "scrolled": false
   },
   "outputs": [
    {
     "name": "stdout",
     "output_type": "stream",
     "text": [
      "0   NaN\n",
      "1   NaN\n",
      "2   NaN\n",
      "dtype: float64\n"
     ]
    },
    {
     "data": {
      "text/html": [
       "<table><thead><tr><th></th><th>min       </th></tr></thead><tbody><tr><td><strong>0</strong></td><td>       nan</td></tr><tr><td><strong>1</strong></td><td>       nan</td></tr><tr><td><strong>2</strong></td><td>       nan</td></tr></tbody></table>"
      ],
      "text/plain": [
       "<analytica.DataFrame at 0x7fa2707560d0>"
      ]
     },
     "execution_count": 31,
     "metadata": {},
     "output_type": "execute_result"
    }
   ],
   "source": [
    "print(pd_df2.min(axis=1))\n",
    "alt_df2.min(axis=1)"
   ]
  },
  {
   "cell_type": "code",
   "execution_count": 32,
   "metadata": {},
   "outputs": [
    {
     "name": "stdout",
     "output_type": "stream",
     "text": [
      "a    a\n",
      "b    c\n",
      "c    f\n",
      "dtype: object\n"
     ]
    },
    {
     "data": {
      "text/html": [
       "<table><thead><tr><th></th><th>a         </th><th>b         </th><th>c         </th></tr></thead><tbody><tr><td><strong>0</strong></td><td>a         </td><td>c         </td><td>f         </td></tr></tbody></table>"
      ],
      "text/plain": [
       "<analytica.DataFrame at 0x7fa270775050>"
      ]
     },
     "execution_count": 32,
     "metadata": {},
     "output_type": "execute_result"
    }
   ],
   "source": [
    "print(pd_df2[['a','b','c']].min())\n",
    "alt_df2[['a','b','c']].min()"
   ]
  },
  {
   "cell_type": "code",
   "execution_count": 33,
   "metadata": {},
   "outputs": [
    {
     "name": "stdout",
     "output_type": "stream",
     "text": [
      "0    a\n",
      "1    b\n",
      "2    c\n",
      "dtype: object\n"
     ]
    },
    {
     "data": {
      "text/html": [
       "<table><thead><tr><th></th><th>min       </th></tr></thead><tbody><tr><td><strong>0</strong></td><td>a         </td></tr><tr><td><strong>1</strong></td><td>b         </td></tr><tr><td><strong>2</strong></td><td>c         </td></tr></tbody></table>"
      ],
      "text/plain": [
       "<analytica.DataFrame at 0x7fa270775590>"
      ]
     },
     "execution_count": 33,
     "metadata": {},
     "output_type": "execute_result"
    }
   ],
   "source": [
    "print(pd_df2[['a','b','c']].min(axis=1))\n",
    "alt_df2[['a','b','c']].min(axis=1)"
   ]
  },
  {
   "cell_type": "markdown",
   "metadata": {},
   "source": [
    "# Max"
   ]
  },
  {
   "cell_type": "code",
   "execution_count": 34,
   "metadata": {},
   "outputs": [
    {
     "name": "stdout",
     "output_type": "stream",
     "text": [
      "a           c\n",
      "c    0.811543\n",
      "d        True\n",
      "e           3\n",
      "f         5.1\n",
      "dtype: object\n"
     ]
    },
    {
     "data": {
      "text/html": [
       "<table><thead><tr><th></th><th>a         </th><th>c         </th><th>d         </th><th>e         </th><th>f         </th></tr></thead><tbody><tr><td><strong>0</strong></td><td>c         </td><td>     0.812</td><td>True</td><td>         3</td><td>     5.100</td></tr></tbody></table>"
      ],
      "text/plain": [
       "<analytica.DataFrame at 0x7fa2706d4b50>"
      ]
     },
     "execution_count": 34,
     "metadata": {},
     "output_type": "execute_result"
    }
   ],
   "source": [
    "print(pd_df.max())\n",
    "alt_df.max()"
   ]
  },
  {
   "cell_type": "code",
   "execution_count": 35,
   "metadata": {},
   "outputs": [
    {
     "name": "stdout",
     "output_type": "stream",
     "text": [
      "0    3.4\n",
      "1    2.0\n",
      "2    5.1\n",
      "dtype: float64\n"
     ]
    },
    {
     "data": {
      "text/html": [
       "<table><thead><tr><th></th><th>max       </th></tr></thead><tbody><tr><td><strong>0</strong></td><td>     3.400</td></tr><tr><td><strong>1</strong></td><td>     2.000</td></tr><tr><td><strong>2</strong></td><td>     5.100</td></tr></tbody></table>"
      ],
      "text/plain": [
       "<analytica.DataFrame at 0x7fa2706d4950>"
      ]
     },
     "execution_count": 35,
     "metadata": {},
     "output_type": "execute_result"
    }
   ],
   "source": [
    "print(pd_df.max(axis=1))\n",
    "alt_df.max(axis=1)"
   ]
  },
  {
   "cell_type": "code",
   "execution_count": 36,
   "metadata": {},
   "outputs": [
    {
     "name": "stdout",
     "output_type": "stream",
     "text": [
      "a    c\n",
      "b    e\n",
      "c    h\n",
      "dtype: object\n"
     ]
    },
    {
     "data": {
      "text/html": [
       "<table><thead><tr><th></th><th>a         </th><th>b         </th><th>c         </th></tr></thead><tbody><tr><td><strong>0</strong></td><td>c         </td><td>e         </td><td>h         </td></tr></tbody></table>"
      ],
      "text/plain": [
       "<analytica.DataFrame at 0x7fa2706d9e90>"
      ]
     },
     "execution_count": 36,
     "metadata": {},
     "output_type": "execute_result"
    }
   ],
   "source": [
    "print(pd_df2.max())\n",
    "alt_df2.max()"
   ]
  },
  {
   "cell_type": "code",
   "execution_count": 37,
   "metadata": {},
   "outputs": [
    {
     "name": "stdout",
     "output_type": "stream",
     "text": [
      "0   NaN\n",
      "1   NaN\n",
      "2   NaN\n",
      "dtype: float64\n"
     ]
    },
    {
     "data": {
      "text/html": [
       "<table><thead><tr><th></th><th>max       </th></tr></thead><tbody><tr><td><strong>0</strong></td><td>       nan</td></tr><tr><td><strong>1</strong></td><td>       nan</td></tr><tr><td><strong>2</strong></td><td>       nan</td></tr></tbody></table>"
      ],
      "text/plain": [
       "<analytica.DataFrame at 0x7fa2706d9dd0>"
      ]
     },
     "execution_count": 37,
     "metadata": {},
     "output_type": "execute_result"
    }
   ],
   "source": [
    "print(pd_df2.max(axis=1))\n",
    "alt_df2.max(axis=1)"
   ]
  },
  {
   "cell_type": "code",
   "execution_count": 38,
   "metadata": {},
   "outputs": [
    {
     "name": "stdout",
     "output_type": "stream",
     "text": [
      "a    c\n",
      "b    e\n",
      "c    h\n",
      "dtype: object\n"
     ]
    },
    {
     "data": {
      "text/html": [
       "<table><thead><tr><th></th><th>a         </th><th>b         </th><th>c         </th></tr></thead><tbody><tr><td><strong>0</strong></td><td>c         </td><td>e         </td><td>h         </td></tr></tbody></table>"
      ],
      "text/plain": [
       "<analytica.DataFrame at 0x7fa27070e950>"
      ]
     },
     "execution_count": 38,
     "metadata": {},
     "output_type": "execute_result"
    }
   ],
   "source": [
    "print(pd_df2[['a','b','c']].max())\n",
    "alt_df2[['a','b','c']].max()"
   ]
  },
  {
   "cell_type": "code",
   "execution_count": 39,
   "metadata": {},
   "outputs": [
    {
     "name": "stdout",
     "output_type": "stream",
     "text": [
      "0    f\n",
      "1    g\n",
      "2    h\n",
      "dtype: object\n"
     ]
    },
    {
     "data": {
      "text/html": [
       "<table><thead><tr><th></th><th>max       </th></tr></thead><tbody><tr><td><strong>0</strong></td><td>f         </td></tr><tr><td><strong>1</strong></td><td>g         </td></tr><tr><td><strong>2</strong></td><td>h         </td></tr></tbody></table>"
      ],
      "text/plain": [
       "<analytica.DataFrame at 0x7fa2706e0ed0>"
      ]
     },
     "execution_count": 39,
     "metadata": {},
     "output_type": "execute_result"
    }
   ],
   "source": [
    "print(pd_df2[['a','b','c']].max(axis=1))\n",
    "alt_df2[['a','b','c']].max(axis=1)"
   ]
  },
  {
   "cell_type": "markdown",
   "metadata": {},
   "source": [
    "# Mean"
   ]
  },
  {
   "cell_type": "code",
   "execution_count": 40,
   "metadata": {},
   "outputs": [
    {
     "name": "stdout",
     "output_type": "stream",
     "text": [
      "c    0.601247\n",
      "d    0.666667\n",
      "e    2.000000\n",
      "f    4.250000\n",
      "dtype: float64\n"
     ]
    },
    {
     "data": {
      "text/html": [
       "<table><thead><tr><th></th><th>c         </th><th>d         </th><th>e         </th><th>f         </th></tr></thead><tbody><tr><td><strong>0</strong></td><td>     0.601</td><td>     0.667</td><td>     2.000</td><td>     4.250</td></tr></tbody></table>"
      ],
      "text/plain": [
       "<analytica.DataFrame at 0x7fa2706e0f10>"
      ]
     },
     "execution_count": 40,
     "metadata": {},
     "output_type": "execute_result"
    }
   ],
   "source": [
    "print(pd_df.mean())\n",
    "alt_df.mean()"
   ]
  },
  {
   "cell_type": "code",
   "execution_count": 41,
   "metadata": {},
   "outputs": [
    {
     "name": "stdout",
     "output_type": "stream",
     "text": [
      "0    1.408606\n",
      "1    0.919258\n",
      "2    2.477886\n",
      "dtype: float64\n"
     ]
    },
    {
     "data": {
      "text/html": [
       "<table><thead><tr><th></th><th>mean      </th></tr></thead><tbody><tr><td><strong>0</strong></td><td>     1.409</td></tr><tr><td><strong>1</strong></td><td>     0.919</td></tr><tr><td><strong>2</strong></td><td>     2.478</td></tr></tbody></table>"
      ],
      "text/plain": [
       "<analytica.DataFrame at 0x7fa27070ec90>"
      ]
     },
     "execution_count": 41,
     "metadata": {},
     "output_type": "execute_result"
    }
   ],
   "source": [
    "print(pd_df.mean(axis=1))\n",
    "alt_df.mean(axis=1)"
   ]
  },
  {
   "cell_type": "code",
   "execution_count": 42,
   "metadata": {},
   "outputs": [
    {
     "name": "stdout",
     "output_type": "stream",
     "text": [
      "Series([], dtype: float64)\n"
     ]
    },
    {
     "data": {
      "text/plain": [
       "[]"
      ]
     },
     "execution_count": 42,
     "metadata": {},
     "output_type": "execute_result"
    }
   ],
   "source": [
    "print(pd_df2.mean())\n",
    "alt_df2.mean()"
   ]
  },
  {
   "cell_type": "code",
   "execution_count": 43,
   "metadata": {},
   "outputs": [
    {
     "name": "stdout",
     "output_type": "stream",
     "text": [
      "0   NaN\n",
      "1   NaN\n",
      "2   NaN\n",
      "dtype: float64\n"
     ]
    },
    {
     "data": {
      "text/html": [
       "<table><thead><tr><th></th><th>mean      </th></tr></thead><tbody><tr><td><strong>0</strong></td><td>       nan</td></tr><tr><td><strong>1</strong></td><td>       nan</td></tr><tr><td><strong>2</strong></td><td>       nan</td></tr></tbody></table>"
      ],
      "text/plain": [
       "<analytica.DataFrame at 0x7fa2706d4890>"
      ]
     },
     "execution_count": 43,
     "metadata": {},
     "output_type": "execute_result"
    }
   ],
   "source": [
    "print(pd_df2.mean(axis=1))\n",
    "alt_df2.mean(axis=1)"
   ]
  },
  {
   "cell_type": "markdown",
   "metadata": {},
   "source": [
    "# Median"
   ]
  },
  {
   "cell_type": "code",
   "execution_count": 44,
   "metadata": {},
   "outputs": [
    {
     "name": "stdout",
     "output_type": "stream",
     "text": [
      "c    0.757774\n",
      "d    1.000000\n",
      "e    2.000000\n",
      "f    4.250000\n",
      "dtype: float64\n"
     ]
    },
    {
     "data": {
      "text/html": [
       "<table><thead><tr><th></th><th>c         </th><th>d         </th><th>e         </th><th>f         </th></tr></thead><tbody><tr><td><strong>0</strong></td><td>     0.758</td><td>     1.000</td><td>     2.000</td><td>     4.250</td></tr></tbody></table>"
      ],
      "text/plain": [
       "<analytica.DataFrame at 0x7fa2707dc9d0>"
      ]
     },
     "execution_count": 44,
     "metadata": {},
     "output_type": "execute_result"
    }
   ],
   "source": [
    "print(pd_df.median())\n",
    "alt_df.median()"
   ]
  },
  {
   "cell_type": "code",
   "execution_count": 45,
   "metadata": {},
   "outputs": [
    {
     "name": "stdout",
     "output_type": "stream",
     "text": [
      "0    1.000000\n",
      "1    0.757774\n",
      "2    2.000000\n",
      "dtype: float64\n"
     ]
    },
    {
     "data": {
      "text/html": [
       "<table><thead><tr><th></th><th>median    </th></tr></thead><tbody><tr><td><strong>0</strong></td><td>     1.000</td></tr><tr><td><strong>1</strong></td><td>     0.758</td></tr><tr><td><strong>2</strong></td><td>     2.000</td></tr></tbody></table>"
      ],
      "text/plain": [
       "<analytica.DataFrame at 0x7fa270743550>"
      ]
     },
     "execution_count": 45,
     "metadata": {},
     "output_type": "execute_result"
    }
   ],
   "source": [
    "print(pd_df.median(axis=1))\n",
    "alt_df.median(axis=1)"
   ]
  },
  {
   "cell_type": "code",
   "execution_count": 46,
   "metadata": {},
   "outputs": [
    {
     "name": "stdout",
     "output_type": "stream",
     "text": [
      "Series([], dtype: float64)\n"
     ]
    },
    {
     "data": {
      "text/plain": [
       "[]"
      ]
     },
     "execution_count": 46,
     "metadata": {},
     "output_type": "execute_result"
    }
   ],
   "source": [
    "print(pd_df2.median())\n",
    "alt_df2.median()"
   ]
  },
  {
   "cell_type": "code",
   "execution_count": 47,
   "metadata": {},
   "outputs": [
    {
     "name": "stdout",
     "output_type": "stream",
     "text": [
      "0   NaN\n",
      "1   NaN\n",
      "2   NaN\n",
      "dtype: float64\n"
     ]
    },
    {
     "data": {
      "text/html": [
       "<table><thead><tr><th></th><th>median    </th></tr></thead><tbody><tr><td><strong>0</strong></td><td>       nan</td></tr><tr><td><strong>1</strong></td><td>       nan</td></tr><tr><td><strong>2</strong></td><td>       nan</td></tr></tbody></table>"
      ],
      "text/plain": [
       "<analytica.DataFrame at 0x7fa2706e9e90>"
      ]
     },
     "execution_count": 47,
     "metadata": {},
     "output_type": "execute_result"
    }
   ],
   "source": [
    "print(pd_df2.median(axis=1))\n",
    "alt_df2.median(axis=1)"
   ]
  },
  {
   "cell_type": "markdown",
   "metadata": {},
   "source": [
    "# Sum"
   ]
  },
  {
   "cell_type": "code",
   "execution_count": 48,
   "metadata": {},
   "outputs": [
    {
     "name": "stdout",
     "output_type": "stream",
     "text": [
      "a        abc\n",
      "c    1.80374\n",
      "d          2\n",
      "e          6\n",
      "f        8.5\n",
      "dtype: object\n"
     ]
    },
    {
     "data": {
      "text/html": [
       "<table><thead><tr><th></th><th>a         </th><th>c         </th><th>d         </th><th>e         </th><th>f         </th></tr></thead><tbody><tr><td><strong>0</strong></td><td>abc       </td><td>     1.804</td><td>         2</td><td>         6</td><td>     8.500</td></tr></tbody></table>"
      ],
      "text/plain": [
       "<analytica.DataFrame at 0x7fa2706e9810>"
      ]
     },
     "execution_count": 48,
     "metadata": {},
     "output_type": "execute_result"
    }
   ],
   "source": [
    "print(pd_df.sum())\n",
    "alt_df.sum()"
   ]
  },
  {
   "cell_type": "code",
   "execution_count": 49,
   "metadata": {},
   "outputs": [
    {
     "name": "stdout",
     "output_type": "stream",
     "text": [
      "0    5.634423\n",
      "1    2.757774\n",
      "2    9.911543\n",
      "dtype: float64\n"
     ]
    },
    {
     "data": {
      "text/html": [
       "<table><thead><tr><th></th><th>sum       </th></tr></thead><tbody><tr><td><strong>0</strong></td><td>     5.634</td></tr><tr><td><strong>1</strong></td><td>     2.758</td></tr><tr><td><strong>2</strong></td><td>     9.912</td></tr></tbody></table>"
      ],
      "text/plain": [
       "<analytica.DataFrame at 0x7fa2706ecc50>"
      ]
     },
     "execution_count": 49,
     "metadata": {},
     "output_type": "execute_result"
    }
   ],
   "source": [
    "print(pd_df.sum(axis=1))\n",
    "alt_df.sum(axis=1)"
   ]
  },
  {
   "cell_type": "code",
   "execution_count": 50,
   "metadata": {},
   "outputs": [
    {
     "name": "stdout",
     "output_type": "stream",
     "text": [
      "a    abc\n",
      "b    cde\n",
      "c    fgh\n",
      "dtype: object\n"
     ]
    },
    {
     "data": {
      "text/html": [
       "<table><thead><tr><th></th><th>a         </th><th>b         </th><th>c         </th></tr></thead><tbody><tr><td><strong>0</strong></td><td>abc       </td><td>cde       </td><td>fgh       </td></tr></tbody></table>"
      ],
      "text/plain": [
       "<analytica.DataFrame at 0x7fa2706f0a10>"
      ]
     },
     "execution_count": 50,
     "metadata": {},
     "output_type": "execute_result"
    }
   ],
   "source": [
    "print(pd_df2.sum())\n",
    "alt_df2.sum()"
   ]
  },
  {
   "cell_type": "code",
   "execution_count": 51,
   "metadata": {},
   "outputs": [
    {
     "name": "stdout",
     "output_type": "stream",
     "text": [
      "0    0.0\n",
      "1    0.0\n",
      "2    0.0\n",
      "dtype: float64\n"
     ]
    },
    {
     "data": {
      "text/html": [
       "<table><thead><tr><th></th><th>sum       </th></tr></thead><tbody><tr><td><strong>0</strong></td><td>       nan</td></tr><tr><td><strong>1</strong></td><td>       nan</td></tr><tr><td><strong>2</strong></td><td>       nan</td></tr></tbody></table>"
      ],
      "text/plain": [
       "<analytica.DataFrame at 0x7fa2706f0990>"
      ]
     },
     "execution_count": 51,
     "metadata": {},
     "output_type": "execute_result"
    }
   ],
   "source": [
    "print(pd_df2.sum(axis=1))\n",
    "alt_df2.sum(axis=1)"
   ]
  },
  {
   "cell_type": "markdown",
   "metadata": {},
   "source": [
    "# ArgMax"
   ]
  },
  {
   "cell_type": "code",
   "execution_count": 52,
   "metadata": {},
   "outputs": [
    {
     "name": "stdout",
     "output_type": "stream",
     "text": [
      "   a     b         c      d  e    f\n",
      "0  a     c  0.234423   True  1  3.4\n",
      "1  b     d  0.757774  False  2  NaN\n",
      "2  c  None  0.811543   True  3  5.1\n"
     ]
    },
    {
     "data": {
      "text/html": [
       "<table><thead><tr><th></th><th>a         </th><th>c         </th><th>d         </th><th>e         </th><th>f         </th></tr></thead><tbody><tr><td><strong>0</strong></td><td>         2</td><td>         2</td><td>         0</td><td>         2</td><td>         2</td></tr></tbody></table>"
      ],
      "text/plain": [
       "<analytica.DataFrame at 0x7fa270743790>"
      ]
     },
     "execution_count": 52,
     "metadata": {},
     "output_type": "execute_result"
    }
   ],
   "source": [
    "print(pd_df)\n",
    "alt_df.argmax()"
   ]
  },
  {
   "cell_type": "code",
   "execution_count": 53,
   "metadata": {},
   "outputs": [
    {
     "name": "stdout",
     "output_type": "stream",
     "text": [
      "   a  b  c     d     e     f\n",
      "0  a  c  f     i     k     m\n",
      "1  b  d  g     j  None     n\n",
      "2  c  e  h  None     l  None\n"
     ]
    },
    {
     "data": {
      "text/html": [
       "<table><thead><tr><th></th><th>a         </th><th>b         </th><th>c         </th></tr></thead><tbody><tr><td><strong>0</strong></td><td>         2</td><td>         2</td><td>         2</td></tr></tbody></table>"
      ],
      "text/plain": [
       "<analytica.DataFrame at 0x7fa27077ced0>"
      ]
     },
     "execution_count": 53,
     "metadata": {},
     "output_type": "execute_result"
    }
   ],
   "source": [
    "print(pd_df2)\n",
    "alt_df2.argmax()"
   ]
  },
  {
   "cell_type": "markdown",
   "metadata": {},
   "source": [
    "# ArgMin"
   ]
  },
  {
   "cell_type": "code",
   "execution_count": 54,
   "metadata": {},
   "outputs": [
    {
     "name": "stdout",
     "output_type": "stream",
     "text": [
      "   a     b         c      d  e    f\n",
      "0  a     c  0.234423   True  1  3.4\n",
      "1  b     d  0.757774  False  2  NaN\n",
      "2  c  None  0.811543   True  3  5.1\n"
     ]
    },
    {
     "data": {
      "text/html": [
       "<table><thead><tr><th></th><th>a         </th><th>c         </th><th>d         </th><th>e         </th><th>f         </th></tr></thead><tbody><tr><td><strong>0</strong></td><td>         0</td><td>         0</td><td>         1</td><td>         0</td><td>         0</td></tr></tbody></table>"
      ],
      "text/plain": [
       "<analytica.DataFrame at 0x7fa2706d9310>"
      ]
     },
     "execution_count": 54,
     "metadata": {},
     "output_type": "execute_result"
    }
   ],
   "source": [
    "print(pd_df)\n",
    "alt_df.argmin()"
   ]
  },
  {
   "cell_type": "code",
   "execution_count": 55,
   "metadata": {},
   "outputs": [
    {
     "name": "stdout",
     "output_type": "stream",
     "text": [
      "   a  b  c     d     e     f\n",
      "0  a  c  f     i     k     m\n",
      "1  b  d  g     j  None     n\n",
      "2  c  e  h  None     l  None\n"
     ]
    },
    {
     "data": {
      "text/html": [
       "<table><thead><tr><th></th><th>a         </th><th>b         </th><th>c         </th></tr></thead><tbody><tr><td><strong>0</strong></td><td>         0</td><td>         0</td><td>         0</td></tr></tbody></table>"
      ],
      "text/plain": [
       "<analytica.DataFrame at 0x7fa2706e0a10>"
      ]
     },
     "execution_count": 55,
     "metadata": {},
     "output_type": "execute_result"
    }
   ],
   "source": [
    "print(pd_df2)\n",
    "alt_df2.argmin()"
   ]
  },
  {
   "cell_type": "markdown",
   "metadata": {},
   "source": [
    "# All"
   ]
  },
  {
   "cell_type": "code",
   "execution_count": 56,
   "metadata": {},
   "outputs": [
    {
     "name": "stdout",
     "output_type": "stream",
     "text": [
      "a     True\n",
      "b     True\n",
      "c     True\n",
      "d    False\n",
      "e     True\n",
      "f     True\n",
      "dtype: bool\n"
     ]
    },
    {
     "data": {
      "text/html": [
       "<table><thead><tr><th></th><th>a         </th><th>b         </th><th>c         </th><th>d         </th><th>e         </th><th>f         </th></tr></thead><tbody><tr><td><strong>0</strong></td><td>True</td><td>True</td><td>True</td><td>False</td><td>True</td><td>True</td></tr></tbody></table>"
      ],
      "text/plain": [
       "<analytica.DataFrame at 0x7fa2706e0290>"
      ]
     },
     "execution_count": 56,
     "metadata": {},
     "output_type": "execute_result"
    }
   ],
   "source": [
    "print(pd_df.all())\n",
    "alt_df.all()"
   ]
  },
  {
   "cell_type": "code",
   "execution_count": 57,
   "metadata": {},
   "outputs": [
    {
     "name": "stdout",
     "output_type": "stream",
     "text": [
      "0     True\n",
      "1    False\n",
      "2     True\n",
      "dtype: bool\n"
     ]
    },
    {
     "data": {
      "text/html": [
       "<table><thead><tr><th></th><th>all       </th></tr></thead><tbody><tr><td><strong>0</strong></td><td>True</td></tr><tr><td><strong>1</strong></td><td>False</td></tr><tr><td><strong>2</strong></td><td>True</td></tr></tbody></table>"
      ],
      "text/plain": [
       "<analytica.DataFrame at 0x7fa2706efc50>"
      ]
     },
     "execution_count": 57,
     "metadata": {},
     "output_type": "execute_result"
    }
   ],
   "source": [
    "print(pd_df.all(axis=1))\n",
    "alt_df.all(axis=1)"
   ]
  },
  {
   "cell_type": "code",
   "execution_count": 58,
   "metadata": {},
   "outputs": [
    {
     "name": "stdout",
     "output_type": "stream",
     "text": [
      "a    True\n",
      "b    True\n",
      "c    True\n",
      "d    True\n",
      "e    True\n",
      "f    True\n",
      "dtype: bool\n"
     ]
    },
    {
     "data": {
      "text/html": [
       "<table><thead><tr><th></th><th>a         </th><th>b         </th><th>c         </th><th>d         </th><th>e         </th><th>f         </th></tr></thead><tbody><tr><td><strong>0</strong></td><td>True</td><td>True</td><td>True</td><td>True</td><td>True</td><td>True</td></tr></tbody></table>"
      ],
      "text/plain": [
       "<analytica.DataFrame at 0x7fa2706f7dd0>"
      ]
     },
     "execution_count": 58,
     "metadata": {},
     "output_type": "execute_result"
    }
   ],
   "source": [
    "print(pd_df2.all())\n",
    "alt_df2.all()"
   ]
  },
  {
   "cell_type": "code",
   "execution_count": 59,
   "metadata": {},
   "outputs": [
    {
     "name": "stdout",
     "output_type": "stream",
     "text": [
      "0    True\n",
      "1    True\n",
      "2    True\n",
      "dtype: bool\n"
     ]
    },
    {
     "data": {
      "text/html": [
       "<table><thead><tr><th></th><th>all       </th></tr></thead><tbody><tr><td><strong>0</strong></td><td>True</td></tr><tr><td><strong>1</strong></td><td>True</td></tr><tr><td><strong>2</strong></td><td>True</td></tr></tbody></table>"
      ],
      "text/plain": [
       "<analytica.DataFrame at 0x7fa2706fb950>"
      ]
     },
     "execution_count": 59,
     "metadata": {},
     "output_type": "execute_result"
    }
   ],
   "source": [
    "print(pd_df2.all(axis=1))\n",
    "alt_df2.all(axis=1)"
   ]
  },
  {
   "cell_type": "markdown",
   "metadata": {},
   "source": [
    "# Any"
   ]
  },
  {
   "cell_type": "code",
   "execution_count": 60,
   "metadata": {},
   "outputs": [
    {
     "name": "stdout",
     "output_type": "stream",
     "text": [
      "a    True\n",
      "b    True\n",
      "c    True\n",
      "d    True\n",
      "e    True\n",
      "f    True\n",
      "dtype: bool\n"
     ]
    },
    {
     "data": {
      "text/html": [
       "<table><thead><tr><th></th><th>a         </th><th>b         </th><th>c         </th><th>d         </th><th>e         </th><th>f         </th></tr></thead><tbody><tr><td><strong>0</strong></td><td>True</td><td>True</td><td>True</td><td>True</td><td>True</td><td>True</td></tr></tbody></table>"
      ],
      "text/plain": [
       "<analytica.DataFrame at 0x7fa2706fb310>"
      ]
     },
     "execution_count": 60,
     "metadata": {},
     "output_type": "execute_result"
    }
   ],
   "source": [
    "print(pd_df.any())\n",
    "alt_df.any()"
   ]
  },
  {
   "cell_type": "code",
   "execution_count": 61,
   "metadata": {},
   "outputs": [
    {
     "name": "stdout",
     "output_type": "stream",
     "text": [
      "0    True\n",
      "1    True\n",
      "2    True\n",
      "dtype: bool\n"
     ]
    },
    {
     "data": {
      "text/html": [
       "<table><thead><tr><th></th><th>any       </th></tr></thead><tbody><tr><td><strong>0</strong></td><td>True</td></tr><tr><td><strong>1</strong></td><td>True</td></tr><tr><td><strong>2</strong></td><td>True</td></tr></tbody></table>"
      ],
      "text/plain": [
       "<analytica.DataFrame at 0x7fa2706fdcd0>"
      ]
     },
     "execution_count": 61,
     "metadata": {},
     "output_type": "execute_result"
    }
   ],
   "source": [
    "print(pd_df.any(axis=1))\n",
    "alt_df.any(axis=1)"
   ]
  },
  {
   "cell_type": "code",
   "execution_count": 62,
   "metadata": {},
   "outputs": [
    {
     "name": "stdout",
     "output_type": "stream",
     "text": [
      "a    True\n",
      "b    True\n",
      "c    True\n",
      "d    True\n",
      "e    True\n",
      "f    True\n",
      "dtype: bool\n"
     ]
    },
    {
     "data": {
      "text/html": [
       "<table><thead><tr><th></th><th>a         </th><th>b         </th><th>c         </th><th>d         </th><th>e         </th><th>f         </th></tr></thead><tbody><tr><td><strong>0</strong></td><td>True</td><td>True</td><td>True</td><td>True</td><td>True</td><td>True</td></tr></tbody></table>"
      ],
      "text/plain": [
       "<analytica.DataFrame at 0x7fa2706fb350>"
      ]
     },
     "execution_count": 62,
     "metadata": {},
     "output_type": "execute_result"
    }
   ],
   "source": [
    "print(pd_df2.any())\n",
    "alt_df2.any()"
   ]
  },
  {
   "cell_type": "code",
   "execution_count": 63,
   "metadata": {},
   "outputs": [
    {
     "name": "stdout",
     "output_type": "stream",
     "text": [
      "0    True\n",
      "1    True\n",
      "2    True\n",
      "dtype: bool\n"
     ]
    },
    {
     "data": {
      "text/html": [
       "<table><thead><tr><th></th><th>any       </th></tr></thead><tbody><tr><td><strong>0</strong></td><td>True</td></tr><tr><td><strong>1</strong></td><td>True</td></tr><tr><td><strong>2</strong></td><td>True</td></tr></tbody></table>"
      ],
      "text/plain": [
       "<analytica.DataFrame at 0x7fa2706f7550>"
      ]
     },
     "execution_count": 63,
     "metadata": {},
     "output_type": "execute_result"
    }
   ],
   "source": [
    "print(pd_df2.any(axis=1))\n",
    "alt_df2.any(axis=1)"
   ]
  },
  {
   "cell_type": "markdown",
   "metadata": {},
   "source": [
    "# Var"
   ]
  },
  {
   "cell_type": "code",
   "execution_count": 64,
   "metadata": {},
   "outputs": [
    {
     "name": "stdout",
     "output_type": "stream",
     "text": [
      "c    0.101642\n",
      "d    0.333333\n",
      "e    1.000000\n",
      "f    1.445000\n",
      "dtype: float64\n"
     ]
    },
    {
     "data": {
      "text/html": [
       "<table><thead><tr><th></th><th>c         </th><th>d         </th><th>e         </th><th>f         </th></tr></thead><tbody><tr><td><strong>0</strong></td><td>     0.102</td><td>     0.333</td><td>     1.000</td><td>     1.445</td></tr></tbody></table>"
      ],
      "text/plain": [
       "<analytica.DataFrame at 0x7fa2706f7e90>"
      ]
     },
     "execution_count": 64,
     "metadata": {},
     "output_type": "execute_result"
    }
   ],
   "source": [
    "print(pd_df.var())\n",
    "alt_df.var()"
   ]
  },
  {
   "cell_type": "code",
   "execution_count": 65,
   "metadata": {},
   "outputs": [
    {
     "name": "stdout",
     "output_type": "stream",
     "text": [
      "0    1.892758\n",
      "1    1.019558\n",
      "2    4.036310\n",
      "dtype: float64\n"
     ]
    },
    {
     "data": {
      "text/html": [
       "<table><thead><tr><th></th><th>var       </th></tr></thead><tbody><tr><td><strong>0</strong></td><td>     1.893</td></tr><tr><td><strong>1</strong></td><td>     1.020</td></tr><tr><td><strong>2</strong></td><td>     4.036</td></tr></tbody></table>"
      ],
      "text/plain": [
       "<analytica.DataFrame at 0x7fa2706e9410>"
      ]
     },
     "execution_count": 65,
     "metadata": {},
     "output_type": "execute_result"
    }
   ],
   "source": [
    "print(pd_df.var(axis=1))\n",
    "alt_df.var(axis=1)"
   ]
  },
  {
   "cell_type": "code",
   "execution_count": 66,
   "metadata": {},
   "outputs": [
    {
     "name": "stdout",
     "output_type": "stream",
     "text": [
      "Series([], dtype: float64)\n"
     ]
    },
    {
     "data": {
      "text/plain": [
       "[]"
      ]
     },
     "execution_count": 66,
     "metadata": {},
     "output_type": "execute_result"
    }
   ],
   "source": [
    "print(pd_df2.var())\n",
    "alt_df2.var()"
   ]
  },
  {
   "cell_type": "code",
   "execution_count": 67,
   "metadata": {},
   "outputs": [
    {
     "name": "stdout",
     "output_type": "stream",
     "text": [
      "0   NaN\n",
      "1   NaN\n",
      "2   NaN\n",
      "dtype: float64\n"
     ]
    },
    {
     "data": {
      "text/html": [
       "<table><thead><tr><th></th><th>var       </th></tr></thead><tbody><tr><td><strong>0</strong></td><td>       nan</td></tr><tr><td><strong>1</strong></td><td>       nan</td></tr><tr><td><strong>2</strong></td><td>       nan</td></tr></tbody></table>"
      ],
      "text/plain": [
       "<analytica.DataFrame at 0x7fa2706ec850>"
      ]
     },
     "execution_count": 67,
     "metadata": {},
     "output_type": "execute_result"
    }
   ],
   "source": [
    "print(pd_df2.var(axis=1))\n",
    "alt_df2.var(axis=1)"
   ]
  },
  {
   "cell_type": "markdown",
   "metadata": {},
   "source": [
    "# Std. Dev"
   ]
  },
  {
   "cell_type": "code",
   "execution_count": 68,
   "metadata": {},
   "outputs": [
    {
     "name": "stdout",
     "output_type": "stream",
     "text": [
      "c    0.318814\n",
      "d    0.577350\n",
      "e    1.000000\n",
      "f    1.202082\n",
      "dtype: float64\n"
     ]
    },
    {
     "data": {
      "text/html": [
       "<table><thead><tr><th></th><th>c         </th><th>d         </th><th>e         </th><th>f         </th></tr></thead><tbody><tr><td><strong>0</strong></td><td>     0.319</td><td>     0.577</td><td>     1.000</td><td>     1.202</td></tr></tbody></table>"
      ],
      "text/plain": [
       "<analytica.DataFrame at 0x7fa2706fd450>"
      ]
     },
     "execution_count": 68,
     "metadata": {},
     "output_type": "execute_result"
    }
   ],
   "source": [
    "print(pd_df.std())\n",
    "alt_df.std()"
   ]
  },
  {
   "cell_type": "code",
   "execution_count": 69,
   "metadata": {},
   "outputs": [
    {
     "name": "stdout",
     "output_type": "stream",
     "text": [
      "0    1.375775\n",
      "1    1.009732\n",
      "2    2.009057\n",
      "dtype: float64\n"
     ]
    },
    {
     "data": {
      "text/html": [
       "<table><thead><tr><th></th><th>std       </th></tr></thead><tbody><tr><td><strong>0</strong></td><td>     1.376</td></tr><tr><td><strong>1</strong></td><td>     1.010</td></tr><tr><td><strong>2</strong></td><td>     2.009</td></tr></tbody></table>"
      ],
      "text/plain": [
       "<analytica.DataFrame at 0x7fa2706fb110>"
      ]
     },
     "execution_count": 69,
     "metadata": {},
     "output_type": "execute_result"
    }
   ],
   "source": [
    "print(pd_df.std(axis=1))\n",
    "alt_df.std(axis=1)"
   ]
  },
  {
   "cell_type": "code",
   "execution_count": 70,
   "metadata": {},
   "outputs": [
    {
     "name": "stdout",
     "output_type": "stream",
     "text": [
      "Series([], dtype: float64)\n"
     ]
    },
    {
     "data": {
      "text/plain": [
       "[]"
      ]
     },
     "execution_count": 70,
     "metadata": {},
     "output_type": "execute_result"
    }
   ],
   "source": [
    "print(pd_df2.std())\n",
    "alt_df2.std()"
   ]
  },
  {
   "cell_type": "code",
   "execution_count": 71,
   "metadata": {},
   "outputs": [
    {
     "name": "stdout",
     "output_type": "stream",
     "text": [
      "0   NaN\n",
      "1   NaN\n",
      "2   NaN\n",
      "dtype: float64\n"
     ]
    },
    {
     "data": {
      "text/html": [
       "<table><thead><tr><th></th><th>std       </th></tr></thead><tbody><tr><td><strong>0</strong></td><td>       nan</td></tr><tr><td><strong>1</strong></td><td>       nan</td></tr><tr><td><strong>2</strong></td><td>       nan</td></tr></tbody></table>"
      ],
      "text/plain": [
       "<analytica.DataFrame at 0x7fa2706fbf50>"
      ]
     },
     "execution_count": 71,
     "metadata": {},
     "output_type": "execute_result"
    }
   ],
   "source": [
    "print(pd_df2.std(axis=1))\n",
    "alt_df2.std(axis=1)"
   ]
  },
  {
   "cell_type": "markdown",
   "metadata": {},
   "source": [
    "# isna"
   ]
  },
  {
   "cell_type": "code",
   "execution_count": 72,
   "metadata": {},
   "outputs": [
    {
     "name": "stdout",
     "output_type": "stream",
     "text": [
      "       a      b      c      d      e      f\n",
      "0  False  False  False  False  False  False\n",
      "1  False  False  False  False  False   True\n",
      "2  False   True  False  False  False  False\n"
     ]
    },
    {
     "data": {
      "text/html": [
       "<table><thead><tr><th></th><th>a         </th><th>b         </th><th>c         </th><th>d         </th><th>e         </th><th>f         </th></tr></thead><tbody><tr><td><strong>0</strong></td><td>False</td><td>False</td><td>False</td><td>False</td><td>False</td><td>False</td></tr><tr><td><strong>1</strong></td><td>False</td><td>False</td><td>False</td><td>False</td><td>False</td><td>True</td></tr><tr><td><strong>2</strong></td><td>False</td><td>True</td><td>False</td><td>False</td><td>False</td><td>False</td></tr></tbody></table>"
      ],
      "text/plain": [
       "<analytica.DataFrame at 0x7fa2706ef310>"
      ]
     },
     "execution_count": 72,
     "metadata": {},
     "output_type": "execute_result"
    }
   ],
   "source": [
    "print(pd_df.isna())\n",
    "alt_df.isna()"
   ]
  },
  {
   "cell_type": "code",
   "execution_count": 73,
   "metadata": {},
   "outputs": [
    {
     "name": "stdout",
     "output_type": "stream",
     "text": [
      "       a      b      c      d      e      f\n",
      "0  False  False  False  False  False  False\n",
      "1  False  False  False  False   True  False\n",
      "2  False  False  False   True  False   True\n"
     ]
    },
    {
     "data": {
      "text/html": [
       "<table><thead><tr><th></th><th>a         </th><th>b         </th><th>c         </th><th>d         </th><th>e         </th><th>f         </th></tr></thead><tbody><tr><td><strong>0</strong></td><td>False</td><td>False</td><td>False</td><td>False</td><td>False</td><td>False</td></tr><tr><td><strong>1</strong></td><td>False</td><td>False</td><td>False</td><td>False</td><td>True</td><td>False</td></tr><tr><td><strong>2</strong></td><td>False</td><td>False</td><td>False</td><td>True</td><td>False</td><td>True</td></tr></tbody></table>"
      ],
      "text/plain": [
       "<analytica.DataFrame at 0x7fa2706ecb90>"
      ]
     },
     "execution_count": 73,
     "metadata": {},
     "output_type": "execute_result"
    }
   ],
   "source": [
    "print(pd_df2.isna())\n",
    "alt_df2.isna()"
   ]
  },
  {
   "cell_type": "markdown",
   "metadata": {},
   "source": [
    "# Head & Tail"
   ]
  },
  {
   "cell_type": "code",
   "execution_count": 74,
   "metadata": {},
   "outputs": [
    {
     "name": "stdout",
     "output_type": "stream",
     "text": [
      "   a  b         c      d  e    f\n",
      "0  a  c  0.234423   True  1  3.4\n",
      "1  b  d  0.757774  False  2  NaN\n"
     ]
    },
    {
     "data": {
      "text/html": [
       "<table><thead><tr><th></th><th>a         </th><th>b         </th><th>c         </th><th>d         </th><th>e         </th><th>f         </th></tr></thead><tbody><tr><td><strong>0</strong></td><td>a         </td><td>c         </td><td>     0.234</td><td>True</td><td>         1</td><td>     3.400</td></tr><tr><td><strong>1</strong></td><td>b         </td><td>d         </td><td>     0.758</td><td>False</td><td>         2</td><td>       nan</td></tr></tbody></table>"
      ],
      "text/plain": [
       "<analytica.DataFrame at 0x7fa2706e08d0>"
      ]
     },
     "execution_count": 74,
     "metadata": {},
     "output_type": "execute_result"
    }
   ],
   "source": [
    "print(pd_df.head(2))\n",
    "alt_df.head(2)"
   ]
  },
  {
   "cell_type": "code",
   "execution_count": 75,
   "metadata": {},
   "outputs": [
    {
     "name": "stdout",
     "output_type": "stream",
     "text": [
      "   a     b         c      d  e    f\n",
      "1  b     d  0.757774  False  2  NaN\n",
      "2  c  None  0.811543   True  3  5.1\n"
     ]
    },
    {
     "data": {
      "text/html": [
       "<table><thead><tr><th></th><th>a         </th><th>b         </th><th>c         </th><th>d         </th><th>e         </th><th>f         </th></tr></thead><tbody><tr><td><strong>0</strong></td><td>b         </td><td>d         </td><td>     0.758</td><td>False</td><td>         2</td><td>       nan</td></tr><tr><td><strong>1</strong></td><td>c         </td><td>None      </td><td>     0.812</td><td>True</td><td>         3</td><td>     5.100</td></tr></tbody></table>"
      ],
      "text/plain": [
       "<analytica.DataFrame at 0x7fa27070ef90>"
      ]
     },
     "execution_count": 75,
     "metadata": {},
     "output_type": "execute_result"
    }
   ],
   "source": [
    "print(pd_df.tail(2))\n",
    "alt_df.tail(2)"
   ]
  },
  {
   "cell_type": "markdown",
   "metadata": {},
   "source": [
    "# Count"
   ]
  },
  {
   "cell_type": "code",
   "execution_count": 76,
   "metadata": {},
   "outputs": [
    {
     "name": "stdout",
     "output_type": "stream",
     "text": [
      "a    3\n",
      "b    2\n",
      "c    3\n",
      "d    3\n",
      "e    3\n",
      "f    2\n",
      "dtype: int64\n"
     ]
    },
    {
     "data": {
      "text/html": [
       "<table><thead><tr><th></th><th>a         </th><th>b         </th><th>c         </th><th>d         </th><th>e         </th><th>f         </th></tr></thead><tbody><tr><td><strong>0</strong></td><td>         3</td><td>         2</td><td>         3</td><td>         3</td><td>         3</td><td>         2</td></tr></tbody></table>"
      ],
      "text/plain": [
       "<analytica.DataFrame at 0x7fa2706d9710>"
      ]
     },
     "execution_count": 76,
     "metadata": {},
     "output_type": "execute_result"
    }
   ],
   "source": [
    "print(pd_df.count())\n",
    "alt_df.count()"
   ]
  },
  {
   "cell_type": "code",
   "execution_count": 77,
   "metadata": {},
   "outputs": [
    {
     "name": "stdout",
     "output_type": "stream",
     "text": [
      "0    6\n",
      "1    5\n",
      "2    5\n",
      "dtype: int64\n"
     ]
    },
    {
     "data": {
      "text/html": [
       "<table><thead><tr><th></th><th>count     </th></tr></thead><tbody><tr><td><strong>0</strong></td><td>         6</td></tr><tr><td><strong>1</strong></td><td>         5</td></tr><tr><td><strong>2</strong></td><td>         5</td></tr></tbody></table>"
      ],
      "text/plain": [
       "<analytica.DataFrame at 0x7fa2706d4c50>"
      ]
     },
     "execution_count": 77,
     "metadata": {},
     "output_type": "execute_result"
    }
   ],
   "source": [
    "print(pd_df.count(axis=1))\n",
    "alt_df.count(axis=1)"
   ]
  },
  {
   "cell_type": "code",
   "execution_count": 78,
   "metadata": {},
   "outputs": [
    {
     "name": "stdout",
     "output_type": "stream",
     "text": [
      "a    3\n",
      "b    3\n",
      "c    3\n",
      "d    2\n",
      "e    2\n",
      "f    2\n",
      "dtype: int64\n"
     ]
    },
    {
     "data": {
      "text/html": [
       "<table><thead><tr><th></th><th>a         </th><th>b         </th><th>c         </th><th>d         </th><th>e         </th><th>f         </th></tr></thead><tbody><tr><td><strong>0</strong></td><td>         3</td><td>         3</td><td>         3</td><td>         2</td><td>         2</td><td>         2</td></tr></tbody></table>"
      ],
      "text/plain": [
       "<analytica.DataFrame at 0x7fa270775e50>"
      ]
     },
     "execution_count": 78,
     "metadata": {},
     "output_type": "execute_result"
    }
   ],
   "source": [
    "print(pd_df2.count())\n",
    "alt_df2.count()"
   ]
  },
  {
   "cell_type": "code",
   "execution_count": 79,
   "metadata": {},
   "outputs": [
    {
     "name": "stdout",
     "output_type": "stream",
     "text": [
      "0    6\n",
      "1    5\n",
      "2    4\n",
      "dtype: int64\n"
     ]
    },
    {
     "data": {
      "text/html": [
       "<table><thead><tr><th></th><th>count     </th></tr></thead><tbody><tr><td><strong>0</strong></td><td>         6</td></tr><tr><td><strong>1</strong></td><td>         5</td></tr><tr><td><strong>2</strong></td><td>         4</td></tr></tbody></table>"
      ],
      "text/plain": [
       "<analytica.DataFrame at 0x7fa2707bffd0>"
      ]
     },
     "execution_count": 79,
     "metadata": {},
     "output_type": "execute_result"
    }
   ],
   "source": [
    "print(pd_df2.count(axis=1))\n",
    "alt_df2.count(axis=1)"
   ]
  },
  {
   "cell_type": "code",
   "execution_count": null,
   "metadata": {},
   "outputs": [],
   "source": []
  }
 ],
 "metadata": {
  "kernelspec": {
   "display_name": "Python [conda env:Analytica]",
   "language": "python",
   "name": "conda-env-Analytica-py"
  },
  "language_info": {
   "codemirror_mode": {
    "name": "ipython",
    "version": 3
   },
   "file_extension": ".py",
   "mimetype": "text/x-python",
   "name": "python",
   "nbconvert_exporter": "python",
   "pygments_lexer": "ipython3",
   "version": "3.7.4"
  }
 },
 "nbformat": 4,
 "nbformat_minor": 2
}
