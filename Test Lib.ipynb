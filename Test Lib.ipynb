{
 "cells": [
  {
   "cell_type": "code",
   "execution_count": 1,
   "metadata": {},
   "outputs": [],
   "source": [
    "%load_ext autoreload\n",
    "%autoreload 2"
   ]
  },
  {
   "cell_type": "code",
   "execution_count": 2,
   "metadata": {},
   "outputs": [],
   "source": [
    "import analytica as alt\n",
    "import numpy as np\n",
    "import pandas as pd"
   ]
  },
  {
   "cell_type": "code",
   "execution_count": 3,
   "metadata": {},
   "outputs": [],
   "source": [
    "a = np.array(['a', 'b', 'c'])\n",
    "b = np.array(['c', 'd', None])\n",
    "c = np.random.rand(3)\n",
    "d = np.array([True, False, True])\n",
    "e = np.array([1, 2, 3])\n",
    "f = np.array([3.4, np.nan, 5.1])\n",
    "\n",
    "data_dict = {'a': a, 'b': b, 'c': c, 'd': d, 'e': e, 'f':f}"
   ]
  },
  {
   "cell_type": "code",
   "execution_count": 4,
   "metadata": {},
   "outputs": [],
   "source": [
    "alt_df = alt.DataFrame(data_dict)\n",
    "pd_df = pd.DataFrame(data_dict)"
   ]
  },
  {
   "cell_type": "code",
   "execution_count": 5,
   "metadata": {},
   "outputs": [],
   "source": [
    "a1 = np.array(['a', 'b', 'c'])\n",
    "b1 = np.array(['c', 'd', 'e'])\n",
    "c1 = np.array(['f', 'g', 'h'])\n",
    "d1 = np.array(['i', 'j', None])\n",
    "e1 = np.array(['k', None, 'l'])\n",
    "f1 = np.array(['m', 'n', None])\n",
    "\n",
    "data_dict = {'a': a1, 'b': b1, 'c': c1, 'd': d1, 'e': e1, 'f':f1}\n",
    "\n",
    "alt_df2 = alt.DataFrame(data_dict)\n",
    "pd_df2 = pd.DataFrame(data_dict)"
   ]
  },
  {
   "cell_type": "code",
   "execution_count": 6,
   "metadata": {},
   "outputs": [
    {
     "name": "stdout",
     "output_type": "stream",
     "text": [
      "3\n",
      "3\n"
     ]
    }
   ],
   "source": [
    "print(len(alt_df))\n",
    "print(len(pd_df))"
   ]
  },
  {
   "cell_type": "code",
   "execution_count": 7,
   "metadata": {},
   "outputs": [
    {
     "name": "stdout",
     "output_type": "stream",
     "text": [
      "['a', 'b', 'c', 'd', 'e', 'f']\n",
      "Index(['a', 'b', 'c', 'd', 'e', 'f'], dtype='object')\n"
     ]
    }
   ],
   "source": [
    "print(alt_df.columns)\n",
    "print(pd_df.columns)"
   ]
  },
  {
   "cell_type": "code",
   "execution_count": 8,
   "metadata": {},
   "outputs": [
    {
     "name": "stdout",
     "output_type": "stream",
     "text": [
      "['f', 'g', 'h', 'i', 'j', 'k']\n",
      "Index(['f', 'g', 'h', 'i', 'j', 'k'], dtype='object')\n"
     ]
    }
   ],
   "source": [
    "alt_df.columns = ['f', 'g', 'h', 'i', 'j', 'k']\n",
    "pd_df.columns = ['f', 'g', 'h', 'i', 'j', 'k']\n",
    "\n",
    "print(alt_df.columns)\n",
    "print(pd_df.columns)\n",
    "\n",
    "alt_df.columns = ['a', 'b', 'c', 'd', 'e', 'f']\n",
    "pd_df.columns = ['a', 'b', 'c', 'd', 'e', 'f']"
   ]
  },
  {
   "cell_type": "code",
   "execution_count": 9,
   "metadata": {},
   "outputs": [
    {
     "name": "stdout",
     "output_type": "stream",
     "text": [
      "(3, 6)\n",
      "(3, 6)\n"
     ]
    }
   ],
   "source": [
    "print(alt_df.shape)\n",
    "print(pd_df.shape)"
   ]
  },
  {
   "cell_type": "code",
   "execution_count": 10,
   "metadata": {},
   "outputs": [
    {
     "name": "stdout",
     "output_type": "stream",
     "text": [
      "a     object\n",
      "b     object\n",
      "c    float64\n",
      "d       bool\n",
      "e      int64\n",
      "f    float64\n",
      "dtype: object\n",
      "None\n"
     ]
    },
    {
     "data": {
      "text/html": [
       "<table><thead><tr><th></th><th>Column Name</th><th>Data Type </th></tr></thead><tbody><tr><td><strong>0</strong></td><td>a         </td><td>object    </td></tr><tr><td><strong>1</strong></td><td>b         </td><td>object    </td></tr><tr><td><strong>2</strong></td><td>c         </td><td>float64   </td></tr><tr><td><strong>3</strong></td><td>d         </td><td>bool      </td></tr><tr><td><strong>4</strong></td><td>e         </td><td>int64     </td></tr><tr><td><strong>5</strong></td><td>f         </td><td>float64   </td></tr></tbody></table>"
      ],
      "text/plain": [
       "<analytica.DataFrame at 0x7fd95840b710>"
      ]
     },
     "execution_count": 10,
     "metadata": {},
     "output_type": "execute_result"
    }
   ],
   "source": [
    "print(print(pd_df.dtypes))\n",
    "alt_df.dtypes"
   ]
  },
  {
   "cell_type": "code",
   "execution_count": 11,
   "metadata": {},
   "outputs": [
    {
     "name": "stdout",
     "output_type": "stream",
     "text": [
      "[['a' 'c' 0.7067938680530449 True 1 3.4]\n",
      " ['b' 'd' 0.8158129580899095 False 2 nan]\n",
      " ['c' None 0.941111793084248 True 3 5.1]]\n",
      "[['a' 'c' 0.7067938680530449 True 1 3.4]\n",
      " ['b' 'd' 0.8158129580899095 False 2 nan]\n",
      " ['c' None 0.941111793084248 True 3 5.1]]\n"
     ]
    }
   ],
   "source": [
    "print(alt_df.values)\n",
    "print(pd_df.values)"
   ]
  },
  {
   "cell_type": "markdown",
   "metadata": {},
   "source": [
    "# Col Indexing"
   ]
  },
  {
   "cell_type": "code",
   "execution_count": 12,
   "metadata": {},
   "outputs": [
    {
     "name": "stdout",
     "output_type": "stream",
     "text": [
      "0       c\n",
      "1       d\n",
      "2    None\n",
      "Name: b, dtype: object\n"
     ]
    },
    {
     "data": {
      "text/html": [
       "<table><thead><tr><th></th><th>b         </th></tr></thead><tbody><tr><td><strong>0</strong></td><td>c         </td></tr><tr><td><strong>1</strong></td><td>d         </td></tr><tr><td><strong>2</strong></td><td>None      </td></tr></tbody></table>"
      ],
      "text/plain": [
       "<analytica.DataFrame at 0x7fd9742fee50>"
      ]
     },
     "execution_count": 12,
     "metadata": {},
     "output_type": "execute_result"
    }
   ],
   "source": [
    "print(pd_df['b'])\n",
    "alt_df['b']"
   ]
  },
  {
   "cell_type": "code",
   "execution_count": 13,
   "metadata": {},
   "outputs": [
    {
     "name": "stdout",
     "output_type": "stream",
     "text": [
      "   e     b\n",
      "0  1     c\n",
      "1  2     d\n",
      "2  3  None\n"
     ]
    },
    {
     "data": {
      "text/html": [
       "<table><thead><tr><th></th><th>e         </th><th>b         </th></tr></thead><tbody><tr><td><strong>0</strong></td><td>         1</td><td>c         </td></tr><tr><td><strong>1</strong></td><td>         2</td><td>d         </td></tr><tr><td><strong>2</strong></td><td>         3</td><td>None      </td></tr></tbody></table>"
      ],
      "text/plain": [
       "<analytica.DataFrame at 0x7fd9741c6910>"
      ]
     },
     "execution_count": 13,
     "metadata": {},
     "output_type": "execute_result"
    }
   ],
   "source": [
    "print(pd_df[['e', 'b']])\n",
    "alt_df[['e', 'b']]"
   ]
  },
  {
   "cell_type": "code",
   "execution_count": 14,
   "metadata": {},
   "outputs": [
    {
     "name": "stdout",
     "output_type": "stream",
     "text": [
      "   a     b         c     d  e    f\n",
      "0  a     c  0.706794  True  1  3.4\n",
      "2  c  None  0.941112  True  3  5.1\n"
     ]
    },
    {
     "data": {
      "text/html": [
       "<table><thead><tr><th></th><th>a         </th><th>b         </th><th>c         </th><th>d         </th><th>e         </th><th>f         </th></tr></thead><tbody><tr><td><strong>0</strong></td><td>a         </td><td>c         </td><td>     0.707</td><td>True</td><td>         1</td><td>     3.400</td></tr><tr><td><strong>1</strong></td><td>c         </td><td>None      </td><td>     0.941</td><td>True</td><td>         3</td><td>     5.100</td></tr></tbody></table>"
      ],
      "text/plain": [
       "<analytica.DataFrame at 0x7fd9584917d0>"
      ]
     },
     "execution_count": 14,
     "metadata": {},
     "output_type": "execute_result"
    }
   ],
   "source": [
    "print(pd_df[d])\n",
    "alt_df[alt.DataFrame({'d': d})]"
   ]
  },
  {
   "cell_type": "code",
   "execution_count": 15,
   "metadata": {},
   "outputs": [
    {
     "name": "stdout",
     "output_type": "stream",
     "text": [
      "0.8158129580899095\n"
     ]
    },
    {
     "data": {
      "text/html": [
       "<table><thead><tr><th></th><th>c         </th></tr></thead><tbody><tr><td><strong>0</strong></td><td>     0.816</td></tr></tbody></table>"
      ],
      "text/plain": [
       "<analytica.DataFrame at 0x7fd9583c4810>"
      ]
     },
     "execution_count": 15,
     "metadata": {},
     "output_type": "execute_result"
    }
   ],
   "source": [
    "print(pd_df.iloc[1,2])\n",
    "alt_df[1,2]"
   ]
  },
  {
   "cell_type": "code",
   "execution_count": 16,
   "metadata": {},
   "outputs": [
    {
     "name": "stdout",
     "output_type": "stream",
     "text": [
      "d\n"
     ]
    },
    {
     "data": {
      "text/html": [
       "<table><thead><tr><th></th><th>b         </th></tr></thead><tbody><tr><td><strong>0</strong></td><td>d         </td></tr></tbody></table>"
      ],
      "text/plain": [
       "<analytica.DataFrame at 0x7fd9583c4f10>"
      ]
     },
     "execution_count": 16,
     "metadata": {},
     "output_type": "execute_result"
    }
   ],
   "source": [
    "print(pd_df.loc[1,'b'])\n",
    "alt_df[1,'b']"
   ]
  },
  {
   "cell_type": "code",
   "execution_count": 17,
   "metadata": {},
   "outputs": [
    {
     "name": "stdout",
     "output_type": "stream",
     "text": [
      "0       c\n",
      "2    None\n",
      "Name: b, dtype: object\n"
     ]
    },
    {
     "data": {
      "text/html": [
       "<table><thead><tr><th></th><th>b         </th></tr></thead><tbody><tr><td><strong>0</strong></td><td>c         </td></tr><tr><td><strong>1</strong></td><td>None      </td></tr></tbody></table>"
      ],
      "text/plain": [
       "<analytica.DataFrame at 0x7fd9742927d0>"
      ]
     },
     "execution_count": 17,
     "metadata": {},
     "output_type": "execute_result"
    }
   ],
   "source": [
    "print(pd_df.loc[d, 'b'])\n",
    "alt_df[alt.DataFrame({'d': d}), 'b']"
   ]
  },
  {
   "cell_type": "markdown",
   "metadata": {},
   "source": [
    "# Row, Col Indexing"
   ]
  },
  {
   "cell_type": "code",
   "execution_count": 18,
   "metadata": {},
   "outputs": [
    {
     "name": "stdout",
     "output_type": "stream",
     "text": [
      "1       d\n",
      "2    None\n",
      "Name: b, dtype: object\n"
     ]
    },
    {
     "data": {
      "text/html": [
       "<table><thead><tr><th></th><th>b         </th></tr></thead><tbody><tr><td><strong>0</strong></td><td>d         </td></tr><tr><td><strong>1</strong></td><td>None      </td></tr></tbody></table>"
      ],
      "text/plain": [
       "<analytica.DataFrame at 0x7fd9583c84d0>"
      ]
     },
     "execution_count": 18,
     "metadata": {},
     "output_type": "execute_result"
    }
   ],
   "source": [
    "print(pd_df.loc[[1,2], 'b'])\n",
    "alt_df[[1,2], 'b']"
   ]
  },
  {
   "cell_type": "code",
   "execution_count": 19,
   "metadata": {},
   "outputs": [
    {
     "name": "stdout",
     "output_type": "stream",
     "text": [
      "1       d\n",
      "2    None\n",
      "Name: b, dtype: object\n"
     ]
    },
    {
     "data": {
      "text/html": [
       "<table><thead><tr><th></th><th>b         </th></tr></thead><tbody><tr><td><strong>0</strong></td><td>d         </td></tr><tr><td><strong>1</strong></td><td>None      </td></tr></tbody></table>"
      ],
      "text/plain": [
       "<analytica.DataFrame at 0x7fd958491090>"
      ]
     },
     "execution_count": 19,
     "metadata": {},
     "output_type": "execute_result"
    }
   ],
   "source": [
    "print(pd_df.loc[1:3, 'b'])\n",
    "alt_df[1:3, 'b']"
   ]
  },
  {
   "cell_type": "code",
   "execution_count": 20,
   "metadata": {},
   "outputs": [
    {
     "name": "stdout",
     "output_type": "stream",
     "text": [
      "   a     b         c\n",
      "1  b     d  0.815813\n",
      "2  c  None  0.941112\n"
     ]
    },
    {
     "data": {
      "text/html": [
       "<table><thead><tr><th></th><th>a         </th><th>b         </th><th>c         </th></tr></thead><tbody><tr><td><strong>0</strong></td><td>b         </td><td>d         </td><td>     0.816</td></tr><tr><td><strong>1</strong></td><td>c         </td><td>None      </td><td>     0.941</td></tr></tbody></table>"
      ],
      "text/plain": [
       "<analytica.DataFrame at 0x7fd958427090>"
      ]
     },
     "execution_count": 20,
     "metadata": {},
     "output_type": "execute_result"
    }
   ],
   "source": [
    "print(pd_df.loc[1:3, ['a','b','c']])\n",
    "alt_df[1:3, ['a','b','c']]"
   ]
  },
  {
   "cell_type": "code",
   "execution_count": 21,
   "metadata": {},
   "outputs": [
    {
     "name": "stdout",
     "output_type": "stream",
     "text": [
      "   a     b         c\n",
      "1  b     d  0.815813\n",
      "2  c  None  0.941112\n"
     ]
    },
    {
     "data": {
      "text/html": [
       "<table><thead><tr><th></th><th>a         </th><th>b         </th><th>c         </th></tr></thead><tbody><tr><td><strong>0</strong></td><td>b         </td><td>d         </td><td>     0.816</td></tr><tr><td><strong>1</strong></td><td>c         </td><td>None      </td><td>     0.941</td></tr></tbody></table>"
      ],
      "text/plain": [
       "<analytica.DataFrame at 0x7fd958414d10>"
      ]
     },
     "execution_count": 21,
     "metadata": {},
     "output_type": "execute_result"
    }
   ],
   "source": [
    "print(pd_df.iloc[1:3, [0,1,2]])\n",
    "alt_df[1:3, [0,1,2]]"
   ]
  },
  {
   "cell_type": "code",
   "execution_count": 22,
   "metadata": {},
   "outputs": [
    {
     "data": {
      "text/html": [
       "<table><thead><tr><th></th><th>a         </th><th>b         </th><th>c         </th></tr></thead><tbody><tr><td><strong>0</strong></td><td>b         </td><td>d         </td><td>     0.816</td></tr><tr><td><strong>1</strong></td><td>c         </td><td>None      </td><td>     0.941</td></tr></tbody></table>"
      ],
      "text/plain": [
       "<analytica.DataFrame at 0x7fd9583d61d0>"
      ]
     },
     "execution_count": 22,
     "metadata": {},
     "output_type": "execute_result"
    }
   ],
   "source": [
    "alt_df[1:3, ['a',1,2]]"
   ]
  },
  {
   "cell_type": "code",
   "execution_count": 23,
   "metadata": {},
   "outputs": [
    {
     "name": "stdout",
     "output_type": "stream",
     "text": [
      "   a     b         c\n",
      "1  b     d  0.815813\n",
      "2  c  None  0.941112\n"
     ]
    },
    {
     "data": {
      "text/html": [
       "<table><thead><tr><th></th><th>a         </th><th>b         </th><th>c         </th></tr></thead><tbody><tr><td><strong>0</strong></td><td>b         </td><td>d         </td><td>     0.816</td></tr><tr><td><strong>1</strong></td><td>c         </td><td>None      </td><td>     0.941</td></tr></tbody></table>"
      ],
      "text/plain": [
       "<analytica.DataFrame at 0x7fd9742fead0>"
      ]
     },
     "execution_count": 23,
     "metadata": {},
     "output_type": "execute_result"
    }
   ],
   "source": [
    "print(pd_df.loc[1:3, 'a':'c'])\n",
    "alt_df[1:3, 'a':'c']"
   ]
  },
  {
   "cell_type": "code",
   "execution_count": 24,
   "metadata": {},
   "outputs": [
    {
     "name": "stdout",
     "output_type": "stream",
     "text": [
      "   a     b         c\n",
      "1  b     d  0.815813\n",
      "2  c  None  0.941112\n"
     ]
    },
    {
     "data": {
      "text/html": [
       "<table><thead><tr><th></th><th>a         </th><th>b         </th><th>c         </th></tr></thead><tbody><tr><td><strong>0</strong></td><td>b         </td><td>d         </td><td>     0.816</td></tr><tr><td><strong>1</strong></td><td>c         </td><td>None      </td><td>     0.941</td></tr></tbody></table>"
      ],
      "text/plain": [
       "<analytica.DataFrame at 0x7fd958491210>"
      ]
     },
     "execution_count": 24,
     "metadata": {},
     "output_type": "execute_result"
    }
   ],
   "source": [
    "print(pd_df.iloc[1:3, :3])\n",
    "alt_df[1:3, :3]"
   ]
  },
  {
   "cell_type": "markdown",
   "metadata": {},
   "source": [
    "# Row Indexing"
   ]
  },
  {
   "cell_type": "code",
   "execution_count": 25,
   "metadata": {},
   "outputs": [
    {
     "name": "stdout",
     "output_type": "stream",
     "text": [
      "a           b\n",
      "b           d\n",
      "c    0.815813\n",
      "d       False\n",
      "e           2\n",
      "f         NaN\n",
      "Name: 1, dtype: object\n"
     ]
    },
    {
     "data": {
      "text/html": [
       "<table><thead><tr><th></th><th>a         </th><th>b         </th><th>c         </th><th>d         </th><th>e         </th><th>f         </th></tr></thead><tbody><tr><td><strong>0</strong></td><td>b         </td><td>d         </td><td>     0.816</td><td>False</td><td>         2</td><td>       nan</td></tr></tbody></table>"
      ],
      "text/plain": [
       "<analytica.DataFrame at 0x7fd9583c8d90>"
      ]
     },
     "execution_count": 25,
     "metadata": {},
     "output_type": "execute_result"
    }
   ],
   "source": [
    "print(pd_df.iloc[1])\n",
    "alt_df[1]"
   ]
  },
  {
   "cell_type": "code",
   "execution_count": 26,
   "metadata": {},
   "outputs": [
    {
     "name": "stdout",
     "output_type": "stream",
     "text": [
      "   a     b         c      d  e    f\n",
      "1  b     d  0.815813  False  2  NaN\n",
      "2  c  None  0.941112   True  3  5.1\n"
     ]
    },
    {
     "data": {
      "text/html": [
       "<table><thead><tr><th></th><th>a         </th><th>b         </th><th>c         </th><th>d         </th><th>e         </th><th>f         </th></tr></thead><tbody><tr><td><strong>0</strong></td><td>b         </td><td>d         </td><td>     0.816</td><td>False</td><td>         2</td><td>       nan</td></tr><tr><td><strong>1</strong></td><td>c         </td><td>None      </td><td>     0.941</td><td>True</td><td>         3</td><td>     5.100</td></tr></tbody></table>"
      ],
      "text/plain": [
       "<analytica.DataFrame at 0x7fd9773b7350>"
      ]
     },
     "execution_count": 26,
     "metadata": {},
     "output_type": "execute_result"
    }
   ],
   "source": [
    "print(pd_df.iloc[[1,2]])\n",
    "alt_df[[1,2]]"
   ]
  },
  {
   "cell_type": "code",
   "execution_count": 27,
   "metadata": {},
   "outputs": [
    {
     "name": "stdout",
     "output_type": "stream",
     "text": [
      "   a     b         c      d  e    f\n",
      "1  b     d  0.815813  False  2  NaN\n",
      "2  c  None  0.941112   True  3  5.1\n"
     ]
    },
    {
     "data": {
      "text/html": [
       "<table><thead><tr><th></th><th>a         </th><th>b         </th><th>c         </th><th>d         </th><th>e         </th><th>f         </th></tr></thead><tbody><tr><td><strong>0</strong></td><td>b         </td><td>d         </td><td>     0.816</td><td>False</td><td>         2</td><td>       nan</td></tr><tr><td><strong>1</strong></td><td>c         </td><td>None      </td><td>     0.941</td><td>True</td><td>         3</td><td>     5.100</td></tr></tbody></table>"
      ],
      "text/plain": [
       "<analytica.DataFrame at 0x7fd958477d50>"
      ]
     },
     "execution_count": 27,
     "metadata": {},
     "output_type": "execute_result"
    }
   ],
   "source": [
    "print(pd_df.iloc[1:3])\n",
    "alt_df[1:3]"
   ]
  },
  {
   "cell_type": "markdown",
   "metadata": {},
   "source": [
    "# Min"
   ]
  },
  {
   "cell_type": "code",
   "execution_count": 28,
   "metadata": {},
   "outputs": [
    {
     "name": "stdout",
     "output_type": "stream",
     "text": [
      "a           a\n",
      "c    0.706794\n",
      "d       False\n",
      "e           1\n",
      "f         3.4\n",
      "dtype: object\n"
     ]
    },
    {
     "data": {
      "text/html": [
       "<table><thead><tr><th></th><th>a         </th><th>c         </th><th>d         </th><th>e         </th><th>f         </th></tr></thead><tbody><tr><td><strong>0</strong></td><td>a         </td><td>     0.707</td><td>False</td><td>         1</td><td>     3.400</td></tr></tbody></table>"
      ],
      "text/plain": [
       "<analytica.DataFrame at 0x7fd95840b5d0>"
      ]
     },
     "execution_count": 28,
     "metadata": {},
     "output_type": "execute_result"
    }
   ],
   "source": [
    "print(pd_df.min())\n",
    "alt_df.min()"
   ]
  },
  {
   "cell_type": "code",
   "execution_count": 29,
   "metadata": {},
   "outputs": [
    {
     "name": "stdout",
     "output_type": "stream",
     "text": [
      "0    0.706794\n",
      "1    0.000000\n",
      "2    0.941112\n",
      "dtype: float64\n"
     ]
    },
    {
     "data": {
      "text/html": [
       "<table><thead><tr><th></th><th>min       </th></tr></thead><tbody><tr><td><strong>0</strong></td><td>     0.707</td></tr><tr><td><strong>1</strong></td><td>     0.000</td></tr><tr><td><strong>2</strong></td><td>     0.941</td></tr></tbody></table>"
      ],
      "text/plain": [
       "<analytica.DataFrame at 0x7fd958472f10>"
      ]
     },
     "execution_count": 29,
     "metadata": {},
     "output_type": "execute_result"
    }
   ],
   "source": [
    "print(pd_df.min(axis=1))\n",
    "alt_df.min(axis=1)"
   ]
  },
  {
   "cell_type": "code",
   "execution_count": 30,
   "metadata": {},
   "outputs": [
    {
     "name": "stdout",
     "output_type": "stream",
     "text": [
      "a    a\n",
      "b    c\n",
      "c    f\n",
      "dtype: object\n"
     ]
    },
    {
     "data": {
      "text/html": [
       "<table><thead><tr><th></th><th>a         </th><th>b         </th><th>c         </th></tr></thead><tbody><tr><td><strong>0</strong></td><td>a         </td><td>c         </td><td>f         </td></tr></tbody></table>"
      ],
      "text/plain": [
       "<analytica.DataFrame at 0x7fd9583d6150>"
      ]
     },
     "execution_count": 30,
     "metadata": {},
     "output_type": "execute_result"
    }
   ],
   "source": [
    "print(pd_df2.min())\n",
    "alt_df2.min()"
   ]
  },
  {
   "cell_type": "code",
   "execution_count": 31,
   "metadata": {
    "scrolled": false
   },
   "outputs": [
    {
     "name": "stdout",
     "output_type": "stream",
     "text": [
      "0   NaN\n",
      "1   NaN\n",
      "2   NaN\n",
      "dtype: float64\n"
     ]
    },
    {
     "data": {
      "text/html": [
       "<table><thead><tr><th></th><th>min       </th></tr></thead><tbody><tr><td><strong>0</strong></td><td>       nan</td></tr><tr><td><strong>1</strong></td><td>       nan</td></tr><tr><td><strong>2</strong></td><td>       nan</td></tr></tbody></table>"
      ],
      "text/plain": [
       "<analytica.DataFrame at 0x7fd95840b250>"
      ]
     },
     "execution_count": 31,
     "metadata": {},
     "output_type": "execute_result"
    }
   ],
   "source": [
    "print(pd_df2.min(axis=1))\n",
    "alt_df2.min(axis=1)"
   ]
  },
  {
   "cell_type": "code",
   "execution_count": 32,
   "metadata": {},
   "outputs": [
    {
     "name": "stdout",
     "output_type": "stream",
     "text": [
      "a    a\n",
      "b    c\n",
      "c    f\n",
      "dtype: object\n"
     ]
    },
    {
     "data": {
      "text/html": [
       "<table><thead><tr><th></th><th>a         </th><th>b         </th><th>c         </th></tr></thead><tbody><tr><td><strong>0</strong></td><td>a         </td><td>c         </td><td>f         </td></tr></tbody></table>"
      ],
      "text/plain": [
       "<analytica.DataFrame at 0x7fd9583f6a10>"
      ]
     },
     "execution_count": 32,
     "metadata": {},
     "output_type": "execute_result"
    }
   ],
   "source": [
    "print(pd_df2[['a','b','c']].min())\n",
    "alt_df2[['a','b','c']].min()"
   ]
  },
  {
   "cell_type": "code",
   "execution_count": 33,
   "metadata": {},
   "outputs": [
    {
     "name": "stdout",
     "output_type": "stream",
     "text": [
      "0    a\n",
      "1    b\n",
      "2    c\n",
      "dtype: object\n"
     ]
    },
    {
     "data": {
      "text/html": [
       "<table><thead><tr><th></th><th>min       </th></tr></thead><tbody><tr><td><strong>0</strong></td><td>a         </td></tr><tr><td><strong>1</strong></td><td>b         </td></tr><tr><td><strong>2</strong></td><td>c         </td></tr></tbody></table>"
      ],
      "text/plain": [
       "<analytica.DataFrame at 0x7fd9583c8c90>"
      ]
     },
     "execution_count": 33,
     "metadata": {},
     "output_type": "execute_result"
    }
   ],
   "source": [
    "print(pd_df2[['a','b','c']].min(axis=1))\n",
    "alt_df2[['a','b','c']].min(axis=1)"
   ]
  },
  {
   "cell_type": "markdown",
   "metadata": {},
   "source": [
    "# Max"
   ]
  },
  {
   "cell_type": "code",
   "execution_count": 34,
   "metadata": {},
   "outputs": [
    {
     "name": "stdout",
     "output_type": "stream",
     "text": [
      "a           c\n",
      "c    0.941112\n",
      "d        True\n",
      "e           3\n",
      "f         5.1\n",
      "dtype: object\n"
     ]
    },
    {
     "data": {
      "text/html": [
       "<table><thead><tr><th></th><th>a         </th><th>c         </th><th>d         </th><th>e         </th><th>f         </th></tr></thead><tbody><tr><td><strong>0</strong></td><td>c         </td><td>     0.941</td><td>True</td><td>         3</td><td>     5.100</td></tr></tbody></table>"
      ],
      "text/plain": [
       "<analytica.DataFrame at 0x7fd958389810>"
      ]
     },
     "execution_count": 34,
     "metadata": {},
     "output_type": "execute_result"
    }
   ],
   "source": [
    "print(pd_df.max())\n",
    "alt_df.max()"
   ]
  },
  {
   "cell_type": "code",
   "execution_count": 35,
   "metadata": {},
   "outputs": [
    {
     "name": "stdout",
     "output_type": "stream",
     "text": [
      "0    3.4\n",
      "1    2.0\n",
      "2    5.1\n",
      "dtype: float64\n"
     ]
    },
    {
     "data": {
      "text/html": [
       "<table><thead><tr><th></th><th>max       </th></tr></thead><tbody><tr><td><strong>0</strong></td><td>     3.400</td></tr><tr><td><strong>1</strong></td><td>     2.000</td></tr><tr><td><strong>2</strong></td><td>     5.100</td></tr></tbody></table>"
      ],
      "text/plain": [
       "<analytica.DataFrame at 0x7fd9583899d0>"
      ]
     },
     "execution_count": 35,
     "metadata": {},
     "output_type": "execute_result"
    }
   ],
   "source": [
    "print(pd_df.max(axis=1))\n",
    "alt_df.max(axis=1)"
   ]
  },
  {
   "cell_type": "code",
   "execution_count": 36,
   "metadata": {},
   "outputs": [
    {
     "name": "stdout",
     "output_type": "stream",
     "text": [
      "a    c\n",
      "b    e\n",
      "c    h\n",
      "dtype: object\n"
     ]
    },
    {
     "data": {
      "text/html": [
       "<table><thead><tr><th></th><th>a         </th><th>b         </th><th>c         </th></tr></thead><tbody><tr><td><strong>0</strong></td><td>c         </td><td>e         </td><td>h         </td></tr></tbody></table>"
      ],
      "text/plain": [
       "<analytica.DataFrame at 0x7fd95838bd90>"
      ]
     },
     "execution_count": 36,
     "metadata": {},
     "output_type": "execute_result"
    }
   ],
   "source": [
    "print(pd_df2.max())\n",
    "alt_df2.max()"
   ]
  },
  {
   "cell_type": "code",
   "execution_count": 37,
   "metadata": {},
   "outputs": [
    {
     "name": "stdout",
     "output_type": "stream",
     "text": [
      "0   NaN\n",
      "1   NaN\n",
      "2   NaN\n",
      "dtype: float64\n"
     ]
    },
    {
     "data": {
      "text/html": [
       "<table><thead><tr><th></th><th>max       </th></tr></thead><tbody><tr><td><strong>0</strong></td><td>       nan</td></tr><tr><td><strong>1</strong></td><td>       nan</td></tr><tr><td><strong>2</strong></td><td>       nan</td></tr></tbody></table>"
      ],
      "text/plain": [
       "<analytica.DataFrame at 0x7fd95838bcd0>"
      ]
     },
     "execution_count": 37,
     "metadata": {},
     "output_type": "execute_result"
    }
   ],
   "source": [
    "print(pd_df2.max(axis=1))\n",
    "alt_df2.max(axis=1)"
   ]
  },
  {
   "cell_type": "code",
   "execution_count": 38,
   "metadata": {},
   "outputs": [
    {
     "name": "stdout",
     "output_type": "stream",
     "text": [
      "a    c\n",
      "b    e\n",
      "c    h\n",
      "dtype: object\n"
     ]
    },
    {
     "data": {
      "text/html": [
       "<table><thead><tr><th></th><th>a         </th><th>b         </th><th>c         </th></tr></thead><tbody><tr><td><strong>0</strong></td><td>c         </td><td>e         </td><td>h         </td></tr></tbody></table>"
      ],
      "text/plain": [
       "<analytica.DataFrame at 0x7fd9583df890>"
      ]
     },
     "execution_count": 38,
     "metadata": {},
     "output_type": "execute_result"
    }
   ],
   "source": [
    "print(pd_df2[['a','b','c']].max())\n",
    "alt_df2[['a','b','c']].max()"
   ]
  },
  {
   "cell_type": "code",
   "execution_count": 39,
   "metadata": {},
   "outputs": [
    {
     "name": "stdout",
     "output_type": "stream",
     "text": [
      "0    f\n",
      "1    g\n",
      "2    h\n",
      "dtype: object\n"
     ]
    },
    {
     "data": {
      "text/html": [
       "<table><thead><tr><th></th><th>max       </th></tr></thead><tbody><tr><td><strong>0</strong></td><td>f         </td></tr><tr><td><strong>1</strong></td><td>g         </td></tr><tr><td><strong>2</strong></td><td>h         </td></tr></tbody></table>"
      ],
      "text/plain": [
       "<analytica.DataFrame at 0x7fd958392d10>"
      ]
     },
     "execution_count": 39,
     "metadata": {},
     "output_type": "execute_result"
    }
   ],
   "source": [
    "print(pd_df2[['a','b','c']].max(axis=1))\n",
    "alt_df2[['a','b','c']].max(axis=1)"
   ]
  },
  {
   "cell_type": "markdown",
   "metadata": {},
   "source": [
    "# Mean"
   ]
  },
  {
   "cell_type": "code",
   "execution_count": 40,
   "metadata": {},
   "outputs": [
    {
     "name": "stdout",
     "output_type": "stream",
     "text": [
      "c    0.821240\n",
      "d    0.666667\n",
      "e    2.000000\n",
      "f    4.250000\n",
      "dtype: float64\n"
     ]
    },
    {
     "data": {
      "text/html": [
       "<table><thead><tr><th></th><th>c         </th><th>d         </th><th>e         </th><th>f         </th></tr></thead><tbody><tr><td><strong>0</strong></td><td>     0.821</td><td>     0.667</td><td>     2.000</td><td>     4.250</td></tr></tbody></table>"
      ],
      "text/plain": [
       "<analytica.DataFrame at 0x7fd958392f50>"
      ]
     },
     "execution_count": 40,
     "metadata": {},
     "output_type": "execute_result"
    }
   ],
   "source": [
    "print(pd_df.mean())\n",
    "alt_df.mean()"
   ]
  },
  {
   "cell_type": "code",
   "execution_count": 41,
   "metadata": {},
   "outputs": [
    {
     "name": "stdout",
     "output_type": "stream",
     "text": [
      "0    1.526698\n",
      "1    0.938604\n",
      "2    2.510278\n",
      "dtype: float64\n"
     ]
    },
    {
     "data": {
      "text/html": [
       "<table><thead><tr><th></th><th>mean      </th></tr></thead><tbody><tr><td><strong>0</strong></td><td>     1.527</td></tr><tr><td><strong>1</strong></td><td>     0.939</td></tr><tr><td><strong>2</strong></td><td>     2.510</td></tr></tbody></table>"
      ],
      "text/plain": [
       "<analytica.DataFrame at 0x7fd9583dff90>"
      ]
     },
     "execution_count": 41,
     "metadata": {},
     "output_type": "execute_result"
    }
   ],
   "source": [
    "print(pd_df.mean(axis=1))\n",
    "alt_df.mean(axis=1)"
   ]
  },
  {
   "cell_type": "code",
   "execution_count": 42,
   "metadata": {},
   "outputs": [
    {
     "name": "stdout",
     "output_type": "stream",
     "text": [
      "Series([], dtype: float64)\n"
     ]
    },
    {
     "data": {
      "text/plain": [
       "[]"
      ]
     },
     "execution_count": 42,
     "metadata": {},
     "output_type": "execute_result"
    }
   ],
   "source": [
    "print(pd_df2.mean())\n",
    "alt_df2.mean()"
   ]
  },
  {
   "cell_type": "code",
   "execution_count": 43,
   "metadata": {},
   "outputs": [
    {
     "name": "stdout",
     "output_type": "stream",
     "text": [
      "0   NaN\n",
      "1   NaN\n",
      "2   NaN\n",
      "dtype: float64\n"
     ]
    },
    {
     "data": {
      "text/html": [
       "<table><thead><tr><th></th><th>mean      </th></tr></thead><tbody><tr><td><strong>0</strong></td><td>       nan</td></tr><tr><td><strong>1</strong></td><td>       nan</td></tr><tr><td><strong>2</strong></td><td>       nan</td></tr></tbody></table>"
      ],
      "text/plain": [
       "<analytica.DataFrame at 0x7fd958414990>"
      ]
     },
     "execution_count": 43,
     "metadata": {},
     "output_type": "execute_result"
    }
   ],
   "source": [
    "print(pd_df2.mean(axis=1))\n",
    "alt_df2.mean(axis=1)"
   ]
  },
  {
   "cell_type": "markdown",
   "metadata": {},
   "source": [
    "# Median"
   ]
  },
  {
   "cell_type": "code",
   "execution_count": 44,
   "metadata": {},
   "outputs": [
    {
     "name": "stdout",
     "output_type": "stream",
     "text": [
      "c    0.815813\n",
      "d    1.000000\n",
      "e    2.000000\n",
      "f    4.250000\n",
      "dtype: float64\n"
     ]
    },
    {
     "data": {
      "text/html": [
       "<table><thead><tr><th></th><th>c         </th><th>d         </th><th>e         </th><th>f         </th></tr></thead><tbody><tr><td><strong>0</strong></td><td>     0.816</td><td>     1.000</td><td>     2.000</td><td>     4.250</td></tr></tbody></table>"
      ],
      "text/plain": [
       "<analytica.DataFrame at 0x7fd9583d6610>"
      ]
     },
     "execution_count": 44,
     "metadata": {},
     "output_type": "execute_result"
    }
   ],
   "source": [
    "print(pd_df.median())\n",
    "alt_df.median()"
   ]
  },
  {
   "cell_type": "code",
   "execution_count": 45,
   "metadata": {},
   "outputs": [
    {
     "name": "stdout",
     "output_type": "stream",
     "text": [
      "0    1.000000\n",
      "1    0.815813\n",
      "2    2.000000\n",
      "dtype: float64\n"
     ]
    },
    {
     "data": {
      "text/html": [
       "<table><thead><tr><th></th><th>median    </th></tr></thead><tbody><tr><td><strong>0</strong></td><td>     1.000</td></tr><tr><td><strong>1</strong></td><td>     0.816</td></tr><tr><td><strong>2</strong></td><td>     2.000</td></tr></tbody></table>"
      ],
      "text/plain": [
       "<analytica.DataFrame at 0x7fd95838b2d0>"
      ]
     },
     "execution_count": 45,
     "metadata": {},
     "output_type": "execute_result"
    }
   ],
   "source": [
    "print(pd_df.median(axis=1))\n",
    "alt_df.median(axis=1)"
   ]
  },
  {
   "cell_type": "code",
   "execution_count": 46,
   "metadata": {},
   "outputs": [
    {
     "name": "stdout",
     "output_type": "stream",
     "text": [
      "Series([], dtype: float64)\n"
     ]
    },
    {
     "data": {
      "text/plain": [
       "[]"
      ]
     },
     "execution_count": 46,
     "metadata": {},
     "output_type": "execute_result"
    }
   ],
   "source": [
    "print(pd_df2.median())\n",
    "alt_df2.median()"
   ]
  },
  {
   "cell_type": "code",
   "execution_count": 47,
   "metadata": {},
   "outputs": [
    {
     "name": "stdout",
     "output_type": "stream",
     "text": [
      "0   NaN\n",
      "1   NaN\n",
      "2   NaN\n",
      "dtype: float64\n"
     ]
    },
    {
     "data": {
      "text/html": [
       "<table><thead><tr><th></th><th>median    </th></tr></thead><tbody><tr><td><strong>0</strong></td><td>       nan</td></tr><tr><td><strong>1</strong></td><td>       nan</td></tr><tr><td><strong>2</strong></td><td>       nan</td></tr></tbody></table>"
      ],
      "text/plain": [
       "<analytica.DataFrame at 0x7fd95839add0>"
      ]
     },
     "execution_count": 47,
     "metadata": {},
     "output_type": "execute_result"
    }
   ],
   "source": [
    "print(pd_df2.median(axis=1))\n",
    "alt_df2.median(axis=1)"
   ]
  },
  {
   "cell_type": "markdown",
   "metadata": {},
   "source": [
    "# Sum"
   ]
  },
  {
   "cell_type": "code",
   "execution_count": 48,
   "metadata": {},
   "outputs": [
    {
     "name": "stdout",
     "output_type": "stream",
     "text": [
      "a        abc\n",
      "c    2.46372\n",
      "d          2\n",
      "e          6\n",
      "f        8.5\n",
      "dtype: object\n"
     ]
    },
    {
     "data": {
      "text/html": [
       "<table><thead><tr><th></th><th>a         </th><th>c         </th><th>d         </th><th>e         </th><th>f         </th></tr></thead><tbody><tr><td><strong>0</strong></td><td>abc       </td><td>     2.464</td><td>         2</td><td>         6</td><td>     8.500</td></tr></tbody></table>"
      ],
      "text/plain": [
       "<analytica.DataFrame at 0x7fd95839ae50>"
      ]
     },
     "execution_count": 48,
     "metadata": {},
     "output_type": "execute_result"
    }
   ],
   "source": [
    "print(pd_df.sum())\n",
    "alt_df.sum()"
   ]
  },
  {
   "cell_type": "code",
   "execution_count": 49,
   "metadata": {},
   "outputs": [
    {
     "name": "stdout",
     "output_type": "stream",
     "text": [
      "0     6.106794\n",
      "1     2.815813\n",
      "2    10.041112\n",
      "dtype: float64\n"
     ]
    },
    {
     "data": {
      "text/html": [
       "<table><thead><tr><th></th><th>sum       </th></tr></thead><tbody><tr><td><strong>0</strong></td><td>     6.107</td></tr><tr><td><strong>1</strong></td><td>     2.816</td></tr><tr><td><strong>2</strong></td><td>    10.041</td></tr></tbody></table>"
      ],
      "text/plain": [
       "<analytica.DataFrame at 0x7fd95839f550>"
      ]
     },
     "execution_count": 49,
     "metadata": {},
     "output_type": "execute_result"
    }
   ],
   "source": [
    "print(pd_df.sum(axis=1))\n",
    "alt_df.sum(axis=1)"
   ]
  },
  {
   "cell_type": "code",
   "execution_count": 50,
   "metadata": {},
   "outputs": [
    {
     "name": "stdout",
     "output_type": "stream",
     "text": [
      "a    abc\n",
      "b    cde\n",
      "c    fgh\n",
      "dtype: object\n"
     ]
    },
    {
     "data": {
      "text/html": [
       "<table><thead><tr><th></th><th>a         </th><th>b         </th><th>c         </th></tr></thead><tbody><tr><td><strong>0</strong></td><td>abc       </td><td>cde       </td><td>fgh       </td></tr></tbody></table>"
      ],
      "text/plain": [
       "<analytica.DataFrame at 0x7fd95839f310>"
      ]
     },
     "execution_count": 50,
     "metadata": {},
     "output_type": "execute_result"
    }
   ],
   "source": [
    "print(pd_df2.sum())\n",
    "alt_df2.sum()"
   ]
  },
  {
   "cell_type": "code",
   "execution_count": 51,
   "metadata": {},
   "outputs": [
    {
     "name": "stdout",
     "output_type": "stream",
     "text": [
      "0    0.0\n",
      "1    0.0\n",
      "2    0.0\n",
      "dtype: float64\n"
     ]
    },
    {
     "data": {
      "text/html": [
       "<table><thead><tr><th></th><th>sum       </th></tr></thead><tbody><tr><td><strong>0</strong></td><td>       nan</td></tr><tr><td><strong>1</strong></td><td>       nan</td></tr><tr><td><strong>2</strong></td><td>       nan</td></tr></tbody></table>"
      ],
      "text/plain": [
       "<analytica.DataFrame at 0x7fd9583e0ad0>"
      ]
     },
     "execution_count": 51,
     "metadata": {},
     "output_type": "execute_result"
    }
   ],
   "source": [
    "print(pd_df2.sum(axis=1))\n",
    "alt_df2.sum(axis=1)"
   ]
  },
  {
   "cell_type": "markdown",
   "metadata": {},
   "source": [
    "# ArgMax"
   ]
  },
  {
   "cell_type": "code",
   "execution_count": 52,
   "metadata": {},
   "outputs": [
    {
     "name": "stdout",
     "output_type": "stream",
     "text": [
      "   a     b         c      d  e    f\n",
      "0  a     c  0.706794   True  1  3.4\n",
      "1  b     d  0.815813  False  2  NaN\n",
      "2  c  None  0.941112   True  3  5.1\n"
     ]
    },
    {
     "data": {
      "text/html": [
       "<table><thead><tr><th></th><th>a         </th><th>c         </th><th>d         </th><th>e         </th><th>f         </th></tr></thead><tbody><tr><td><strong>0</strong></td><td>         2</td><td>         2</td><td>         0</td><td>         2</td><td>         2</td></tr></tbody></table>"
      ],
      "text/plain": [
       "<analytica.DataFrame at 0x7fd9584141d0>"
      ]
     },
     "execution_count": 52,
     "metadata": {},
     "output_type": "execute_result"
    }
   ],
   "source": [
    "print(pd_df)\n",
    "alt_df.argmax()"
   ]
  },
  {
   "cell_type": "code",
   "execution_count": 53,
   "metadata": {},
   "outputs": [
    {
     "name": "stdout",
     "output_type": "stream",
     "text": [
      "   a  b  c     d     e     f\n",
      "0  a  c  f     i     k     m\n",
      "1  b  d  g     j  None     n\n",
      "2  c  e  h  None     l  None\n"
     ]
    },
    {
     "data": {
      "text/html": [
       "<table><thead><tr><th></th><th>a         </th><th>b         </th><th>c         </th></tr></thead><tbody><tr><td><strong>0</strong></td><td>         2</td><td>         2</td><td>         2</td></tr></tbody></table>"
      ],
      "text/plain": [
       "<analytica.DataFrame at 0x7fd9583922d0>"
      ]
     },
     "execution_count": 53,
     "metadata": {},
     "output_type": "execute_result"
    }
   ],
   "source": [
    "print(pd_df2)\n",
    "alt_df2.argmax()"
   ]
  },
  {
   "cell_type": "markdown",
   "metadata": {},
   "source": [
    "# ArgMin"
   ]
  },
  {
   "cell_type": "code",
   "execution_count": 54,
   "metadata": {},
   "outputs": [
    {
     "name": "stdout",
     "output_type": "stream",
     "text": [
      "   a     b         c      d  e    f\n",
      "0  a     c  0.706794   True  1  3.4\n",
      "1  b     d  0.815813  False  2  NaN\n",
      "2  c  None  0.941112   True  3  5.1\n"
     ]
    },
    {
     "data": {
      "text/html": [
       "<table><thead><tr><th></th><th>a         </th><th>c         </th><th>d         </th><th>e         </th><th>f         </th></tr></thead><tbody><tr><td><strong>0</strong></td><td>         0</td><td>         0</td><td>         1</td><td>         0</td><td>         0</td></tr></tbody></table>"
      ],
      "text/plain": [
       "<analytica.DataFrame at 0x7fd9583a1710>"
      ]
     },
     "execution_count": 54,
     "metadata": {},
     "output_type": "execute_result"
    }
   ],
   "source": [
    "print(pd_df)\n",
    "alt_df.argmin()"
   ]
  },
  {
   "cell_type": "code",
   "execution_count": 55,
   "metadata": {},
   "outputs": [
    {
     "name": "stdout",
     "output_type": "stream",
     "text": [
      "   a  b  c     d     e     f\n",
      "0  a  c  f     i     k     m\n",
      "1  b  d  g     j  None     n\n",
      "2  c  e  h  None     l  None\n"
     ]
    },
    {
     "data": {
      "text/html": [
       "<table><thead><tr><th></th><th>a         </th><th>b         </th><th>c         </th></tr></thead><tbody><tr><td><strong>0</strong></td><td>         0</td><td>         0</td><td>         0</td></tr></tbody></table>"
      ],
      "text/plain": [
       "<analytica.DataFrame at 0x7fd9583a1e90>"
      ]
     },
     "execution_count": 55,
     "metadata": {},
     "output_type": "execute_result"
    }
   ],
   "source": [
    "print(pd_df2)\n",
    "alt_df2.argmin()"
   ]
  },
  {
   "cell_type": "markdown",
   "metadata": {},
   "source": [
    "# All"
   ]
  },
  {
   "cell_type": "code",
   "execution_count": 56,
   "metadata": {},
   "outputs": [
    {
     "name": "stdout",
     "output_type": "stream",
     "text": [
      "a     True\n",
      "b     True\n",
      "c     True\n",
      "d    False\n",
      "e     True\n",
      "f     True\n",
      "dtype: bool\n"
     ]
    },
    {
     "data": {
      "text/html": [
       "<table><thead><tr><th></th><th>a         </th><th>b         </th><th>c         </th><th>d         </th><th>e         </th><th>f         </th></tr></thead><tbody><tr><td><strong>0</strong></td><td>True</td><td>True</td><td>True</td><td>False</td><td>True</td><td>True</td></tr></tbody></table>"
      ],
      "text/plain": [
       "<analytica.DataFrame at 0x7fd9583a6e50>"
      ]
     },
     "execution_count": 56,
     "metadata": {},
     "output_type": "execute_result"
    }
   ],
   "source": [
    "print(pd_df.all())\n",
    "alt_df.all()"
   ]
  },
  {
   "cell_type": "code",
   "execution_count": 57,
   "metadata": {},
   "outputs": [
    {
     "name": "stdout",
     "output_type": "stream",
     "text": [
      "0     True\n",
      "1    False\n",
      "2     True\n",
      "dtype: bool\n"
     ]
    },
    {
     "data": {
      "text/html": [
       "<table><thead><tr><th></th><th>all       </th></tr></thead><tbody><tr><td><strong>0</strong></td><td>True</td></tr><tr><td><strong>1</strong></td><td>False</td></tr><tr><td><strong>2</strong></td><td>True</td></tr></tbody></table>"
      ],
      "text/plain": [
       "<analytica.DataFrame at 0x7fd9583a6110>"
      ]
     },
     "execution_count": 57,
     "metadata": {},
     "output_type": "execute_result"
    }
   ],
   "source": [
    "print(pd_df.all(axis=1))\n",
    "alt_df.all(axis=1)"
   ]
  },
  {
   "cell_type": "code",
   "execution_count": 58,
   "metadata": {},
   "outputs": [
    {
     "name": "stdout",
     "output_type": "stream",
     "text": [
      "a    True\n",
      "b    True\n",
      "c    True\n",
      "d    True\n",
      "e    True\n",
      "f    True\n",
      "dtype: bool\n"
     ]
    },
    {
     "data": {
      "text/html": [
       "<table><thead><tr><th></th><th>a         </th><th>b         </th><th>c         </th><th>d         </th><th>e         </th><th>f         </th></tr></thead><tbody><tr><td><strong>0</strong></td><td>True</td><td>True</td><td>True</td><td>True</td><td>True</td><td>True</td></tr></tbody></table>"
      ],
      "text/plain": [
       "<analytica.DataFrame at 0x7fd9583e8d10>"
      ]
     },
     "execution_count": 58,
     "metadata": {},
     "output_type": "execute_result"
    }
   ],
   "source": [
    "print(pd_df2.all())\n",
    "alt_df2.all()"
   ]
  },
  {
   "cell_type": "code",
   "execution_count": 59,
   "metadata": {},
   "outputs": [
    {
     "name": "stdout",
     "output_type": "stream",
     "text": [
      "0    True\n",
      "1    True\n",
      "2    True\n",
      "dtype: bool\n"
     ]
    },
    {
     "data": {
      "text/html": [
       "<table><thead><tr><th></th><th>all       </th></tr></thead><tbody><tr><td><strong>0</strong></td><td>True</td></tr><tr><td><strong>1</strong></td><td>True</td></tr><tr><td><strong>2</strong></td><td>True</td></tr></tbody></table>"
      ],
      "text/plain": [
       "<analytica.DataFrame at 0x7fd9583ac890>"
      ]
     },
     "execution_count": 59,
     "metadata": {},
     "output_type": "execute_result"
    }
   ],
   "source": [
    "print(pd_df2.all(axis=1))\n",
    "alt_df2.all(axis=1)"
   ]
  },
  {
   "cell_type": "markdown",
   "metadata": {},
   "source": [
    "# Any"
   ]
  },
  {
   "cell_type": "code",
   "execution_count": 60,
   "metadata": {},
   "outputs": [
    {
     "name": "stdout",
     "output_type": "stream",
     "text": [
      "a    True\n",
      "b    True\n",
      "c    True\n",
      "d    True\n",
      "e    True\n",
      "f    True\n",
      "dtype: bool\n"
     ]
    },
    {
     "data": {
      "text/html": [
       "<table><thead><tr><th></th><th>a         </th><th>b         </th><th>c         </th><th>d         </th><th>e         </th><th>f         </th></tr></thead><tbody><tr><td><strong>0</strong></td><td>True</td><td>True</td><td>True</td><td>True</td><td>True</td><td>True</td></tr></tbody></table>"
      ],
      "text/plain": [
       "<analytica.DataFrame at 0x7fd9583acd50>"
      ]
     },
     "execution_count": 60,
     "metadata": {},
     "output_type": "execute_result"
    }
   ],
   "source": [
    "print(pd_df.any())\n",
    "alt_df.any()"
   ]
  },
  {
   "cell_type": "code",
   "execution_count": 61,
   "metadata": {},
   "outputs": [
    {
     "name": "stdout",
     "output_type": "stream",
     "text": [
      "0    True\n",
      "1    True\n",
      "2    True\n",
      "dtype: bool\n"
     ]
    },
    {
     "data": {
      "text/html": [
       "<table><thead><tr><th></th><th>any       </th></tr></thead><tbody><tr><td><strong>0</strong></td><td>True</td></tr><tr><td><strong>1</strong></td><td>True</td></tr><tr><td><strong>2</strong></td><td>True</td></tr></tbody></table>"
      ],
      "text/plain": [
       "<analytica.DataFrame at 0x7fd9583ac8d0>"
      ]
     },
     "execution_count": 61,
     "metadata": {},
     "output_type": "execute_result"
    }
   ],
   "source": [
    "print(pd_df.any(axis=1))\n",
    "alt_df.any(axis=1)"
   ]
  },
  {
   "cell_type": "code",
   "execution_count": 62,
   "metadata": {},
   "outputs": [
    {
     "name": "stdout",
     "output_type": "stream",
     "text": [
      "a    True\n",
      "b    True\n",
      "c    True\n",
      "d    True\n",
      "e    True\n",
      "f    True\n",
      "dtype: bool\n"
     ]
    },
    {
     "data": {
      "text/html": [
       "<table><thead><tr><th></th><th>a         </th><th>b         </th><th>c         </th><th>d         </th><th>e         </th><th>f         </th></tr></thead><tbody><tr><td><strong>0</strong></td><td>True</td><td>True</td><td>True</td><td>True</td><td>True</td><td>True</td></tr></tbody></table>"
      ],
      "text/plain": [
       "<analytica.DataFrame at 0x7fd9583ac750>"
      ]
     },
     "execution_count": 62,
     "metadata": {},
     "output_type": "execute_result"
    }
   ],
   "source": [
    "print(pd_df2.any())\n",
    "alt_df2.any()"
   ]
  },
  {
   "cell_type": "code",
   "execution_count": 63,
   "metadata": {},
   "outputs": [
    {
     "name": "stdout",
     "output_type": "stream",
     "text": [
      "0    True\n",
      "1    True\n",
      "2    True\n",
      "dtype: bool\n"
     ]
    },
    {
     "data": {
      "text/html": [
       "<table><thead><tr><th></th><th>any       </th></tr></thead><tbody><tr><td><strong>0</strong></td><td>True</td></tr><tr><td><strong>1</strong></td><td>True</td></tr><tr><td><strong>2</strong></td><td>True</td></tr></tbody></table>"
      ],
      "text/plain": [
       "<analytica.DataFrame at 0x7fd9583df3d0>"
      ]
     },
     "execution_count": 63,
     "metadata": {},
     "output_type": "execute_result"
    }
   ],
   "source": [
    "print(pd_df2.any(axis=1))\n",
    "alt_df2.any(axis=1)"
   ]
  },
  {
   "cell_type": "markdown",
   "metadata": {},
   "source": [
    "# Var"
   ]
  },
  {
   "cell_type": "code",
   "execution_count": 64,
   "metadata": {},
   "outputs": [
    {
     "name": "stdout",
     "output_type": "stream",
     "text": [
      "c    0.013748\n",
      "d    0.333333\n",
      "e    1.000000\n",
      "f    1.445000\n",
      "dtype: float64\n"
     ]
    },
    {
     "data": {
      "text/html": [
       "<table><thead><tr><th></th><th>c         </th><th>d         </th><th>e         </th><th>f         </th></tr></thead><tbody><tr><td><strong>0</strong></td><td>     0.014</td><td>     0.333</td><td>     1.000</td><td>     1.445</td></tr></tbody></table>"
      ],
      "text/plain": [
       "<analytica.DataFrame at 0x7fd9583f6f10>"
      ]
     },
     "execution_count": 64,
     "metadata": {},
     "output_type": "execute_result"
    }
   ],
   "source": [
    "print(pd_df.var())\n",
    "alt_df.var()"
   ]
  },
  {
   "cell_type": "code",
   "execution_count": 65,
   "metadata": {},
   "outputs": [
    {
     "name": "stdout",
     "output_type": "stream",
     "text": [
      "0    1.578775\n",
      "1    1.011308\n",
      "2    3.896570\n",
      "dtype: float64\n"
     ]
    },
    {
     "data": {
      "text/html": [
       "<table><thead><tr><th></th><th>var       </th></tr></thead><tbody><tr><td><strong>0</strong></td><td>     1.579</td></tr><tr><td><strong>1</strong></td><td>     1.011</td></tr><tr><td><strong>2</strong></td><td>     3.897</td></tr></tbody></table>"
      ],
      "text/plain": [
       "<analytica.DataFrame at 0x7fd9583e0210>"
      ]
     },
     "execution_count": 65,
     "metadata": {},
     "output_type": "execute_result"
    }
   ],
   "source": [
    "print(pd_df.var(axis=1))\n",
    "alt_df.var(axis=1)"
   ]
  },
  {
   "cell_type": "code",
   "execution_count": 66,
   "metadata": {},
   "outputs": [
    {
     "name": "stdout",
     "output_type": "stream",
     "text": [
      "Series([], dtype: float64)\n"
     ]
    },
    {
     "data": {
      "text/plain": [
       "[]"
      ]
     },
     "execution_count": 66,
     "metadata": {},
     "output_type": "execute_result"
    }
   ],
   "source": [
    "print(pd_df2.var())\n",
    "alt_df2.var()"
   ]
  },
  {
   "cell_type": "code",
   "execution_count": 67,
   "metadata": {},
   "outputs": [
    {
     "name": "stdout",
     "output_type": "stream",
     "text": [
      "0   NaN\n",
      "1   NaN\n",
      "2   NaN\n",
      "dtype: float64\n"
     ]
    },
    {
     "data": {
      "text/html": [
       "<table><thead><tr><th></th><th>var       </th></tr></thead><tbody><tr><td><strong>0</strong></td><td>       nan</td></tr><tr><td><strong>1</strong></td><td>       nan</td></tr><tr><td><strong>2</strong></td><td>       nan</td></tr></tbody></table>"
      ],
      "text/plain": [
       "<analytica.DataFrame at 0x7fd9583b0dd0>"
      ]
     },
     "execution_count": 67,
     "metadata": {},
     "output_type": "execute_result"
    }
   ],
   "source": [
    "print(pd_df2.var(axis=1))\n",
    "alt_df2.var(axis=1)"
   ]
  },
  {
   "cell_type": "markdown",
   "metadata": {},
   "source": [
    "# Std. Dev"
   ]
  },
  {
   "cell_type": "code",
   "execution_count": 68,
   "metadata": {},
   "outputs": [
    {
     "name": "stdout",
     "output_type": "stream",
     "text": [
      "c    0.117253\n",
      "d    0.577350\n",
      "e    1.000000\n",
      "f    1.202082\n",
      "dtype: float64\n"
     ]
    },
    {
     "data": {
      "text/html": [
       "<table><thead><tr><th></th><th>c         </th><th>d         </th><th>e         </th><th>f         </th></tr></thead><tbody><tr><td><strong>0</strong></td><td>     0.117</td><td>     0.577</td><td>     1.000</td><td>     1.202</td></tr></tbody></table>"
      ],
      "text/plain": [
       "<analytica.DataFrame at 0x7fd9583b07d0>"
      ]
     },
     "execution_count": 68,
     "metadata": {},
     "output_type": "execute_result"
    }
   ],
   "source": [
    "print(pd_df.std())\n",
    "alt_df.std()"
   ]
  },
  {
   "cell_type": "code",
   "execution_count": 69,
   "metadata": {},
   "outputs": [
    {
     "name": "stdout",
     "output_type": "stream",
     "text": [
      "0    1.256493\n",
      "1    1.005638\n",
      "2    1.973973\n",
      "dtype: float64\n"
     ]
    },
    {
     "data": {
      "text/html": [
       "<table><thead><tr><th></th><th>std       </th></tr></thead><tbody><tr><td><strong>0</strong></td><td>     1.256</td></tr><tr><td><strong>1</strong></td><td>     1.006</td></tr><tr><td><strong>2</strong></td><td>     1.974</td></tr></tbody></table>"
      ],
      "text/plain": [
       "<analytica.DataFrame at 0x7fd9583e8bd0>"
      ]
     },
     "execution_count": 69,
     "metadata": {},
     "output_type": "execute_result"
    }
   ],
   "source": [
    "print(pd_df.std(axis=1))\n",
    "alt_df.std(axis=1)"
   ]
  },
  {
   "cell_type": "code",
   "execution_count": 70,
   "metadata": {},
   "outputs": [
    {
     "name": "stdout",
     "output_type": "stream",
     "text": [
      "Series([], dtype: float64)\n"
     ]
    },
    {
     "data": {
      "text/plain": [
       "[]"
      ]
     },
     "execution_count": 70,
     "metadata": {},
     "output_type": "execute_result"
    }
   ],
   "source": [
    "print(pd_df2.std())\n",
    "alt_df2.std()"
   ]
  },
  {
   "cell_type": "code",
   "execution_count": 71,
   "metadata": {},
   "outputs": [
    {
     "name": "stdout",
     "output_type": "stream",
     "text": [
      "0   NaN\n",
      "1   NaN\n",
      "2   NaN\n",
      "dtype: float64\n"
     ]
    },
    {
     "data": {
      "text/html": [
       "<table><thead><tr><th></th><th>std       </th></tr></thead><tbody><tr><td><strong>0</strong></td><td>       nan</td></tr><tr><td><strong>1</strong></td><td>       nan</td></tr><tr><td><strong>2</strong></td><td>       nan</td></tr></tbody></table>"
      ],
      "text/plain": [
       "<analytica.DataFrame at 0x7fd9583a6fd0>"
      ]
     },
     "execution_count": 71,
     "metadata": {},
     "output_type": "execute_result"
    }
   ],
   "source": [
    "print(pd_df2.std(axis=1))\n",
    "alt_df2.std(axis=1)"
   ]
  },
  {
   "cell_type": "markdown",
   "metadata": {},
   "source": [
    "# isna"
   ]
  },
  {
   "cell_type": "code",
   "execution_count": 72,
   "metadata": {},
   "outputs": [
    {
     "name": "stdout",
     "output_type": "stream",
     "text": [
      "       a      b      c      d      e      f\n",
      "0  False  False  False  False  False  False\n",
      "1  False  False  False  False  False   True\n",
      "2  False   True  False  False  False  False\n"
     ]
    },
    {
     "data": {
      "text/html": [
       "<table><thead><tr><th></th><th>a         </th><th>b         </th><th>c         </th><th>d         </th><th>e         </th><th>f         </th></tr></thead><tbody><tr><td><strong>0</strong></td><td>False</td><td>False</td><td>False</td><td>False</td><td>False</td><td>False</td></tr><tr><td><strong>1</strong></td><td>False</td><td>False</td><td>False</td><td>False</td><td>False</td><td>True</td></tr><tr><td><strong>2</strong></td><td>False</td><td>True</td><td>False</td><td>False</td><td>False</td><td>False</td></tr></tbody></table>"
      ],
      "text/plain": [
       "<analytica.DataFrame at 0x7fd9583acb10>"
      ]
     },
     "execution_count": 72,
     "metadata": {},
     "output_type": "execute_result"
    }
   ],
   "source": [
    "print(pd_df.isna())\n",
    "alt_df.isna()"
   ]
  },
  {
   "cell_type": "code",
   "execution_count": 73,
   "metadata": {},
   "outputs": [
    {
     "name": "stdout",
     "output_type": "stream",
     "text": [
      "       a      b      c      d      e      f\n",
      "0  False  False  False  False  False  False\n",
      "1  False  False  False  False   True  False\n",
      "2  False  False  False   True  False   True\n"
     ]
    },
    {
     "data": {
      "text/html": [
       "<table><thead><tr><th></th><th>a         </th><th>b         </th><th>c         </th><th>d         </th><th>e         </th><th>f         </th></tr></thead><tbody><tr><td><strong>0</strong></td><td>False</td><td>False</td><td>False</td><td>False</td><td>False</td><td>False</td></tr><tr><td><strong>1</strong></td><td>False</td><td>False</td><td>False</td><td>False</td><td>True</td><td>False</td></tr><tr><td><strong>2</strong></td><td>False</td><td>False</td><td>False</td><td>True</td><td>False</td><td>True</td></tr></tbody></table>"
      ],
      "text/plain": [
       "<analytica.DataFrame at 0x7fd9583e0bd0>"
      ]
     },
     "execution_count": 73,
     "metadata": {},
     "output_type": "execute_result"
    }
   ],
   "source": [
    "print(pd_df2.isna())\n",
    "alt_df2.isna()"
   ]
  },
  {
   "cell_type": "markdown",
   "metadata": {},
   "source": [
    "# Head & Tail"
   ]
  },
  {
   "cell_type": "code",
   "execution_count": 74,
   "metadata": {},
   "outputs": [
    {
     "name": "stdout",
     "output_type": "stream",
     "text": [
      "   a  b         c      d  e    f\n",
      "0  a  c  0.706794   True  1  3.4\n",
      "1  b  d  0.815813  False  2  NaN\n"
     ]
    },
    {
     "data": {
      "text/html": [
       "<table><thead><tr><th></th><th>a         </th><th>b         </th><th>c         </th><th>d         </th><th>e         </th><th>f         </th></tr></thead><tbody><tr><td><strong>0</strong></td><td>a         </td><td>c         </td><td>     0.707</td><td>True</td><td>         1</td><td>     3.400</td></tr><tr><td><strong>1</strong></td><td>b         </td><td>d         </td><td>     0.816</td><td>False</td><td>         2</td><td>       nan</td></tr></tbody></table>"
      ],
      "text/plain": [
       "<analytica.DataFrame at 0x7fd9583dff10>"
      ]
     },
     "execution_count": 74,
     "metadata": {},
     "output_type": "execute_result"
    }
   ],
   "source": [
    "print(pd_df.head(2))\n",
    "alt_df.head(2)"
   ]
  },
  {
   "cell_type": "code",
   "execution_count": 75,
   "metadata": {},
   "outputs": [
    {
     "name": "stdout",
     "output_type": "stream",
     "text": [
      "   a     b         c      d  e    f\n",
      "1  b     d  0.815813  False  2  NaN\n",
      "2  c  None  0.941112   True  3  5.1\n"
     ]
    },
    {
     "data": {
      "text/html": [
       "<table><thead><tr><th></th><th>a         </th><th>b         </th><th>c         </th><th>d         </th><th>e         </th><th>f         </th></tr></thead><tbody><tr><td><strong>0</strong></td><td>b         </td><td>d         </td><td>     0.816</td><td>False</td><td>         2</td><td>       nan</td></tr><tr><td><strong>1</strong></td><td>c         </td><td>None      </td><td>     0.941</td><td>True</td><td>         3</td><td>     5.100</td></tr></tbody></table>"
      ],
      "text/plain": [
       "<analytica.DataFrame at 0x7fd95839a9d0>"
      ]
     },
     "execution_count": 75,
     "metadata": {},
     "output_type": "execute_result"
    }
   ],
   "source": [
    "print(pd_df.tail(2))\n",
    "alt_df.tail(2)"
   ]
  },
  {
   "cell_type": "markdown",
   "metadata": {},
   "source": [
    "# Count"
   ]
  },
  {
   "cell_type": "code",
   "execution_count": 76,
   "metadata": {},
   "outputs": [
    {
     "name": "stdout",
     "output_type": "stream",
     "text": [
      "a    3\n",
      "b    2\n",
      "c    3\n",
      "d    3\n",
      "e    3\n",
      "f    2\n",
      "dtype: int64\n"
     ]
    },
    {
     "data": {
      "text/html": [
       "<table><thead><tr><th></th><th>a         </th><th>b         </th><th>c         </th><th>d         </th><th>e         </th><th>f         </th></tr></thead><tbody><tr><td><strong>0</strong></td><td>         3</td><td>         2</td><td>         3</td><td>         3</td><td>         3</td><td>         2</td></tr></tbody></table>"
      ],
      "text/plain": [
       "<analytica.DataFrame at 0x7fd95838be50>"
      ]
     },
     "execution_count": 76,
     "metadata": {},
     "output_type": "execute_result"
    }
   ],
   "source": [
    "print(pd_df.count())\n",
    "alt_df.count()"
   ]
  },
  {
   "cell_type": "code",
   "execution_count": 77,
   "metadata": {},
   "outputs": [
    {
     "name": "stdout",
     "output_type": "stream",
     "text": [
      "0    6\n",
      "1    5\n",
      "2    5\n",
      "dtype: int64\n"
     ]
    },
    {
     "data": {
      "text/html": [
       "<table><thead><tr><th></th><th>count     </th></tr></thead><tbody><tr><td><strong>0</strong></td><td>         6</td></tr><tr><td><strong>1</strong></td><td>         5</td></tr><tr><td><strong>2</strong></td><td>         5</td></tr></tbody></table>"
      ],
      "text/plain": [
       "<analytica.DataFrame at 0x7fd958389a10>"
      ]
     },
     "execution_count": 77,
     "metadata": {},
     "output_type": "execute_result"
    }
   ],
   "source": [
    "print(pd_df.count(axis=1))\n",
    "alt_df.count(axis=1)"
   ]
  },
  {
   "cell_type": "code",
   "execution_count": 78,
   "metadata": {},
   "outputs": [
    {
     "name": "stdout",
     "output_type": "stream",
     "text": [
      "a    3\n",
      "b    3\n",
      "c    3\n",
      "d    2\n",
      "e    2\n",
      "f    2\n",
      "dtype: int64\n"
     ]
    },
    {
     "data": {
      "text/html": [
       "<table><thead><tr><th></th><th>a         </th><th>b         </th><th>c         </th><th>d         </th><th>e         </th><th>f         </th></tr></thead><tbody><tr><td><strong>0</strong></td><td>         3</td><td>         3</td><td>         3</td><td>         2</td><td>         2</td><td>         2</td></tr></tbody></table>"
      ],
      "text/plain": [
       "<analytica.DataFrame at 0x7fd95838b350>"
      ]
     },
     "execution_count": 78,
     "metadata": {},
     "output_type": "execute_result"
    }
   ],
   "source": [
    "print(pd_df2.count())\n",
    "alt_df2.count()"
   ]
  },
  {
   "cell_type": "code",
   "execution_count": 79,
   "metadata": {},
   "outputs": [
    {
     "name": "stdout",
     "output_type": "stream",
     "text": [
      "0    6\n",
      "1    5\n",
      "2    4\n",
      "dtype: int64\n"
     ]
    },
    {
     "data": {
      "text/html": [
       "<table><thead><tr><th></th><th>count     </th></tr></thead><tbody><tr><td><strong>0</strong></td><td>         6</td></tr><tr><td><strong>1</strong></td><td>         5</td></tr><tr><td><strong>2</strong></td><td>         4</td></tr></tbody></table>"
      ],
      "text/plain": [
       "<analytica.DataFrame at 0x7fd958414610>"
      ]
     },
     "execution_count": 79,
     "metadata": {},
     "output_type": "execute_result"
    }
   ],
   "source": [
    "print(pd_df2.count(axis=1))\n",
    "alt_df2.count(axis=1)"
   ]
  },
  {
   "cell_type": "markdown",
   "metadata": {},
   "source": [
    "# Rename"
   ]
  },
  {
   "cell_type": "code",
   "execution_count": 80,
   "metadata": {},
   "outputs": [
    {
     "name": "stdout",
     "output_type": "stream",
     "text": [
      "   A     b         C      d  e    f\n",
      "0  a     c  0.706794   True  1  3.4\n",
      "1  b     d  0.815813  False  2  NaN\n",
      "2  c  None  0.941112   True  3  5.1\n"
     ]
    },
    {
     "data": {
      "text/html": [
       "<table><thead><tr><th></th><th>A         </th><th>b         </th><th>C         </th><th>d         </th><th>e         </th><th>f         </th></tr></thead><tbody><tr><td><strong>0</strong></td><td>a         </td><td>c         </td><td>     0.707</td><td>True</td><td>         1</td><td>     3.400</td></tr><tr><td><strong>1</strong></td><td>b         </td><td>d         </td><td>     0.816</td><td>False</td><td>         2</td><td>       nan</td></tr><tr><td><strong>2</strong></td><td>c         </td><td>None      </td><td>     0.941</td><td>True</td><td>         3</td><td>     5.100</td></tr></tbody></table>"
      ],
      "text/plain": [
       "<analytica.DataFrame at 0x7fd95861ddd0>"
      ]
     },
     "execution_count": 80,
     "metadata": {},
     "output_type": "execute_result"
    }
   ],
   "source": [
    "print(pd_df.rename(columns={'a':'A','c':'C'}))\n",
    "alt_df.rename({'a':'A','c':'C'})"
   ]
  },
  {
   "cell_type": "code",
   "execution_count": null,
   "metadata": {},
   "outputs": [],
   "source": []
  }
 ],
 "metadata": {
  "kernelspec": {
   "display_name": "Python [conda env:Analytica]",
   "language": "python",
   "name": "conda-env-Analytica-py"
  },
  "language_info": {
   "codemirror_mode": {
    "name": "ipython",
    "version": 3
   },
   "file_extension": ".py",
   "mimetype": "text/x-python",
   "name": "python",
   "nbconvert_exporter": "python",
   "pygments_lexer": "ipython3",
   "version": "3.7.4"
  }
 },
 "nbformat": 4,
 "nbformat_minor": 2
}
