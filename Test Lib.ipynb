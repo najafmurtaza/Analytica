{
 "cells": [
  {
   "cell_type": "code",
   "execution_count": 1,
   "metadata": {},
   "outputs": [],
   "source": [
    "%load_ext autoreload\n",
    "%autoreload 2"
   ]
  },
  {
   "cell_type": "code",
   "execution_count": 2,
   "metadata": {},
   "outputs": [],
   "source": [
    "import analytica as alt\n",
    "import numpy as np\n",
    "import pandas as pd"
   ]
  },
  {
   "cell_type": "code",
   "execution_count": 3,
   "metadata": {},
   "outputs": [],
   "source": [
    "a = np.array(['a', 'b', 'c'])\n",
    "b = np.array(['c', 'd', None])\n",
    "c = np.random.rand(3)\n",
    "d = np.array([True, False, True])\n",
    "e = np.array([1, 2, 3])\n",
    "f = np.array([3.4, np.nan, 5.1])\n",
    "\n",
    "data_dict = {'a': a, 'b': b, 'c': c, 'd': d, 'e': e, 'f':f}"
   ]
  },
  {
   "cell_type": "code",
   "execution_count": 4,
   "metadata": {},
   "outputs": [],
   "source": [
    "alt_df = alt.DataFrame(data_dict)\n",
    "pd_df = pd.DataFrame(data_dict)"
   ]
  },
  {
   "cell_type": "code",
   "execution_count": 5,
   "metadata": {},
   "outputs": [
    {
     "name": "stdout",
     "output_type": "stream",
     "text": [
      "3\n",
      "3\n"
     ]
    }
   ],
   "source": [
    "print(len(alt_df))\n",
    "print(len(pd_df))"
   ]
  },
  {
   "cell_type": "code",
   "execution_count": 6,
   "metadata": {},
   "outputs": [
    {
     "name": "stdout",
     "output_type": "stream",
     "text": [
      "['a', 'b', 'c', 'd', 'e', 'f']\n",
      "Index(['a', 'b', 'c', 'd', 'e', 'f'], dtype='object')\n"
     ]
    }
   ],
   "source": [
    "print(alt_df.columns)\n",
    "print(pd_df.columns)"
   ]
  },
  {
   "cell_type": "code",
   "execution_count": 7,
   "metadata": {},
   "outputs": [
    {
     "name": "stdout",
     "output_type": "stream",
     "text": [
      "['f', 'g', 'h', 'i', 'j', 'k']\n",
      "Index(['f', 'g', 'h', 'i', 'j', 'k'], dtype='object')\n"
     ]
    }
   ],
   "source": [
    "alt_df.columns = ['f', 'g', 'h', 'i', 'j', 'k']\n",
    "pd_df.columns = ['f', 'g', 'h', 'i', 'j', 'k']\n",
    "\n",
    "print(alt_df.columns)\n",
    "print(pd_df.columns)\n",
    "\n",
    "alt_df.columns = ['a', 'b', 'c', 'd', 'e', 'f']\n",
    "pd_df.columns = ['a', 'b', 'c', 'd', 'e', 'f']"
   ]
  },
  {
   "cell_type": "code",
   "execution_count": 8,
   "metadata": {},
   "outputs": [
    {
     "name": "stdout",
     "output_type": "stream",
     "text": [
      "(3, 6)\n",
      "(3, 6)\n"
     ]
    }
   ],
   "source": [
    "print(alt_df.shape)\n",
    "print(pd_df.shape)"
   ]
  },
  {
   "cell_type": "code",
   "execution_count": 9,
   "metadata": {},
   "outputs": [
    {
     "name": "stdout",
     "output_type": "stream",
     "text": [
      "a     object\n",
      "b     object\n",
      "c    float64\n",
      "d       bool\n",
      "e      int64\n",
      "f    float64\n",
      "dtype: object\n",
      "None\n"
     ]
    },
    {
     "data": {
      "text/html": [
       "<table><thead><tr><th></th><th>Column Name</th><th>Data Type </th></tr></thead><tbody><tr><td><strong>0</strong></td><td>a         </td><td>object    </td></tr><tr><td><strong>1</strong></td><td>b         </td><td>object    </td></tr><tr><td><strong>2</strong></td><td>c         </td><td>float64   </td></tr><tr><td><strong>3</strong></td><td>d         </td><td>bool      </td></tr><tr><td><strong>4</strong></td><td>e         </td><td>int64     </td></tr><tr><td><strong>5</strong></td><td>f         </td><td>float64   </td></tr></tbody></table>"
      ],
      "text/plain": [
       "<analytica.DataFrame at 0x7f206b98ce90>"
      ]
     },
     "execution_count": 9,
     "metadata": {},
     "output_type": "execute_result"
    }
   ],
   "source": [
    "print(print(pd_df.dtypes))\n",
    "alt_df.dtypes"
   ]
  },
  {
   "cell_type": "code",
   "execution_count": 10,
   "metadata": {},
   "outputs": [
    {
     "name": "stdout",
     "output_type": "stream",
     "text": [
      "[['a' 'c' 0.3256912127049797 True 1 3.4]\n",
      " ['b' 'd' 0.11514028692762834 False 2 nan]\n",
      " ['c' None 0.711152466568373 True 3 5.1]]\n",
      "[['a' 'c' 0.3256912127049797 True 1 3.4]\n",
      " ['b' 'd' 0.11514028692762834 False 2 nan]\n",
      " ['c' None 0.711152466568373 True 3 5.1]]\n"
     ]
    }
   ],
   "source": [
    "print(alt_df.values)\n",
    "print(pd_df.values)"
   ]
  },
  {
   "cell_type": "code",
   "execution_count": 11,
   "metadata": {},
   "outputs": [
    {
     "name": "stdout",
     "output_type": "stream",
     "text": [
      "0       c\n",
      "1       d\n",
      "2    None\n",
      "Name: b, dtype: object\n"
     ]
    },
    {
     "data": {
      "text/html": [
       "<table><thead><tr><th></th><th>b         </th></tr></thead><tbody><tr><td><strong>0</strong></td><td>c         </td></tr><tr><td><strong>1</strong></td><td>d         </td></tr><tr><td><strong>2</strong></td><td>None      </td></tr></tbody></table>"
      ],
      "text/plain": [
       "<analytica.DataFrame at 0x7f206c0a6a90>"
      ]
     },
     "execution_count": 11,
     "metadata": {},
     "output_type": "execute_result"
    }
   ],
   "source": [
    "print(pd_df['b'])\n",
    "alt_df['b']"
   ]
  },
  {
   "cell_type": "code",
   "execution_count": 12,
   "metadata": {},
   "outputs": [
    {
     "name": "stdout",
     "output_type": "stream",
     "text": [
      "   e     b\n",
      "0  1     c\n",
      "1  2     d\n",
      "2  3  None\n"
     ]
    },
    {
     "data": {
      "text/html": [
       "<table><thead><tr><th></th><th>e         </th><th>b         </th></tr></thead><tbody><tr><td><strong>0</strong></td><td>         1</td><td>c         </td></tr><tr><td><strong>1</strong></td><td>         2</td><td>d         </td></tr><tr><td><strong>2</strong></td><td>         3</td><td>None      </td></tr></tbody></table>"
      ],
      "text/plain": [
       "<analytica.DataFrame at 0x7f20945f2250>"
      ]
     },
     "execution_count": 12,
     "metadata": {},
     "output_type": "execute_result"
    }
   ],
   "source": [
    "print(pd_df[['e', 'b']])\n",
    "alt_df[['e', 'b']]"
   ]
  },
  {
   "cell_type": "code",
   "execution_count": 13,
   "metadata": {},
   "outputs": [
    {
     "name": "stdout",
     "output_type": "stream",
     "text": [
      "   a     b         c     d  e    f\n",
      "0  a     c  0.325691  True  1  3.4\n",
      "2  c  None  0.711152  True  3  5.1\n"
     ]
    },
    {
     "data": {
      "text/html": [
       "<table><thead><tr><th></th><th>a         </th><th>b         </th><th>c         </th><th>d         </th><th>e         </th><th>f         </th></tr></thead><tbody><tr><td><strong>0</strong></td><td>a         </td><td>c         </td><td>     0.326</td><td>True</td><td>         1</td><td>     3.400</td></tr><tr><td><strong>1</strong></td><td>c         </td><td>None      </td><td>     0.711</td><td>True</td><td>         3</td><td>     5.100</td></tr></tbody></table>"
      ],
      "text/plain": [
       "<analytica.DataFrame at 0x7f206b98c690>"
      ]
     },
     "execution_count": 13,
     "metadata": {},
     "output_type": "execute_result"
    }
   ],
   "source": [
    "print(pd_df[d])\n",
    "alt_df[alt.DataFrame({'d': d})]"
   ]
  },
  {
   "cell_type": "code",
   "execution_count": 14,
   "metadata": {},
   "outputs": [
    {
     "name": "stdout",
     "output_type": "stream",
     "text": [
      "0.11514028692762834\n"
     ]
    },
    {
     "data": {
      "text/html": [
       "<table><thead><tr><th></th><th>c         </th></tr></thead><tbody><tr><td><strong>0</strong></td><td>     0.115</td></tr></tbody></table>"
      ],
      "text/plain": [
       "<analytica.DataFrame at 0x7f206b922990>"
      ]
     },
     "execution_count": 14,
     "metadata": {},
     "output_type": "execute_result"
    }
   ],
   "source": [
    "print(pd_df.iloc[1,2])\n",
    "alt_df[1,2]"
   ]
  },
  {
   "cell_type": "code",
   "execution_count": 15,
   "metadata": {},
   "outputs": [
    {
     "name": "stdout",
     "output_type": "stream",
     "text": [
      "d\n"
     ]
    },
    {
     "data": {
      "text/html": [
       "<table><thead><tr><th></th><th>b         </th></tr></thead><tbody><tr><td><strong>0</strong></td><td>d         </td></tr></tbody></table>"
      ],
      "text/plain": [
       "<analytica.DataFrame at 0x7f206b8d7210>"
      ]
     },
     "execution_count": 15,
     "metadata": {},
     "output_type": "execute_result"
    }
   ],
   "source": [
    "print(pd_df.loc[1,'b'])\n",
    "alt_df[1,'b']"
   ]
  },
  {
   "cell_type": "code",
   "execution_count": 16,
   "metadata": {},
   "outputs": [
    {
     "name": "stdout",
     "output_type": "stream",
     "text": [
      "0       c\n",
      "2    None\n",
      "Name: b, dtype: object\n"
     ]
    },
    {
     "data": {
      "text/html": [
       "<table><thead><tr><th></th><th>b         </th></tr></thead><tbody><tr><td><strong>0</strong></td><td>c         </td></tr><tr><td><strong>1</strong></td><td>None      </td></tr></tbody></table>"
      ],
      "text/plain": [
       "<analytica.DataFrame at 0x7f206b8d7350>"
      ]
     },
     "execution_count": 16,
     "metadata": {},
     "output_type": "execute_result"
    }
   ],
   "source": [
    "print(pd_df.loc[d, 'b'])\n",
    "alt_df[alt.DataFrame({'d': d}), 'b']"
   ]
  },
  {
   "cell_type": "code",
   "execution_count": 17,
   "metadata": {},
   "outputs": [
    {
     "name": "stdout",
     "output_type": "stream",
     "text": [
      "1       d\n",
      "2    None\n",
      "Name: b, dtype: object\n"
     ]
    },
    {
     "data": {
      "text/html": [
       "<table><thead><tr><th></th><th>b         </th></tr></thead><tbody><tr><td><strong>0</strong></td><td>d         </td></tr><tr><td><strong>1</strong></td><td>None      </td></tr></tbody></table>"
      ],
      "text/plain": [
       "<analytica.DataFrame at 0x7f206b8d7e90>"
      ]
     },
     "execution_count": 17,
     "metadata": {},
     "output_type": "execute_result"
    }
   ],
   "source": [
    "print(pd_df.loc[[1,2], 'b'])\n",
    "alt_df[[1,2], 'b']"
   ]
  },
  {
   "cell_type": "code",
   "execution_count": 18,
   "metadata": {},
   "outputs": [
    {
     "name": "stdout",
     "output_type": "stream",
     "text": [
      "1       d\n",
      "2    None\n",
      "Name: b, dtype: object\n"
     ]
    },
    {
     "data": {
      "text/html": [
       "<table><thead><tr><th></th><th>b         </th></tr></thead><tbody><tr><td><strong>0</strong></td><td>d         </td></tr><tr><td><strong>1</strong></td><td>None      </td></tr></tbody></table>"
      ],
      "text/plain": [
       "<analytica.DataFrame at 0x7f206b922f90>"
      ]
     },
     "execution_count": 18,
     "metadata": {},
     "output_type": "execute_result"
    }
   ],
   "source": [
    "print(pd_df.loc[1:3, 'b'])\n",
    "alt_df[1:3, 'b']"
   ]
  },
  {
   "cell_type": "code",
   "execution_count": 19,
   "metadata": {},
   "outputs": [
    {
     "name": "stdout",
     "output_type": "stream",
     "text": [
      "   a     b         c\n",
      "1  b     d  0.115140\n",
      "2  c  None  0.711152\n"
     ]
    },
    {
     "data": {
      "text/html": [
       "<table><thead><tr><th></th><th>a         </th><th>b         </th><th>c         </th></tr></thead><tbody><tr><td><strong>0</strong></td><td>b         </td><td>d         </td><td>     0.115</td></tr><tr><td><strong>1</strong></td><td>c         </td><td>None      </td><td>     0.711</td></tr></tbody></table>"
      ],
      "text/plain": [
       "<analytica.DataFrame at 0x7f206b9221d0>"
      ]
     },
     "execution_count": 19,
     "metadata": {},
     "output_type": "execute_result"
    }
   ],
   "source": [
    "print(pd_df.loc[1:3, ['a','b','c']])\n",
    "alt_df[1:3, ['a','b','c']]"
   ]
  },
  {
   "cell_type": "code",
   "execution_count": 20,
   "metadata": {},
   "outputs": [
    {
     "name": "stdout",
     "output_type": "stream",
     "text": [
      "   a     b         c\n",
      "1  b     d  0.115140\n",
      "2  c  None  0.711152\n"
     ]
    },
    {
     "data": {
      "text/html": [
       "<table><thead><tr><th></th><th>a         </th><th>b         </th><th>c         </th></tr></thead><tbody><tr><td><strong>0</strong></td><td>b         </td><td>d         </td><td>     0.115</td></tr><tr><td><strong>1</strong></td><td>c         </td><td>None      </td><td>     0.711</td></tr></tbody></table>"
      ],
      "text/plain": [
       "<analytica.DataFrame at 0x7f206b91f050>"
      ]
     },
     "execution_count": 20,
     "metadata": {},
     "output_type": "execute_result"
    }
   ],
   "source": [
    "print(pd_df.iloc[1:3, [0,1,2]])\n",
    "alt_df[1:3, [0,1,2]]"
   ]
  },
  {
   "cell_type": "code",
   "execution_count": 21,
   "metadata": {},
   "outputs": [
    {
     "data": {
      "text/html": [
       "<table><thead><tr><th></th><th>a         </th><th>b         </th><th>c         </th></tr></thead><tbody><tr><td><strong>0</strong></td><td>b         </td><td>d         </td><td>     0.115</td></tr><tr><td><strong>1</strong></td><td>c         </td><td>None      </td><td>     0.711</td></tr></tbody></table>"
      ],
      "text/plain": [
       "<analytica.DataFrame at 0x7f206b8e53d0>"
      ]
     },
     "execution_count": 21,
     "metadata": {},
     "output_type": "execute_result"
    }
   ],
   "source": [
    "alt_df[1:3, ['a',1,2]]"
   ]
  },
  {
   "cell_type": "code",
   "execution_count": 22,
   "metadata": {},
   "outputs": [
    {
     "name": "stdout",
     "output_type": "stream",
     "text": [
      "   a     b         c\n",
      "1  b     d  0.115140\n",
      "2  c  None  0.711152\n"
     ]
    },
    {
     "data": {
      "text/html": [
       "<table><thead><tr><th></th><th>a         </th><th>b         </th><th>c         </th></tr></thead><tbody><tr><td><strong>0</strong></td><td>b         </td><td>d         </td><td>     0.115</td></tr><tr><td><strong>1</strong></td><td>c         </td><td>None      </td><td>     0.711</td></tr></tbody></table>"
      ],
      "text/plain": [
       "<analytica.DataFrame at 0x7f206b8e5dd0>"
      ]
     },
     "execution_count": 22,
     "metadata": {},
     "output_type": "execute_result"
    }
   ],
   "source": [
    "print(pd_df.loc[1:3, 'a':'c'])\n",
    "alt_df[1:3, 'a':'c']"
   ]
  },
  {
   "cell_type": "code",
   "execution_count": 23,
   "metadata": {},
   "outputs": [
    {
     "name": "stdout",
     "output_type": "stream",
     "text": [
      "   a     b         c\n",
      "1  b     d  0.115140\n",
      "2  c  None  0.711152\n"
     ]
    },
    {
     "data": {
      "text/html": [
       "<table><thead><tr><th></th><th>a         </th><th>b         </th><th>c         </th></tr></thead><tbody><tr><td><strong>0</strong></td><td>b         </td><td>d         </td><td>     0.115</td></tr><tr><td><strong>1</strong></td><td>c         </td><td>None      </td><td>     0.711</td></tr></tbody></table>"
      ],
      "text/plain": [
       "<analytica.DataFrame at 0x7f2095ec1510>"
      ]
     },
     "execution_count": 23,
     "metadata": {},
     "output_type": "execute_result"
    }
   ],
   "source": [
    "print(pd_df.iloc[1:3, :3])\n",
    "alt_df[1:3, :3]"
   ]
  },
  {
   "cell_type": "code",
   "execution_count": 24,
   "metadata": {},
   "outputs": [
    {
     "name": "stdout",
     "output_type": "stream",
     "text": [
      "a          b\n",
      "b          d\n",
      "c    0.11514\n",
      "d      False\n",
      "e          2\n",
      "f        NaN\n",
      "Name: 1, dtype: object\n"
     ]
    },
    {
     "data": {
      "text/html": [
       "<table><thead><tr><th></th><th>a         </th><th>b         </th><th>c         </th><th>d         </th><th>e         </th><th>f         </th></tr></thead><tbody><tr><td><strong>0</strong></td><td>b         </td><td>d         </td><td>     0.115</td><td>False</td><td>         2</td><td>       nan</td></tr></tbody></table>"
      ],
      "text/plain": [
       "<analytica.DataFrame at 0x7f206b8d7d90>"
      ]
     },
     "execution_count": 24,
     "metadata": {},
     "output_type": "execute_result"
    }
   ],
   "source": [
    "print(pd_df.iloc[1])\n",
    "alt_df[1]"
   ]
  },
  {
   "cell_type": "code",
   "execution_count": 25,
   "metadata": {},
   "outputs": [
    {
     "name": "stdout",
     "output_type": "stream",
     "text": [
      "   a     b         c      d  e    f\n",
      "1  b     d  0.115140  False  2  NaN\n",
      "2  c  None  0.711152   True  3  5.1\n"
     ]
    },
    {
     "data": {
      "text/html": [
       "<table><thead><tr><th></th><th>a         </th><th>b         </th><th>c         </th><th>d         </th><th>e         </th><th>f         </th></tr></thead><tbody><tr><td><strong>0</strong></td><td>b         </td><td>d         </td><td>     0.115</td><td>False</td><td>         2</td><td>       nan</td></tr><tr><td><strong>1</strong></td><td>c         </td><td>None      </td><td>     0.711</td><td>True</td><td>         3</td><td>     5.100</td></tr></tbody></table>"
      ],
      "text/plain": [
       "<analytica.DataFrame at 0x7f206c0a6c50>"
      ]
     },
     "execution_count": 25,
     "metadata": {},
     "output_type": "execute_result"
    }
   ],
   "source": [
    "print(pd_df.iloc[[1,2]])\n",
    "alt_df[[1,2]]"
   ]
  },
  {
   "cell_type": "code",
   "execution_count": 26,
   "metadata": {},
   "outputs": [
    {
     "name": "stdout",
     "output_type": "stream",
     "text": [
      "   a     b         c      d  e    f\n",
      "1  b     d  0.115140  False  2  NaN\n",
      "2  c  None  0.711152   True  3  5.1\n"
     ]
    },
    {
     "data": {
      "text/html": [
       "<table><thead><tr><th></th><th>a         </th><th>b         </th><th>c         </th><th>d         </th><th>e         </th><th>f         </th></tr></thead><tbody><tr><td><strong>0</strong></td><td>b         </td><td>d         </td><td>     0.115</td><td>False</td><td>         2</td><td>       nan</td></tr><tr><td><strong>1</strong></td><td>c         </td><td>None      </td><td>     0.711</td><td>True</td><td>         3</td><td>     5.100</td></tr></tbody></table>"
      ],
      "text/plain": [
       "<analytica.DataFrame at 0x7f206b91f5d0>"
      ]
     },
     "execution_count": 26,
     "metadata": {},
     "output_type": "execute_result"
    }
   ],
   "source": [
    "print(pd_df.iloc[1:3])\n",
    "alt_df[1:3]"
   ]
  },
  {
   "cell_type": "code",
   "execution_count": 27,
   "metadata": {},
   "outputs": [
    {
     "name": "stdout",
     "output_type": "stream",
     "text": [
      "a          a\n",
      "c    0.11514\n",
      "d      False\n",
      "e          1\n",
      "f        3.4\n",
      "dtype: object\n"
     ]
    },
    {
     "data": {
      "text/html": [
       "<table><thead><tr><th></th><th>a         </th><th>c         </th><th>d         </th><th>e         </th><th>f         </th></tr></thead><tbody><tr><td><strong>0</strong></td><td>a         </td><td>     0.115</td><td>False</td><td>         1</td><td>     3.400</td></tr></tbody></table>"
      ],
      "text/plain": [
       "<analytica.DataFrame at 0x7f206b91fdd0>"
      ]
     },
     "execution_count": 27,
     "metadata": {},
     "output_type": "execute_result"
    }
   ],
   "source": [
    "print(pd_df.min())\n",
    "alt_df.min()"
   ]
  },
  {
   "cell_type": "code",
   "execution_count": 28,
   "metadata": {},
   "outputs": [
    {
     "name": "stdout",
     "output_type": "stream",
     "text": [
      "0    0.325691\n",
      "1    0.000000\n",
      "2    0.711152\n",
      "dtype: float64\n"
     ]
    },
    {
     "data": {
      "text/html": [
       "<table><thead><tr><th></th><th>min       </th></tr></thead><tbody><tr><td><strong>0</strong></td><td>     0.326</td></tr><tr><td><strong>1</strong></td><td>     0.000</td></tr><tr><td><strong>2</strong></td><td>     0.711</td></tr></tbody></table>"
      ],
      "text/plain": [
       "<analytica.DataFrame at 0x7f206b8e5510>"
      ]
     },
     "execution_count": 28,
     "metadata": {},
     "output_type": "execute_result"
    }
   ],
   "source": [
    "print(pd_df.min(axis=1))\n",
    "alt_df.min(axis=1)"
   ]
  },
  {
   "cell_type": "code",
   "execution_count": 29,
   "metadata": {},
   "outputs": [
    {
     "name": "stdout",
     "output_type": "stream",
     "text": [
      "a           c\n",
      "c    0.711152\n",
      "d        True\n",
      "e           3\n",
      "f         5.1\n",
      "dtype: object\n"
     ]
    },
    {
     "data": {
      "text/html": [
       "<table><thead><tr><th></th><th>a         </th><th>c         </th><th>d         </th><th>e         </th><th>f         </th></tr></thead><tbody><tr><td><strong>0</strong></td><td>c         </td><td>     0.711</td><td>True</td><td>         3</td><td>     5.100</td></tr></tbody></table>"
      ],
      "text/plain": [
       "<analytica.DataFrame at 0x7f206b8ebf50>"
      ]
     },
     "execution_count": 29,
     "metadata": {},
     "output_type": "execute_result"
    }
   ],
   "source": [
    "print(pd_df.max())\n",
    "alt_df.max()"
   ]
  },
  {
   "cell_type": "code",
   "execution_count": 30,
   "metadata": {},
   "outputs": [
    {
     "name": "stdout",
     "output_type": "stream",
     "text": [
      "0    3.4\n",
      "1    2.0\n",
      "2    5.1\n",
      "dtype: float64\n"
     ]
    },
    {
     "data": {
      "text/html": [
       "<table><thead><tr><th></th><th>max       </th></tr></thead><tbody><tr><td><strong>0</strong></td><td>     3.400</td></tr><tr><td><strong>1</strong></td><td>     2.000</td></tr><tr><td><strong>2</strong></td><td>     5.100</td></tr></tbody></table>"
      ],
      "text/plain": [
       "<analytica.DataFrame at 0x7f206b90a710>"
      ]
     },
     "execution_count": 30,
     "metadata": {},
     "output_type": "execute_result"
    }
   ],
   "source": [
    "print(pd_df.max(axis=1))\n",
    "alt_df.max(axis=1)"
   ]
  },
  {
   "cell_type": "code",
   "execution_count": 31,
   "metadata": {},
   "outputs": [],
   "source": [
    "a = np.array(['a', 'b', 'c'])\n",
    "b = np.array(['c', 'd', 'e'])\n",
    "c = np.array(['f', 'g', 'h'])\n",
    "d = np.array(['i', 'j', None])\n",
    "e = np.array(['k', None, 'l'])\n",
    "f = np.array(['m', 'n', None])\n",
    "\n",
    "data_dict = {'a': a, 'b': b, 'c': c, 'd': d, 'e': e, 'f':f}\n",
    "\n",
    "alt_df2 = alt.DataFrame(data_dict)\n",
    "pd_df2 = pd.DataFrame(data_dict)"
   ]
  },
  {
   "cell_type": "code",
   "execution_count": 32,
   "metadata": {},
   "outputs": [
    {
     "name": "stdout",
     "output_type": "stream",
     "text": [
      "a    a\n",
      "b    c\n",
      "c    f\n",
      "dtype: object\n"
     ]
    },
    {
     "data": {
      "text/html": [
       "<table><thead><tr><th></th><th>a         </th><th>b         </th><th>c         </th></tr></thead><tbody><tr><td><strong>0</strong></td><td>a         </td><td>c         </td><td>f         </td></tr></tbody></table>"
      ],
      "text/plain": [
       "<analytica.DataFrame at 0x7f206b98cbd0>"
      ]
     },
     "execution_count": 32,
     "metadata": {},
     "output_type": "execute_result"
    }
   ],
   "source": [
    "print(pd_df2.min())\n",
    "alt_df2.min()"
   ]
  },
  {
   "cell_type": "code",
   "execution_count": 33,
   "metadata": {
    "scrolled": false
   },
   "outputs": [
    {
     "name": "stdout",
     "output_type": "stream",
     "text": [
      "0   NaN\n",
      "1   NaN\n",
      "2   NaN\n",
      "dtype: float64\n"
     ]
    },
    {
     "data": {
      "text/html": [
       "<table><thead><tr><th></th><th>min       </th></tr></thead><tbody><tr><td><strong>0</strong></td><td>       nan</td></tr><tr><td><strong>1</strong></td><td>       nan</td></tr><tr><td><strong>2</strong></td><td>       nan</td></tr></tbody></table>"
      ],
      "text/plain": [
       "<analytica.DataFrame at 0x7f206b8eb710>"
      ]
     },
     "execution_count": 33,
     "metadata": {},
     "output_type": "execute_result"
    }
   ],
   "source": [
    "print(pd_df2.min(axis=1))\n",
    "alt_df2.min(axis=1)"
   ]
  },
  {
   "cell_type": "code",
   "execution_count": 34,
   "metadata": {},
   "outputs": [
    {
     "name": "stdout",
     "output_type": "stream",
     "text": [
      "a    c\n",
      "b    e\n",
      "c    h\n",
      "dtype: object\n"
     ]
    },
    {
     "data": {
      "text/html": [
       "<table><thead><tr><th></th><th>a         </th><th>b         </th><th>c         </th></tr></thead><tbody><tr><td><strong>0</strong></td><td>c         </td><td>e         </td><td>h         </td></tr></tbody></table>"
      ],
      "text/plain": [
       "<analytica.DataFrame at 0x7f206b8eb850>"
      ]
     },
     "execution_count": 34,
     "metadata": {},
     "output_type": "execute_result"
    }
   ],
   "source": [
    "print(pd_df2.max())\n",
    "alt_df2.max()"
   ]
  },
  {
   "cell_type": "code",
   "execution_count": 35,
   "metadata": {},
   "outputs": [
    {
     "name": "stdout",
     "output_type": "stream",
     "text": [
      "0   NaN\n",
      "1   NaN\n",
      "2   NaN\n",
      "dtype: float64\n"
     ]
    },
    {
     "data": {
      "text/html": [
       "<table><thead><tr><th></th><th>max       </th></tr></thead><tbody><tr><td><strong>0</strong></td><td>       nan</td></tr><tr><td><strong>1</strong></td><td>       nan</td></tr><tr><td><strong>2</strong></td><td>       nan</td></tr></tbody></table>"
      ],
      "text/plain": [
       "<analytica.DataFrame at 0x7f206b922550>"
      ]
     },
     "execution_count": 35,
     "metadata": {},
     "output_type": "execute_result"
    }
   ],
   "source": [
    "print(pd_df2.max(axis=1))\n",
    "alt_df2.max(axis=1)"
   ]
  },
  {
   "cell_type": "code",
   "execution_count": 36,
   "metadata": {},
   "outputs": [
    {
     "name": "stdout",
     "output_type": "stream",
     "text": [
      "a    a\n",
      "b    c\n",
      "c    f\n",
      "dtype: object\n"
     ]
    },
    {
     "data": {
      "text/html": [
       "<table><thead><tr><th></th><th>a         </th><th>b         </th><th>c         </th></tr></thead><tbody><tr><td><strong>0</strong></td><td>a         </td><td>c         </td><td>f         </td></tr></tbody></table>"
      ],
      "text/plain": [
       "<analytica.DataFrame at 0x7f206b8d7590>"
      ]
     },
     "execution_count": 36,
     "metadata": {},
     "output_type": "execute_result"
    }
   ],
   "source": [
    "print(pd_df2[['a','b','c']].min())\n",
    "alt_df2[['a','b','c']].min()"
   ]
  },
  {
   "cell_type": "code",
   "execution_count": 37,
   "metadata": {},
   "outputs": [
    {
     "name": "stdout",
     "output_type": "stream",
     "text": [
      "0    a\n",
      "1    b\n",
      "2    c\n",
      "dtype: object\n"
     ]
    },
    {
     "data": {
      "text/html": [
       "<table><thead><tr><th></th><th>min       </th></tr></thead><tbody><tr><td><strong>0</strong></td><td>a         </td></tr><tr><td><strong>1</strong></td><td>b         </td></tr><tr><td><strong>2</strong></td><td>c         </td></tr></tbody></table>"
      ],
      "text/plain": [
       "<analytica.DataFrame at 0x7f206b8d7050>"
      ]
     },
     "execution_count": 37,
     "metadata": {},
     "output_type": "execute_result"
    }
   ],
   "source": [
    "print(pd_df2[['a','b','c']].min(axis=1))\n",
    "alt_df2[['a','b','c']].min(axis=1)"
   ]
  },
  {
   "cell_type": "code",
   "execution_count": 38,
   "metadata": {},
   "outputs": [
    {
     "name": "stdout",
     "output_type": "stream",
     "text": [
      "a    c\n",
      "b    e\n",
      "c    h\n",
      "dtype: object\n"
     ]
    },
    {
     "data": {
      "text/html": [
       "<table><thead><tr><th></th><th>a         </th><th>b         </th><th>c         </th></tr></thead><tbody><tr><td><strong>0</strong></td><td>c         </td><td>e         </td><td>h         </td></tr></tbody></table>"
      ],
      "text/plain": [
       "<analytica.DataFrame at 0x7f206b90a090>"
      ]
     },
     "execution_count": 38,
     "metadata": {},
     "output_type": "execute_result"
    }
   ],
   "source": [
    "print(pd_df2[['a','b','c']].max())\n",
    "alt_df2[['a','b','c']].max()"
   ]
  },
  {
   "cell_type": "code",
   "execution_count": 39,
   "metadata": {},
   "outputs": [
    {
     "name": "stdout",
     "output_type": "stream",
     "text": [
      "0    f\n",
      "1    g\n",
      "2    h\n",
      "dtype: object\n"
     ]
    },
    {
     "data": {
      "text/html": [
       "<table><thead><tr><th></th><th>max       </th></tr></thead><tbody><tr><td><strong>0</strong></td><td>f         </td></tr><tr><td><strong>1</strong></td><td>g         </td></tr><tr><td><strong>2</strong></td><td>h         </td></tr></tbody></table>"
      ],
      "text/plain": [
       "<analytica.DataFrame at 0x7f206b90ae50>"
      ]
     },
     "execution_count": 39,
     "metadata": {},
     "output_type": "execute_result"
    }
   ],
   "source": [
    "print(pd_df2[['a','b','c']].max(axis=1))\n",
    "alt_df2[['a','b','c']].max(axis=1)"
   ]
  },
  {
   "cell_type": "code",
   "execution_count": null,
   "metadata": {},
   "outputs": [],
   "source": []
  }
 ],
 "metadata": {
  "kernelspec": {
   "display_name": "Python [conda env:Analytica]",
   "language": "python",
   "name": "conda-env-Analytica-py"
  },
  "language_info": {
   "codemirror_mode": {
    "name": "ipython",
    "version": 3
   },
   "file_extension": ".py",
   "mimetype": "text/x-python",
   "name": "python",
   "nbconvert_exporter": "python",
   "pygments_lexer": "ipython3",
   "version": "3.7.4"
  }
 },
 "nbformat": 4,
 "nbformat_minor": 2
}
