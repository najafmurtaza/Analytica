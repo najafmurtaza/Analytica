{
 "cells": [
  {
   "cell_type": "code",
   "execution_count": 1,
   "metadata": {},
   "outputs": [],
   "source": [
    "%load_ext autoreload\n",
    "%autoreload 2"
   ]
  },
  {
   "cell_type": "code",
   "execution_count": 2,
   "metadata": {},
   "outputs": [],
   "source": [
    "import analytica as alt\n",
    "import numpy as np\n",
    "import pandas as pd"
   ]
  },
  {
   "cell_type": "code",
   "execution_count": 3,
   "metadata": {},
   "outputs": [],
   "source": [
    "a = np.array(['a', 'b', 'c'])\n",
    "b = np.array(['c', 'd', None])\n",
    "c = np.random.rand(3)\n",
    "d = np.array([True, False, True])\n",
    "e = np.array([1, 2, 3])\n",
    "\n",
    "data_dict = {'a': a, 'b': b, 'c': c, 'd': d, 'e': e}"
   ]
  },
  {
   "cell_type": "code",
   "execution_count": 4,
   "metadata": {},
   "outputs": [],
   "source": [
    "alt_df = alt.DataFrame(data_dict)\n",
    "pd_df = pd.DataFrame(data_dict)"
   ]
  },
  {
   "cell_type": "code",
   "execution_count": 5,
   "metadata": {},
   "outputs": [
    {
     "name": "stdout",
     "output_type": "stream",
     "text": [
      "3\n",
      "3\n"
     ]
    }
   ],
   "source": [
    "print(len(alt_df))\n",
    "print(len(pd_df))"
   ]
  },
  {
   "cell_type": "code",
   "execution_count": 6,
   "metadata": {},
   "outputs": [
    {
     "name": "stdout",
     "output_type": "stream",
     "text": [
      "['a', 'b', 'c', 'd', 'e']\n",
      "Index(['a', 'b', 'c', 'd', 'e'], dtype='object')\n"
     ]
    }
   ],
   "source": [
    "print(alt_df.columns)\n",
    "print(pd_df.columns)"
   ]
  },
  {
   "cell_type": "code",
   "execution_count": 7,
   "metadata": {},
   "outputs": [
    {
     "name": "stdout",
     "output_type": "stream",
     "text": [
      "['f', 'g', 'h', 'i', 'j']\n",
      "Index(['f', 'g', 'h', 'i', 'j'], dtype='object')\n"
     ]
    }
   ],
   "source": [
    "alt_df.columns = ['f', 'g', 'h', 'i', 'j']\n",
    "pd_df.columns = ['f', 'g', 'h', 'i', 'j']\n",
    "\n",
    "print(alt_df.columns)\n",
    "print(pd_df.columns)\n",
    "\n",
    "alt_df.columns = ['a', 'b', 'c', 'd', 'e']\n",
    "pd_df.columns = ['a', 'b', 'c', 'd', 'e']"
   ]
  },
  {
   "cell_type": "code",
   "execution_count": 8,
   "metadata": {},
   "outputs": [
    {
     "name": "stdout",
     "output_type": "stream",
     "text": [
      "(3, 5)\n",
      "(3, 5)\n"
     ]
    }
   ],
   "source": [
    "print(alt_df.shape)\n",
    "print(pd_df.shape)"
   ]
  },
  {
   "cell_type": "code",
   "execution_count": 8,
   "metadata": {},
   "outputs": [
    {
     "name": "stdout",
     "output_type": "stream",
     "text": [
      "a     object\n",
      "b     object\n",
      "c    float64\n",
      "d       bool\n",
      "e      int64\n",
      "dtype: object\n",
      "None\n"
     ]
    },
    {
     "data": {
      "text/html": [
       "<table><thead><tr><th></th><th>Column Name</th><th>Data Type </th></tr></thead><tbody><tr><td><strong>0</strong></td><td>a         </td><td>object    </td></tr><tr><td><strong>1</strong></td><td>b         </td><td>object    </td></tr><tr><td><strong>2</strong></td><td>c         </td><td>float64   </td></tr><tr><td><strong>3</strong></td><td>d         </td><td>bool      </td></tr><tr><td><strong>4</strong></td><td>e         </td><td>int64     </td></tr></tbody></table>"
      ],
      "text/plain": [
       "<analytica.DataFrame at 0x7fdbd524ebd0>"
      ]
     },
     "execution_count": 8,
     "metadata": {},
     "output_type": "execute_result"
    }
   ],
   "source": [
    "print(print(pd_df.dtypes))\n",
    "alt_df.dtypes"
   ]
  },
  {
   "cell_type": "code",
   "execution_count": 11,
   "metadata": {},
   "outputs": [
    {
     "name": "stdout",
     "output_type": "stream",
     "text": [
      "[['a' 'c' 0.667420454137296 True 1]\n",
      " ['b' 'd' 0.3982209389729241 False 2]\n",
      " ['c' None 0.9708601344360759 True 3]]\n",
      "[['a' 'c' 0.667420454137296 True 1]\n",
      " ['b' 'd' 0.3982209389729241 False 2]\n",
      " ['c' None 0.9708601344360759 True 3]]\n"
     ]
    }
   ],
   "source": [
    "print(alt_df.values)\n",
    "print(pd_df.values)"
   ]
  },
  {
   "cell_type": "code",
   "execution_count": 7,
   "metadata": {},
   "outputs": [
    {
     "name": "stdout",
     "output_type": "stream",
     "text": [
      "0       c\n",
      "1       d\n",
      "2    None\n",
      "Name: b, dtype: object\n"
     ]
    },
    {
     "data": {
      "text/html": [
       "<table><thead><tr><th></th><th>b         </th></tr></thead><tbody><tr><td><strong>0</strong></td><td>c         </td></tr><tr><td><strong>1</strong></td><td>d         </td></tr><tr><td><strong>2</strong></td><td>None      </td></tr></tbody></table>"
      ],
      "text/plain": [
       "<analytica.DataFrame at 0x7fdbd53a1910>"
      ]
     },
     "execution_count": 7,
     "metadata": {},
     "output_type": "execute_result"
    }
   ],
   "source": [
    "print(pd_df['b'])\n",
    "alt_df['b']"
   ]
  },
  {
   "cell_type": "code",
   "execution_count": 16,
   "metadata": {},
   "outputs": [
    {
     "name": "stdout",
     "output_type": "stream",
     "text": [
      "   e     b\n",
      "0  1     c\n",
      "1  2     d\n",
      "2  3  None\n"
     ]
    },
    {
     "data": {
      "text/html": [
       "<table><thead><tr><th></th><th>e         </th><th>b         </th></tr></thead><tbody><tr><td><strong>0</strong></td><td>         1</td><td>c         </td></tr><tr><td><strong>1</strong></td><td>         2</td><td>d         </td></tr><tr><td><strong>2</strong></td><td>         3</td><td>None      </td></tr></tbody></table>"
      ],
      "text/plain": [
       "<analytica.DataFrame at 0x7fdbd5130750>"
      ]
     },
     "execution_count": 16,
     "metadata": {},
     "output_type": "execute_result"
    }
   ],
   "source": [
    "print(pd_df[['e', 'b']])\n",
    "alt_df[['e', 'b']]"
   ]
  },
  {
   "cell_type": "code",
   "execution_count": 14,
   "metadata": {},
   "outputs": [
    {
     "name": "stdout",
     "output_type": "stream",
     "text": [
      "   a     b         c     d  e\n",
      "0  a     c  0.306757  True  1\n",
      "2  c  None  0.997767  True  3\n"
     ]
    },
    {
     "data": {
      "text/html": [
       "<table><thead><tr><th></th><th>a         </th><th>b         </th><th>c         </th><th>d         </th><th>e         </th></tr></thead><tbody><tr><td><strong>0</strong></td><td>a         </td><td>c         </td><td>     0.307</td><td>True</td><td>         1</td></tr><tr><td><strong>1</strong></td><td>c         </td><td>None      </td><td>     0.998</td><td>True</td><td>         3</td></tr></tbody></table>"
      ],
      "text/plain": [
       "<analytica.DataFrame at 0x7f9cee58e4d0>"
      ]
     },
     "execution_count": 14,
     "metadata": {},
     "output_type": "execute_result"
    }
   ],
   "source": [
    "print(pd_df[d])\n",
    "alt_df[alt.DataFrame({'d': d})]"
   ]
  },
  {
   "cell_type": "code",
   "execution_count": 19,
   "metadata": {},
   "outputs": [
    {
     "name": "stdout",
     "output_type": "stream",
     "text": [
      "0.28032696985812877\n"
     ]
    },
    {
     "data": {
      "text/html": [
       "<table><thead><tr><th></th><th>c         </th></tr></thead><tbody><tr><td><strong>0</strong></td><td>     0.280</td></tr></tbody></table>"
      ],
      "text/plain": [
       "<analytica.DataFrame at 0x7f9cede33490>"
      ]
     },
     "execution_count": 19,
     "metadata": {},
     "output_type": "execute_result"
    }
   ],
   "source": [
    "print(pd_df.iloc[1,2])\n",
    "alt_df[1,2]"
   ]
  },
  {
   "cell_type": "code",
   "execution_count": 21,
   "metadata": {},
   "outputs": [
    {
     "name": "stdout",
     "output_type": "stream",
     "text": [
      "d\n"
     ]
    },
    {
     "data": {
      "text/html": [
       "<table><thead><tr><th></th><th>b         </th></tr></thead><tbody><tr><td><strong>0</strong></td><td>d         </td></tr></tbody></table>"
      ],
      "text/plain": [
       "<analytica.DataFrame at 0x7f9cede33e10>"
      ]
     },
     "execution_count": 21,
     "metadata": {},
     "output_type": "execute_result"
    }
   ],
   "source": [
    "print(pd_df.loc[1,'b'])\n",
    "alt_df[1,'b']"
   ]
  },
  {
   "cell_type": "code",
   "execution_count": 24,
   "metadata": {},
   "outputs": [
    {
     "name": "stdout",
     "output_type": "stream",
     "text": [
      "0       c\n",
      "2    None\n",
      "Name: b, dtype: object\n"
     ]
    },
    {
     "data": {
      "text/html": [
       "<table><thead><tr><th></th><th>b         </th></tr></thead><tbody><tr><td><strong>0</strong></td><td>c         </td></tr><tr><td><strong>1</strong></td><td>None      </td></tr></tbody></table>"
      ],
      "text/plain": [
       "<analytica.DataFrame at 0x7f9cede512d0>"
      ]
     },
     "execution_count": 24,
     "metadata": {},
     "output_type": "execute_result"
    }
   ],
   "source": [
    "print(pd_df.loc[d, 'b'])\n",
    "alt_df[alt.DataFrame({'d': d}), 'b']"
   ]
  },
  {
   "cell_type": "code",
   "execution_count": 27,
   "metadata": {},
   "outputs": [
    {
     "name": "stdout",
     "output_type": "stream",
     "text": [
      "1       d\n",
      "2    None\n",
      "Name: b, dtype: object\n"
     ]
    },
    {
     "data": {
      "text/html": [
       "<table><thead><tr><th></th><th>b         </th></tr></thead><tbody><tr><td><strong>0</strong></td><td>d         </td></tr><tr><td><strong>1</strong></td><td>None      </td></tr></tbody></table>"
      ],
      "text/plain": [
       "<analytica.DataFrame at 0x7f9ced91f550>"
      ]
     },
     "execution_count": 27,
     "metadata": {},
     "output_type": "execute_result"
    }
   ],
   "source": [
    "print(pd_df.loc[[1,2], 'b'])\n",
    "alt_df[[1,2], 'b']"
   ]
  },
  {
   "cell_type": "code",
   "execution_count": 26,
   "metadata": {},
   "outputs": [
    {
     "name": "stdout",
     "output_type": "stream",
     "text": [
      "1       d\n",
      "2    None\n",
      "Name: b, dtype: object\n"
     ]
    },
    {
     "data": {
      "text/html": [
       "<table><thead><tr><th></th><th>b         </th></tr></thead><tbody><tr><td><strong>0</strong></td><td>d         </td></tr><tr><td><strong>1</strong></td><td>None      </td></tr></tbody></table>"
      ],
      "text/plain": [
       "<analytica.DataFrame at 0x7f9cede516d0>"
      ]
     },
     "execution_count": 26,
     "metadata": {},
     "output_type": "execute_result"
    }
   ],
   "source": [
    "print(pd_df.loc[1:3, 'b'])\n",
    "alt_df[1:3, 'b']"
   ]
  },
  {
   "cell_type": "code",
   "execution_count": null,
   "metadata": {},
   "outputs": [],
   "source": []
  }
 ],
 "metadata": {
  "kernelspec": {
   "display_name": "Python [conda env:Analytica]",
   "language": "python",
   "name": "conda-env-Analytica-py"
  },
  "language_info": {
   "codemirror_mode": {
    "name": "ipython",
    "version": 3
   },
   "file_extension": ".py",
   "mimetype": "text/x-python",
   "name": "python",
   "nbconvert_exporter": "python",
   "pygments_lexer": "ipython3",
   "version": "3.7.4"
  }
 },
 "nbformat": 4,
 "nbformat_minor": 2
}
