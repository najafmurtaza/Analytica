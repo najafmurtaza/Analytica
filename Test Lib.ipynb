{
 "cells": [
  {
   "cell_type": "code",
   "execution_count": 1,
   "metadata": {},
   "outputs": [],
   "source": [
    "%load_ext autoreload\n",
    "%autoreload 2"
   ]
  },
  {
   "cell_type": "code",
   "execution_count": 2,
   "metadata": {},
   "outputs": [],
   "source": [
    "import analytica as alt\n",
    "import numpy as np\n",
    "import pandas as pd"
   ]
  },
  {
   "cell_type": "code",
   "execution_count": 3,
   "metadata": {},
   "outputs": [],
   "source": [
    "a = np.array(['a', 'b', 'c'])\n",
    "b = np.array(['c', 'd', None])\n",
    "c = np.random.rand(3)\n",
    "d = np.array([True, False, True])\n",
    "e = np.array([1, 2, 3])\n",
    "f = np.array([3.4, np.nan, 5.1])\n",
    "\n",
    "data_dict = {'a': a, 'b': b, 'c': c, 'd': d, 'e': e, 'f':f}\n",
    "\n",
    "alt_df = alt.DataFrame(data_dict)\n",
    "pd_df = pd.DataFrame(data_dict)"
   ]
  },
  {
   "cell_type": "code",
   "execution_count": 4,
   "metadata": {},
   "outputs": [],
   "source": [
    "a1 = np.array(['a', 'b', 'c'])\n",
    "b1 = np.array(['c', 'd', 'e'])\n",
    "c1 = np.array(['f', 'g', 'h'])\n",
    "d1 = np.array(['i', 'j', None])\n",
    "e1 = np.array(['k', None, 'l'])\n",
    "f1 = np.array(['m', 'n', None])\n",
    "\n",
    "data_dict = {'a': a1, 'b': b1, 'c': c1, 'd': d1, 'e': e1, 'f':f1}\n",
    "\n",
    "alt_df2 = alt.DataFrame(data_dict)\n",
    "pd_df2 = pd.DataFrame(data_dict)"
   ]
  },
  {
   "cell_type": "code",
   "execution_count": 5,
   "metadata": {},
   "outputs": [
    {
     "name": "stdout",
     "output_type": "stream",
     "text": [
      "3\n",
      "3\n"
     ]
    }
   ],
   "source": [
    "print(len(alt_df))\n",
    "print(len(pd_df))"
   ]
  },
  {
   "cell_type": "code",
   "execution_count": 6,
   "metadata": {},
   "outputs": [
    {
     "name": "stdout",
     "output_type": "stream",
     "text": [
      "['a', 'b', 'c', 'd', 'e', 'f']\n",
      "Index(['a', 'b', 'c', 'd', 'e', 'f'], dtype='object')\n"
     ]
    }
   ],
   "source": [
    "print(alt_df.columns)\n",
    "print(pd_df.columns)"
   ]
  },
  {
   "cell_type": "code",
   "execution_count": 7,
   "metadata": {},
   "outputs": [
    {
     "name": "stdout",
     "output_type": "stream",
     "text": [
      "['f', 'g', 'h', 'i', 'j', 'k']\n",
      "Index(['f', 'g', 'h', 'i', 'j', 'k'], dtype='object')\n"
     ]
    }
   ],
   "source": [
    "alt_df.columns = ['f', 'g', 'h', 'i', 'j', 'k']\n",
    "pd_df.columns = ['f', 'g', 'h', 'i', 'j', 'k']\n",
    "\n",
    "print(alt_df.columns)\n",
    "print(pd_df.columns)\n",
    "\n",
    "alt_df.columns = ['a', 'b', 'c', 'd', 'e', 'f']\n",
    "pd_df.columns = ['a', 'b', 'c', 'd', 'e', 'f']"
   ]
  },
  {
   "cell_type": "code",
   "execution_count": 8,
   "metadata": {},
   "outputs": [
    {
     "name": "stdout",
     "output_type": "stream",
     "text": [
      "(3, 6)\n",
      "(3, 6)\n"
     ]
    }
   ],
   "source": [
    "print(alt_df.shape)\n",
    "print(pd_df.shape)"
   ]
  },
  {
   "cell_type": "code",
   "execution_count": 9,
   "metadata": {},
   "outputs": [
    {
     "name": "stdout",
     "output_type": "stream",
     "text": [
      "a     object\n",
      "b     object\n",
      "c    float64\n",
      "d       bool\n",
      "e      int64\n",
      "f    float64\n",
      "dtype: object\n",
      "None\n"
     ]
    },
    {
     "data": {
      "text/html": [
       "<table><thead><tr><th></th><th>Column Name</th><th>Data Type </th></tr></thead><tbody><tr><td><strong>0</strong></td><td>a         </td><td>object    </td></tr><tr><td><strong>1</strong></td><td>b         </td><td>object    </td></tr><tr><td><strong>2</strong></td><td>c         </td><td>float64   </td></tr><tr><td><strong>3</strong></td><td>d         </td><td>bool      </td></tr><tr><td><strong>4</strong></td><td>e         </td><td>int64     </td></tr><tr><td><strong>5</strong></td><td>f         </td><td>float64   </td></tr></tbody></table>"
      ],
      "text/plain": [
       "<analytica.DataFrame at 0x7f08d353b650>"
      ]
     },
     "execution_count": 9,
     "metadata": {},
     "output_type": "execute_result"
    }
   ],
   "source": [
    "print(print(pd_df.dtypes))\n",
    "alt_df.dtypes"
   ]
  },
  {
   "cell_type": "code",
   "execution_count": 10,
   "metadata": {},
   "outputs": [
    {
     "name": "stdout",
     "output_type": "stream",
     "text": [
      "[['a' 'c' 0.03726210840673694 True 1 3.4]\n",
      " ['b' 'd' 0.7572056514486892 False 2 nan]\n",
      " ['c' None 0.5407339624451241 True 3 5.1]]\n",
      "[['a' 'c' 0.03726210840673694 True 1 3.4]\n",
      " ['b' 'd' 0.7572056514486892 False 2 nan]\n",
      " ['c' None 0.5407339624451241 True 3 5.1]]\n"
     ]
    }
   ],
   "source": [
    "print(alt_df.values)\n",
    "print(pd_df.values)"
   ]
  },
  {
   "cell_type": "markdown",
   "metadata": {},
   "source": [
    "# Col Indexing"
   ]
  },
  {
   "cell_type": "code",
   "execution_count": 11,
   "metadata": {},
   "outputs": [
    {
     "name": "stdout",
     "output_type": "stream",
     "text": [
      "0       c\n",
      "1       d\n",
      "2    None\n",
      "Name: b, dtype: object\n"
     ]
    },
    {
     "data": {
      "text/html": [
       "<table><thead><tr><th></th><th>b         </th></tr></thead><tbody><tr><td><strong>0</strong></td><td>c         </td></tr><tr><td><strong>1</strong></td><td>d         </td></tr><tr><td><strong>2</strong></td><td>None      </td></tr></tbody></table>"
      ],
      "text/plain": [
       "<analytica.DataFrame at 0x7f08d3523fd0>"
      ]
     },
     "execution_count": 11,
     "metadata": {},
     "output_type": "execute_result"
    }
   ],
   "source": [
    "print(pd_df['b'])\n",
    "alt_df['b']"
   ]
  },
  {
   "cell_type": "code",
   "execution_count": 12,
   "metadata": {},
   "outputs": [
    {
     "name": "stdout",
     "output_type": "stream",
     "text": [
      "   e     b\n",
      "0  1     c\n",
      "1  2     d\n",
      "2  3  None\n"
     ]
    },
    {
     "data": {
      "text/html": [
       "<table><thead><tr><th></th><th>e         </th><th>b         </th></tr></thead><tbody><tr><td><strong>0</strong></td><td>         1</td><td>c         </td></tr><tr><td><strong>1</strong></td><td>         2</td><td>d         </td></tr><tr><td><strong>2</strong></td><td>         3</td><td>None      </td></tr></tbody></table>"
      ],
      "text/plain": [
       "<analytica.DataFrame at 0x7f08d351a350>"
      ]
     },
     "execution_count": 12,
     "metadata": {},
     "output_type": "execute_result"
    }
   ],
   "source": [
    "print(pd_df[['e', 'b']])\n",
    "alt_df[['e', 'b']]"
   ]
  },
  {
   "cell_type": "code",
   "execution_count": 13,
   "metadata": {},
   "outputs": [
    {
     "name": "stdout",
     "output_type": "stream",
     "text": [
      "   a     b         c     d  e    f\n",
      "0  a     c  0.037262  True  1  3.4\n",
      "2  c  None  0.540734  True  3  5.1\n"
     ]
    },
    {
     "data": {
      "text/html": [
       "<table><thead><tr><th></th><th>a         </th><th>b         </th><th>c         </th><th>d         </th><th>e         </th><th>f         </th></tr></thead><tbody><tr><td><strong>0</strong></td><td>a         </td><td>c         </td><td>     0.037</td><td>True</td><td>         1</td><td>     3.400</td></tr><tr><td><strong>1</strong></td><td>c         </td><td>None      </td><td>     0.541</td><td>True</td><td>         3</td><td>     5.100</td></tr></tbody></table>"
      ],
      "text/plain": [
       "<analytica.DataFrame at 0x7f08d353bb50>"
      ]
     },
     "execution_count": 13,
     "metadata": {},
     "output_type": "execute_result"
    }
   ],
   "source": [
    "print(pd_df[d])\n",
    "alt_df[alt.DataFrame({'d': d})]"
   ]
  },
  {
   "cell_type": "code",
   "execution_count": 14,
   "metadata": {},
   "outputs": [
    {
     "name": "stdout",
     "output_type": "stream",
     "text": [
      "0.7572056514486892\n"
     ]
    },
    {
     "data": {
      "text/html": [
       "<table><thead><tr><th></th><th>c         </th></tr></thead><tbody><tr><td><strong>0</strong></td><td>     0.757</td></tr></tbody></table>"
      ],
      "text/plain": [
       "<analytica.DataFrame at 0x7f08d34dfed0>"
      ]
     },
     "execution_count": 14,
     "metadata": {},
     "output_type": "execute_result"
    }
   ],
   "source": [
    "print(pd_df.iloc[1,2])\n",
    "alt_df[1,2]"
   ]
  },
  {
   "cell_type": "code",
   "execution_count": 15,
   "metadata": {},
   "outputs": [
    {
     "name": "stdout",
     "output_type": "stream",
     "text": [
      "d\n"
     ]
    },
    {
     "data": {
      "text/html": [
       "<table><thead><tr><th></th><th>b         </th></tr></thead><tbody><tr><td><strong>0</strong></td><td>d         </td></tr></tbody></table>"
      ],
      "text/plain": [
       "<analytica.DataFrame at 0x7f08d3523c50>"
      ]
     },
     "execution_count": 15,
     "metadata": {},
     "output_type": "execute_result"
    }
   ],
   "source": [
    "print(pd_df.loc[1,'b'])\n",
    "alt_df[1,'b']"
   ]
  },
  {
   "cell_type": "code",
   "execution_count": 16,
   "metadata": {},
   "outputs": [
    {
     "name": "stdout",
     "output_type": "stream",
     "text": [
      "0       c\n",
      "2    None\n",
      "Name: b, dtype: object\n"
     ]
    },
    {
     "data": {
      "text/html": [
       "<table><thead><tr><th></th><th>b         </th></tr></thead><tbody><tr><td><strong>0</strong></td><td>c         </td></tr><tr><td><strong>1</strong></td><td>None      </td></tr></tbody></table>"
      ],
      "text/plain": [
       "<analytica.DataFrame at 0x7f08d34df810>"
      ]
     },
     "execution_count": 16,
     "metadata": {},
     "output_type": "execute_result"
    }
   ],
   "source": [
    "print(pd_df.loc[d, 'b'])\n",
    "alt_df[alt.DataFrame({'d': d}), 'b']"
   ]
  },
  {
   "cell_type": "markdown",
   "metadata": {},
   "source": [
    "# Row, Col Indexing"
   ]
  },
  {
   "cell_type": "code",
   "execution_count": 17,
   "metadata": {},
   "outputs": [
    {
     "name": "stdout",
     "output_type": "stream",
     "text": [
      "1       d\n",
      "2    None\n",
      "Name: b, dtype: object\n"
     ]
    },
    {
     "data": {
      "text/html": [
       "<table><thead><tr><th></th><th>b         </th></tr></thead><tbody><tr><td><strong>0</strong></td><td>d         </td></tr><tr><td><strong>1</strong></td><td>None      </td></tr></tbody></table>"
      ],
      "text/plain": [
       "<analytica.DataFrame at 0x7f08d34e9b90>"
      ]
     },
     "execution_count": 17,
     "metadata": {},
     "output_type": "execute_result"
    }
   ],
   "source": [
    "print(pd_df.loc[[1,2], 'b'])\n",
    "alt_df[[1,2], 'b']"
   ]
  },
  {
   "cell_type": "code",
   "execution_count": 18,
   "metadata": {},
   "outputs": [
    {
     "name": "stdout",
     "output_type": "stream",
     "text": [
      "1       d\n",
      "2    None\n",
      "Name: b, dtype: object\n"
     ]
    },
    {
     "data": {
      "text/html": [
       "<table><thead><tr><th></th><th>b         </th></tr></thead><tbody><tr><td><strong>0</strong></td><td>d         </td></tr><tr><td><strong>1</strong></td><td>None      </td></tr></tbody></table>"
      ],
      "text/plain": [
       "<analytica.DataFrame at 0x7f08d34e9d50>"
      ]
     },
     "execution_count": 18,
     "metadata": {},
     "output_type": "execute_result"
    }
   ],
   "source": [
    "print(pd_df.loc[1:3, 'b'])\n",
    "alt_df[1:3, 'b']"
   ]
  },
  {
   "cell_type": "code",
   "execution_count": 19,
   "metadata": {},
   "outputs": [
    {
     "name": "stdout",
     "output_type": "stream",
     "text": [
      "   a     b         c\n",
      "1  b     d  0.757206\n",
      "2  c  None  0.540734\n"
     ]
    },
    {
     "data": {
      "text/html": [
       "<table><thead><tr><th></th><th>a         </th><th>b         </th><th>c         </th></tr></thead><tbody><tr><td><strong>0</strong></td><td>b         </td><td>d         </td><td>     0.757</td></tr><tr><td><strong>1</strong></td><td>c         </td><td>None      </td><td>     0.541</td></tr></tbody></table>"
      ],
      "text/plain": [
       "<analytica.DataFrame at 0x7f08d351a410>"
      ]
     },
     "execution_count": 19,
     "metadata": {},
     "output_type": "execute_result"
    }
   ],
   "source": [
    "print(pd_df.loc[1:3, ['a','b','c']])\n",
    "alt_df[1:3, ['a','b','c']]"
   ]
  },
  {
   "cell_type": "code",
   "execution_count": 20,
   "metadata": {},
   "outputs": [
    {
     "name": "stdout",
     "output_type": "stream",
     "text": [
      "   a     b         c\n",
      "1  b     d  0.757206\n",
      "2  c  None  0.540734\n"
     ]
    },
    {
     "data": {
      "text/html": [
       "<table><thead><tr><th></th><th>a         </th><th>b         </th><th>c         </th></tr></thead><tbody><tr><td><strong>0</strong></td><td>b         </td><td>d         </td><td>     0.757</td></tr><tr><td><strong>1</strong></td><td>c         </td><td>None      </td><td>     0.541</td></tr></tbody></table>"
      ],
      "text/plain": [
       "<analytica.DataFrame at 0x7f08d34df150>"
      ]
     },
     "execution_count": 20,
     "metadata": {},
     "output_type": "execute_result"
    }
   ],
   "source": [
    "print(pd_df.iloc[1:3, [0,1,2]])\n",
    "alt_df[1:3, [0,1,2]]"
   ]
  },
  {
   "cell_type": "code",
   "execution_count": 21,
   "metadata": {},
   "outputs": [
    {
     "data": {
      "text/html": [
       "<table><thead><tr><th></th><th>a         </th><th>b         </th><th>c         </th></tr></thead><tbody><tr><td><strong>0</strong></td><td>b         </td><td>d         </td><td>     0.757</td></tr><tr><td><strong>1</strong></td><td>c         </td><td>None      </td><td>     0.541</td></tr></tbody></table>"
      ],
      "text/plain": [
       "<analytica.DataFrame at 0x7f08d353b910>"
      ]
     },
     "execution_count": 21,
     "metadata": {},
     "output_type": "execute_result"
    }
   ],
   "source": [
    "alt_df[1:3, ['a',1,2]]"
   ]
  },
  {
   "cell_type": "code",
   "execution_count": 22,
   "metadata": {},
   "outputs": [
    {
     "name": "stdout",
     "output_type": "stream",
     "text": [
      "   a     b         c\n",
      "1  b     d  0.757206\n",
      "2  c  None  0.540734\n"
     ]
    },
    {
     "data": {
      "text/html": [
       "<table><thead><tr><th></th><th>a         </th><th>b         </th><th>c         </th></tr></thead><tbody><tr><td><strong>0</strong></td><td>b         </td><td>d         </td><td>     0.757</td></tr><tr><td><strong>1</strong></td><td>c         </td><td>None      </td><td>     0.541</td></tr></tbody></table>"
      ],
      "text/plain": [
       "<analytica.DataFrame at 0x7f08fc1e3790>"
      ]
     },
     "execution_count": 22,
     "metadata": {},
     "output_type": "execute_result"
    }
   ],
   "source": [
    "print(pd_df.loc[1:3, 'a':'c'])\n",
    "alt_df[1:3, 'a':'c']"
   ]
  },
  {
   "cell_type": "code",
   "execution_count": 23,
   "metadata": {},
   "outputs": [
    {
     "name": "stdout",
     "output_type": "stream",
     "text": [
      "   a     b         c\n",
      "1  b     d  0.757206\n",
      "2  c  None  0.540734\n"
     ]
    },
    {
     "data": {
      "text/html": [
       "<table><thead><tr><th></th><th>a         </th><th>b         </th><th>c         </th></tr></thead><tbody><tr><td><strong>0</strong></td><td>b         </td><td>d         </td><td>     0.757</td></tr><tr><td><strong>1</strong></td><td>c         </td><td>None      </td><td>     0.541</td></tr></tbody></table>"
      ],
      "text/plain": [
       "<analytica.DataFrame at 0x7f08d3523550>"
      ]
     },
     "execution_count": 23,
     "metadata": {},
     "output_type": "execute_result"
    }
   ],
   "source": [
    "print(pd_df.iloc[1:3, :3])\n",
    "alt_df[1:3, :3]"
   ]
  },
  {
   "cell_type": "markdown",
   "metadata": {},
   "source": [
    "# Row Indexing"
   ]
  },
  {
   "cell_type": "code",
   "execution_count": 24,
   "metadata": {},
   "outputs": [
    {
     "name": "stdout",
     "output_type": "stream",
     "text": [
      "a           b\n",
      "b           d\n",
      "c    0.757206\n",
      "d       False\n",
      "e           2\n",
      "f         NaN\n",
      "Name: 1, dtype: object\n"
     ]
    },
    {
     "data": {
      "text/html": [
       "<table><thead><tr><th></th><th>a         </th><th>b         </th><th>c         </th><th>d         </th><th>e         </th><th>f         </th></tr></thead><tbody><tr><td><strong>0</strong></td><td>b         </td><td>d         </td><td>     0.757</td><td>False</td><td>         2</td><td>       nan</td></tr></tbody></table>"
      ],
      "text/plain": [
       "<analytica.DataFrame at 0x7f08d3527210>"
      ]
     },
     "execution_count": 24,
     "metadata": {},
     "output_type": "execute_result"
    }
   ],
   "source": [
    "print(pd_df.iloc[1])\n",
    "alt_df[1]"
   ]
  },
  {
   "cell_type": "code",
   "execution_count": 25,
   "metadata": {},
   "outputs": [
    {
     "name": "stdout",
     "output_type": "stream",
     "text": [
      "   a     b         c      d  e    f\n",
      "1  b     d  0.757206  False  2  NaN\n",
      "2  c  None  0.540734   True  3  5.1\n"
     ]
    },
    {
     "data": {
      "text/html": [
       "<table><thead><tr><th></th><th>a         </th><th>b         </th><th>c         </th><th>d         </th><th>e         </th><th>f         </th></tr></thead><tbody><tr><td><strong>0</strong></td><td>b         </td><td>d         </td><td>     0.757</td><td>False</td><td>         2</td><td>       nan</td></tr><tr><td><strong>1</strong></td><td>c         </td><td>None      </td><td>     0.541</td><td>True</td><td>         3</td><td>     5.100</td></tr></tbody></table>"
      ],
      "text/plain": [
       "<analytica.DataFrame at 0x7f08d3527fd0>"
      ]
     },
     "execution_count": 25,
     "metadata": {},
     "output_type": "execute_result"
    }
   ],
   "source": [
    "print(pd_df.iloc[[1,2]])\n",
    "alt_df[[1,2]]"
   ]
  },
  {
   "cell_type": "code",
   "execution_count": 26,
   "metadata": {},
   "outputs": [
    {
     "name": "stdout",
     "output_type": "stream",
     "text": [
      "   a     b         c      d  e    f\n",
      "1  b     d  0.757206  False  2  NaN\n",
      "2  c  None  0.540734   True  3  5.1\n"
     ]
    },
    {
     "data": {
      "text/html": [
       "<table><thead><tr><th></th><th>a         </th><th>b         </th><th>c         </th><th>d         </th><th>e         </th><th>f         </th></tr></thead><tbody><tr><td><strong>0</strong></td><td>b         </td><td>d         </td><td>     0.757</td><td>False</td><td>         2</td><td>       nan</td></tr><tr><td><strong>1</strong></td><td>c         </td><td>None      </td><td>     0.541</td><td>True</td><td>         3</td><td>     5.100</td></tr></tbody></table>"
      ],
      "text/plain": [
       "<analytica.DataFrame at 0x7f08d350a950>"
      ]
     },
     "execution_count": 26,
     "metadata": {},
     "output_type": "execute_result"
    }
   ],
   "source": [
    "print(pd_df.iloc[1:3])\n",
    "alt_df[1:3]"
   ]
  },
  {
   "cell_type": "markdown",
   "metadata": {},
   "source": [
    "# Min"
   ]
  },
  {
   "cell_type": "code",
   "execution_count": 27,
   "metadata": {},
   "outputs": [
    {
     "name": "stdout",
     "output_type": "stream",
     "text": [
      "a            a\n",
      "c    0.0372621\n",
      "d        False\n",
      "e            1\n",
      "f          3.4\n",
      "dtype: object\n"
     ]
    },
    {
     "data": {
      "text/html": [
       "<table><thead><tr><th></th><th>a         </th><th>c         </th><th>d         </th><th>e         </th><th>f         </th></tr></thead><tbody><tr><td><strong>0</strong></td><td>a         </td><td>     0.037</td><td>False</td><td>         1</td><td>     3.400</td></tr></tbody></table>"
      ],
      "text/plain": [
       "<analytica.DataFrame at 0x7f08fc202490>"
      ]
     },
     "execution_count": 27,
     "metadata": {},
     "output_type": "execute_result"
    }
   ],
   "source": [
    "print(pd_df.min())\n",
    "alt_df.min()"
   ]
  },
  {
   "cell_type": "code",
   "execution_count": 28,
   "metadata": {},
   "outputs": [
    {
     "name": "stdout",
     "output_type": "stream",
     "text": [
      "0    0.037262\n",
      "1    0.000000\n",
      "2    0.540734\n",
      "dtype: float64\n"
     ]
    },
    {
     "data": {
      "text/html": [
       "<table><thead><tr><th></th><th>min       </th></tr></thead><tbody><tr><td><strong>0</strong></td><td>     0.037</td></tr><tr><td><strong>1</strong></td><td>     0.000</td></tr><tr><td><strong>2</strong></td><td>     0.541</td></tr></tbody></table>"
      ],
      "text/plain": [
       "<analytica.DataFrame at 0x7f08d3527810>"
      ]
     },
     "execution_count": 28,
     "metadata": {},
     "output_type": "execute_result"
    }
   ],
   "source": [
    "print(pd_df.min(axis=1))\n",
    "alt_df.min(axis=1)"
   ]
  },
  {
   "cell_type": "code",
   "execution_count": 29,
   "metadata": {},
   "outputs": [
    {
     "name": "stdout",
     "output_type": "stream",
     "text": [
      "a    a\n",
      "b    c\n",
      "c    f\n",
      "dtype: object\n"
     ]
    },
    {
     "data": {
      "text/html": [
       "<table><thead><tr><th></th><th>a         </th><th>b         </th><th>c         </th></tr></thead><tbody><tr><td><strong>0</strong></td><td>a         </td><td>c         </td><td>f         </td></tr></tbody></table>"
      ],
      "text/plain": [
       "<analytica.DataFrame at 0x7f08d3523890>"
      ]
     },
     "execution_count": 29,
     "metadata": {},
     "output_type": "execute_result"
    }
   ],
   "source": [
    "print(pd_df2.min())\n",
    "alt_df2.min()"
   ]
  },
  {
   "cell_type": "code",
   "execution_count": 30,
   "metadata": {
    "scrolled": false
   },
   "outputs": [
    {
     "name": "stdout",
     "output_type": "stream",
     "text": [
      "0   NaN\n",
      "1   NaN\n",
      "2   NaN\n",
      "dtype: float64\n"
     ]
    },
    {
     "data": {
      "text/html": [
       "<table><thead><tr><th></th><th>min       </th></tr></thead><tbody><tr><td><strong>0</strong></td><td>       nan</td></tr><tr><td><strong>1</strong></td><td>       nan</td></tr><tr><td><strong>2</strong></td><td>       nan</td></tr></tbody></table>"
      ],
      "text/plain": [
       "<analytica.DataFrame at 0x7f08f46be090>"
      ]
     },
     "execution_count": 30,
     "metadata": {},
     "output_type": "execute_result"
    }
   ],
   "source": [
    "print(pd_df2.min(axis=1))\n",
    "alt_df2.min(axis=1)"
   ]
  },
  {
   "cell_type": "code",
   "execution_count": 31,
   "metadata": {},
   "outputs": [
    {
     "name": "stdout",
     "output_type": "stream",
     "text": [
      "a    a\n",
      "b    c\n",
      "c    f\n",
      "dtype: object\n"
     ]
    },
    {
     "data": {
      "text/html": [
       "<table><thead><tr><th></th><th>a         </th><th>b         </th><th>c         </th></tr></thead><tbody><tr><td><strong>0</strong></td><td>a         </td><td>c         </td><td>f         </td></tr></tbody></table>"
      ],
      "text/plain": [
       "<analytica.DataFrame at 0x7f08d34e98d0>"
      ]
     },
     "execution_count": 31,
     "metadata": {},
     "output_type": "execute_result"
    }
   ],
   "source": [
    "print(pd_df2[['a','b','c']].min())\n",
    "alt_df2[['a','b','c']].min()"
   ]
  },
  {
   "cell_type": "code",
   "execution_count": 32,
   "metadata": {},
   "outputs": [
    {
     "name": "stdout",
     "output_type": "stream",
     "text": [
      "0    a\n",
      "1    b\n",
      "2    c\n",
      "dtype: object\n"
     ]
    },
    {
     "data": {
      "text/html": [
       "<table><thead><tr><th></th><th>min       </th></tr></thead><tbody><tr><td><strong>0</strong></td><td>a         </td></tr><tr><td><strong>1</strong></td><td>b         </td></tr><tr><td><strong>2</strong></td><td>c         </td></tr></tbody></table>"
      ],
      "text/plain": [
       "<analytica.DataFrame at 0x7f08d3493cd0>"
      ]
     },
     "execution_count": 32,
     "metadata": {},
     "output_type": "execute_result"
    }
   ],
   "source": [
    "print(pd_df2[['a','b','c']].min(axis=1))\n",
    "alt_df2[['a','b','c']].min(axis=1)"
   ]
  },
  {
   "cell_type": "markdown",
   "metadata": {},
   "source": [
    "# Max"
   ]
  },
  {
   "cell_type": "code",
   "execution_count": 33,
   "metadata": {},
   "outputs": [
    {
     "name": "stdout",
     "output_type": "stream",
     "text": [
      "a           c\n",
      "c    0.757206\n",
      "d        True\n",
      "e           3\n",
      "f         5.1\n",
      "dtype: object\n"
     ]
    },
    {
     "data": {
      "text/html": [
       "<table><thead><tr><th></th><th>a         </th><th>c         </th><th>d         </th><th>e         </th><th>f         </th></tr></thead><tbody><tr><td><strong>0</strong></td><td>c         </td><td>     0.757</td><td>True</td><td>         3</td><td>     5.100</td></tr></tbody></table>"
      ],
      "text/plain": [
       "<analytica.DataFrame at 0x7f08d34a39d0>"
      ]
     },
     "execution_count": 33,
     "metadata": {},
     "output_type": "execute_result"
    }
   ],
   "source": [
    "print(pd_df.max())\n",
    "alt_df.max()"
   ]
  },
  {
   "cell_type": "code",
   "execution_count": 34,
   "metadata": {},
   "outputs": [
    {
     "name": "stdout",
     "output_type": "stream",
     "text": [
      "0    3.4\n",
      "1    2.0\n",
      "2    5.1\n",
      "dtype: float64\n"
     ]
    },
    {
     "data": {
      "text/html": [
       "<table><thead><tr><th></th><th>max       </th></tr></thead><tbody><tr><td><strong>0</strong></td><td>     3.400</td></tr><tr><td><strong>1</strong></td><td>     2.000</td></tr><tr><td><strong>2</strong></td><td>     5.100</td></tr></tbody></table>"
      ],
      "text/plain": [
       "<analytica.DataFrame at 0x7f08d34a3810>"
      ]
     },
     "execution_count": 34,
     "metadata": {},
     "output_type": "execute_result"
    }
   ],
   "source": [
    "print(pd_df.max(axis=1))\n",
    "alt_df.max(axis=1)"
   ]
  },
  {
   "cell_type": "code",
   "execution_count": 35,
   "metadata": {},
   "outputs": [
    {
     "name": "stdout",
     "output_type": "stream",
     "text": [
      "a    c\n",
      "b    e\n",
      "c    h\n",
      "dtype: object\n"
     ]
    },
    {
     "data": {
      "text/html": [
       "<table><thead><tr><th></th><th>a         </th><th>b         </th><th>c         </th></tr></thead><tbody><tr><td><strong>0</strong></td><td>c         </td><td>e         </td><td>h         </td></tr></tbody></table>"
      ],
      "text/plain": [
       "<analytica.DataFrame at 0x7f08d34a7e50>"
      ]
     },
     "execution_count": 35,
     "metadata": {},
     "output_type": "execute_result"
    }
   ],
   "source": [
    "print(pd_df2.max())\n",
    "alt_df2.max()"
   ]
  },
  {
   "cell_type": "code",
   "execution_count": 36,
   "metadata": {},
   "outputs": [
    {
     "name": "stdout",
     "output_type": "stream",
     "text": [
      "0   NaN\n",
      "1   NaN\n",
      "2   NaN\n",
      "dtype: float64\n"
     ]
    },
    {
     "data": {
      "text/html": [
       "<table><thead><tr><th></th><th>max       </th></tr></thead><tbody><tr><td><strong>0</strong></td><td>       nan</td></tr><tr><td><strong>1</strong></td><td>       nan</td></tr><tr><td><strong>2</strong></td><td>       nan</td></tr></tbody></table>"
      ],
      "text/plain": [
       "<analytica.DataFrame at 0x7f08d34a7390>"
      ]
     },
     "execution_count": 36,
     "metadata": {},
     "output_type": "execute_result"
    }
   ],
   "source": [
    "print(pd_df2.max(axis=1))\n",
    "alt_df2.max(axis=1)"
   ]
  },
  {
   "cell_type": "code",
   "execution_count": 37,
   "metadata": {},
   "outputs": [
    {
     "name": "stdout",
     "output_type": "stream",
     "text": [
      "a    c\n",
      "b    e\n",
      "c    h\n",
      "dtype: object\n"
     ]
    },
    {
     "data": {
      "text/html": [
       "<table><thead><tr><th></th><th>a         </th><th>b         </th><th>c         </th></tr></thead><tbody><tr><td><strong>0</strong></td><td>c         </td><td>e         </td><td>h         </td></tr></tbody></table>"
      ],
      "text/plain": [
       "<analytica.DataFrame at 0x7f08d34ac350>"
      ]
     },
     "execution_count": 37,
     "metadata": {},
     "output_type": "execute_result"
    }
   ],
   "source": [
    "print(pd_df2[['a','b','c']].max())\n",
    "alt_df2[['a','b','c']].max()"
   ]
  },
  {
   "cell_type": "code",
   "execution_count": 38,
   "metadata": {},
   "outputs": [
    {
     "name": "stdout",
     "output_type": "stream",
     "text": [
      "0    f\n",
      "1    g\n",
      "2    h\n",
      "dtype: object\n"
     ]
    },
    {
     "data": {
      "text/html": [
       "<table><thead><tr><th></th><th>max       </th></tr></thead><tbody><tr><td><strong>0</strong></td><td>f         </td></tr><tr><td><strong>1</strong></td><td>g         </td></tr><tr><td><strong>2</strong></td><td>h         </td></tr></tbody></table>"
      ],
      "text/plain": [
       "<analytica.DataFrame at 0x7f08d34a7f90>"
      ]
     },
     "execution_count": 38,
     "metadata": {},
     "output_type": "execute_result"
    }
   ],
   "source": [
    "print(pd_df2[['a','b','c']].max(axis=1))\n",
    "alt_df2[['a','b','c']].max(axis=1)"
   ]
  },
  {
   "cell_type": "markdown",
   "metadata": {},
   "source": [
    "# Mean"
   ]
  },
  {
   "cell_type": "code",
   "execution_count": 39,
   "metadata": {},
   "outputs": [
    {
     "name": "stdout",
     "output_type": "stream",
     "text": [
      "c    0.445067\n",
      "d    0.666667\n",
      "e    2.000000\n",
      "f    4.250000\n",
      "dtype: float64\n"
     ]
    },
    {
     "data": {
      "text/html": [
       "<table><thead><tr><th></th><th>c         </th><th>d         </th><th>e         </th><th>f         </th></tr></thead><tbody><tr><td><strong>0</strong></td><td>     0.445</td><td>     0.667</td><td>     2.000</td><td>     4.250</td></tr></tbody></table>"
      ],
      "text/plain": [
       "<analytica.DataFrame at 0x7f08fe53ead0>"
      ]
     },
     "execution_count": 39,
     "metadata": {},
     "output_type": "execute_result"
    }
   ],
   "source": [
    "print(pd_df.mean())\n",
    "alt_df.mean()"
   ]
  },
  {
   "cell_type": "code",
   "execution_count": 40,
   "metadata": {},
   "outputs": [
    {
     "name": "stdout",
     "output_type": "stream",
     "text": [
      "0    1.359316\n",
      "1    0.919069\n",
      "2    2.410183\n",
      "dtype: float64\n"
     ]
    },
    {
     "data": {
      "text/html": [
       "<table><thead><tr><th></th><th>mean      </th></tr></thead><tbody><tr><td><strong>0</strong></td><td>     1.359</td></tr><tr><td><strong>1</strong></td><td>     0.919</td></tr><tr><td><strong>2</strong></td><td>     2.410</td></tr></tbody></table>"
      ],
      "text/plain": [
       "<analytica.DataFrame at 0x7f08d34e9f90>"
      ]
     },
     "execution_count": 40,
     "metadata": {},
     "output_type": "execute_result"
    }
   ],
   "source": [
    "print(pd_df.mean(axis=1))\n",
    "alt_df.mean(axis=1)"
   ]
  },
  {
   "cell_type": "code",
   "execution_count": 41,
   "metadata": {},
   "outputs": [
    {
     "name": "stdout",
     "output_type": "stream",
     "text": [
      "Series([], dtype: float64)\n"
     ]
    },
    {
     "data": {
      "text/plain": [
       "[]"
      ]
     },
     "execution_count": 41,
     "metadata": {},
     "output_type": "execute_result"
    }
   ],
   "source": [
    "print(pd_df2.mean())\n",
    "alt_df2.mean()"
   ]
  },
  {
   "cell_type": "code",
   "execution_count": 42,
   "metadata": {},
   "outputs": [
    {
     "name": "stdout",
     "output_type": "stream",
     "text": [
      "0   NaN\n",
      "1   NaN\n",
      "2   NaN\n",
      "dtype: float64\n"
     ]
    },
    {
     "data": {
      "text/html": [
       "<table><thead><tr><th></th><th>mean      </th></tr></thead><tbody><tr><td><strong>0</strong></td><td>       nan</td></tr><tr><td><strong>1</strong></td><td>       nan</td></tr><tr><td><strong>2</strong></td><td>       nan</td></tr></tbody></table>"
      ],
      "text/plain": [
       "<analytica.DataFrame at 0x7f08d3527610>"
      ]
     },
     "execution_count": 42,
     "metadata": {},
     "output_type": "execute_result"
    }
   ],
   "source": [
    "print(pd_df2.mean(axis=1))\n",
    "alt_df2.mean(axis=1)"
   ]
  },
  {
   "cell_type": "markdown",
   "metadata": {},
   "source": [
    "# Median"
   ]
  },
  {
   "cell_type": "code",
   "execution_count": 43,
   "metadata": {},
   "outputs": [
    {
     "name": "stdout",
     "output_type": "stream",
     "text": [
      "c    0.540734\n",
      "d    1.000000\n",
      "e    2.000000\n",
      "f    4.250000\n",
      "dtype: float64\n"
     ]
    },
    {
     "data": {
      "text/html": [
       "<table><thead><tr><th></th><th>c         </th><th>d         </th><th>e         </th><th>f         </th></tr></thead><tbody><tr><td><strong>0</strong></td><td>     0.541</td><td>     1.000</td><td>     2.000</td><td>     4.250</td></tr></tbody></table>"
      ],
      "text/plain": [
       "<analytica.DataFrame at 0x7f08d3740150>"
      ]
     },
     "execution_count": 43,
     "metadata": {},
     "output_type": "execute_result"
    }
   ],
   "source": [
    "print(pd_df.median())\n",
    "alt_df.median()"
   ]
  },
  {
   "cell_type": "code",
   "execution_count": 44,
   "metadata": {},
   "outputs": [
    {
     "name": "stdout",
     "output_type": "stream",
     "text": [
      "0    1.000000\n",
      "1    0.757206\n",
      "2    2.000000\n",
      "dtype: float64\n"
     ]
    },
    {
     "data": {
      "text/html": [
       "<table><thead><tr><th></th><th>median    </th></tr></thead><tbody><tr><td><strong>0</strong></td><td>     1.000</td></tr><tr><td><strong>1</strong></td><td>     0.757</td></tr><tr><td><strong>2</strong></td><td>     2.000</td></tr></tbody></table>"
      ],
      "text/plain": [
       "<analytica.DataFrame at 0x7f08d34b2c50>"
      ]
     },
     "execution_count": 44,
     "metadata": {},
     "output_type": "execute_result"
    }
   ],
   "source": [
    "print(pd_df.median(axis=1))\n",
    "alt_df.median(axis=1)"
   ]
  },
  {
   "cell_type": "code",
   "execution_count": 45,
   "metadata": {},
   "outputs": [
    {
     "name": "stdout",
     "output_type": "stream",
     "text": [
      "Series([], dtype: float64)\n"
     ]
    },
    {
     "data": {
      "text/plain": [
       "[]"
      ]
     },
     "execution_count": 45,
     "metadata": {},
     "output_type": "execute_result"
    }
   ],
   "source": [
    "print(pd_df2.median())\n",
    "alt_df2.median()"
   ]
  },
  {
   "cell_type": "code",
   "execution_count": 46,
   "metadata": {},
   "outputs": [
    {
     "name": "stdout",
     "output_type": "stream",
     "text": [
      "0   NaN\n",
      "1   NaN\n",
      "2   NaN\n",
      "dtype: float64\n"
     ]
    },
    {
     "data": {
      "text/html": [
       "<table><thead><tr><th></th><th>median    </th></tr></thead><tbody><tr><td><strong>0</strong></td><td>       nan</td></tr><tr><td><strong>1</strong></td><td>       nan</td></tr><tr><td><strong>2</strong></td><td>       nan</td></tr></tbody></table>"
      ],
      "text/plain": [
       "<analytica.DataFrame at 0x7f08d34bbdd0>"
      ]
     },
     "execution_count": 46,
     "metadata": {},
     "output_type": "execute_result"
    }
   ],
   "source": [
    "print(pd_df2.median(axis=1))\n",
    "alt_df2.median(axis=1)"
   ]
  },
  {
   "cell_type": "markdown",
   "metadata": {},
   "source": [
    "# Sum"
   ]
  },
  {
   "cell_type": "code",
   "execution_count": 47,
   "metadata": {},
   "outputs": [
    {
     "name": "stdout",
     "output_type": "stream",
     "text": [
      "a       abc\n",
      "c    1.3352\n",
      "d         2\n",
      "e         6\n",
      "f       8.5\n",
      "dtype: object\n"
     ]
    },
    {
     "data": {
      "text/html": [
       "<table><thead><tr><th></th><th>a         </th><th>c         </th><th>d         </th><th>e         </th><th>f         </th></tr></thead><tbody><tr><td><strong>0</strong></td><td>abc       </td><td>     1.335</td><td>         2</td><td>         6</td><td>     8.500</td></tr></tbody></table>"
      ],
      "text/plain": [
       "<analytica.DataFrame at 0x7f08d34bbfd0>"
      ]
     },
     "execution_count": 47,
     "metadata": {},
     "output_type": "execute_result"
    }
   ],
   "source": [
    "print(pd_df.sum())\n",
    "alt_df.sum()"
   ]
  },
  {
   "cell_type": "code",
   "execution_count": 48,
   "metadata": {},
   "outputs": [
    {
     "name": "stdout",
     "output_type": "stream",
     "text": [
      "0    5.437262\n",
      "1    2.757206\n",
      "2    9.640734\n",
      "dtype: float64\n"
     ]
    },
    {
     "data": {
      "text/html": [
       "<table><thead><tr><th></th><th>sum       </th></tr></thead><tbody><tr><td><strong>0</strong></td><td>     5.437</td></tr><tr><td><strong>1</strong></td><td>     2.757</td></tr><tr><td><strong>2</strong></td><td>     9.641</td></tr></tbody></table>"
      ],
      "text/plain": [
       "<analytica.DataFrame at 0x7f08d34fb610>"
      ]
     },
     "execution_count": 48,
     "metadata": {},
     "output_type": "execute_result"
    }
   ],
   "source": [
    "print(pd_df.sum(axis=1))\n",
    "alt_df.sum(axis=1)"
   ]
  },
  {
   "cell_type": "code",
   "execution_count": 49,
   "metadata": {},
   "outputs": [
    {
     "name": "stdout",
     "output_type": "stream",
     "text": [
      "a    abc\n",
      "b    cde\n",
      "c    fgh\n",
      "dtype: object\n"
     ]
    },
    {
     "data": {
      "text/html": [
       "<table><thead><tr><th></th><th>a         </th><th>b         </th><th>c         </th></tr></thead><tbody><tr><td><strong>0</strong></td><td>abc       </td><td>cde       </td><td>fgh       </td></tr></tbody></table>"
      ],
      "text/plain": [
       "<analytica.DataFrame at 0x7f08d34a36d0>"
      ]
     },
     "execution_count": 49,
     "metadata": {},
     "output_type": "execute_result"
    }
   ],
   "source": [
    "print(pd_df2.sum())\n",
    "alt_df2.sum()"
   ]
  },
  {
   "cell_type": "code",
   "execution_count": 50,
   "metadata": {},
   "outputs": [
    {
     "name": "stdout",
     "output_type": "stream",
     "text": [
      "0    0.0\n",
      "1    0.0\n",
      "2    0.0\n",
      "dtype: float64\n"
     ]
    },
    {
     "data": {
      "text/html": [
       "<table><thead><tr><th></th><th>sum       </th></tr></thead><tbody><tr><td><strong>0</strong></td><td>       nan</td></tr><tr><td><strong>1</strong></td><td>       nan</td></tr><tr><td><strong>2</strong></td><td>       nan</td></tr></tbody></table>"
      ],
      "text/plain": [
       "<analytica.DataFrame at 0x7f08d34a3210>"
      ]
     },
     "execution_count": 50,
     "metadata": {},
     "output_type": "execute_result"
    }
   ],
   "source": [
    "print(pd_df2.sum(axis=1))\n",
    "alt_df2.sum(axis=1)"
   ]
  },
  {
   "cell_type": "markdown",
   "metadata": {},
   "source": [
    "# ArgMax"
   ]
  },
  {
   "cell_type": "code",
   "execution_count": 51,
   "metadata": {},
   "outputs": [
    {
     "name": "stdout",
     "output_type": "stream",
     "text": [
      "   a     b         c      d  e    f\n",
      "0  a     c  0.037262   True  1  3.4\n",
      "1  b     d  0.757206  False  2  NaN\n",
      "2  c  None  0.540734   True  3  5.1\n"
     ]
    },
    {
     "data": {
      "text/html": [
       "<table><thead><tr><th></th><th>a         </th><th>c         </th><th>d         </th><th>e         </th><th>f         </th></tr></thead><tbody><tr><td><strong>0</strong></td><td>         2</td><td>         1</td><td>         0</td><td>         2</td><td>         2</td></tr></tbody></table>"
      ],
      "text/plain": [
       "<analytica.DataFrame at 0x7f08d34a7250>"
      ]
     },
     "execution_count": 51,
     "metadata": {},
     "output_type": "execute_result"
    }
   ],
   "source": [
    "print(pd_df)\n",
    "alt_df.argmax()"
   ]
  },
  {
   "cell_type": "code",
   "execution_count": 52,
   "metadata": {},
   "outputs": [
    {
     "name": "stdout",
     "output_type": "stream",
     "text": [
      "   a  b  c     d     e     f\n",
      "0  a  c  f     i     k     m\n",
      "1  b  d  g     j  None     n\n",
      "2  c  e  h  None     l  None\n"
     ]
    },
    {
     "data": {
      "text/html": [
       "<table><thead><tr><th></th><th>a         </th><th>b         </th><th>c         </th></tr></thead><tbody><tr><td><strong>0</strong></td><td>         2</td><td>         2</td><td>         2</td></tr></tbody></table>"
      ],
      "text/plain": [
       "<analytica.DataFrame at 0x7f08d34c04d0>"
      ]
     },
     "execution_count": 52,
     "metadata": {},
     "output_type": "execute_result"
    }
   ],
   "source": [
    "print(pd_df2)\n",
    "alt_df2.argmax()"
   ]
  },
  {
   "cell_type": "markdown",
   "metadata": {},
   "source": [
    "# ArgMin"
   ]
  },
  {
   "cell_type": "code",
   "execution_count": 53,
   "metadata": {},
   "outputs": [
    {
     "name": "stdout",
     "output_type": "stream",
     "text": [
      "   a     b         c      d  e    f\n",
      "0  a     c  0.037262   True  1  3.4\n",
      "1  b     d  0.757206  False  2  NaN\n",
      "2  c  None  0.540734   True  3  5.1\n"
     ]
    },
    {
     "data": {
      "text/html": [
       "<table><thead><tr><th></th><th>a         </th><th>c         </th><th>d         </th><th>e         </th><th>f         </th></tr></thead><tbody><tr><td><strong>0</strong></td><td>         0</td><td>         0</td><td>         1</td><td>         0</td><td>         0</td></tr></tbody></table>"
      ],
      "text/plain": [
       "<analytica.DataFrame at 0x7f08d34c1150>"
      ]
     },
     "execution_count": 53,
     "metadata": {},
     "output_type": "execute_result"
    }
   ],
   "source": [
    "print(pd_df)\n",
    "alt_df.argmin()"
   ]
  },
  {
   "cell_type": "code",
   "execution_count": 54,
   "metadata": {},
   "outputs": [
    {
     "name": "stdout",
     "output_type": "stream",
     "text": [
      "   a  b  c     d     e     f\n",
      "0  a  c  f     i     k     m\n",
      "1  b  d  g     j  None     n\n",
      "2  c  e  h  None     l  None\n"
     ]
    },
    {
     "data": {
      "text/html": [
       "<table><thead><tr><th></th><th>a         </th><th>b         </th><th>c         </th></tr></thead><tbody><tr><td><strong>0</strong></td><td>         0</td><td>         0</td><td>         0</td></tr></tbody></table>"
      ],
      "text/plain": [
       "<analytica.DataFrame at 0x7f08d34c1910>"
      ]
     },
     "execution_count": 54,
     "metadata": {},
     "output_type": "execute_result"
    }
   ],
   "source": [
    "print(pd_df2)\n",
    "alt_df2.argmin()"
   ]
  },
  {
   "cell_type": "markdown",
   "metadata": {},
   "source": [
    "# All"
   ]
  },
  {
   "cell_type": "code",
   "execution_count": 55,
   "metadata": {},
   "outputs": [
    {
     "name": "stdout",
     "output_type": "stream",
     "text": [
      "a     True\n",
      "b     True\n",
      "c     True\n",
      "d    False\n",
      "e     True\n",
      "f     True\n",
      "dtype: bool\n"
     ]
    },
    {
     "data": {
      "text/html": [
       "<table><thead><tr><th></th><th>a         </th><th>b         </th><th>c         </th><th>d         </th><th>e         </th><th>f         </th></tr></thead><tbody><tr><td><strong>0</strong></td><td>True</td><td>True</td><td>True</td><td>False</td><td>True</td><td>True</td></tr></tbody></table>"
      ],
      "text/plain": [
       "<analytica.DataFrame at 0x7f08d34c1050>"
      ]
     },
     "execution_count": 55,
     "metadata": {},
     "output_type": "execute_result"
    }
   ],
   "source": [
    "print(pd_df.all())\n",
    "alt_df.all()"
   ]
  },
  {
   "cell_type": "code",
   "execution_count": 56,
   "metadata": {},
   "outputs": [
    {
     "name": "stdout",
     "output_type": "stream",
     "text": [
      "0     True\n",
      "1    False\n",
      "2     True\n",
      "dtype: bool\n"
     ]
    },
    {
     "data": {
      "text/html": [
       "<table><thead><tr><th></th><th>all       </th></tr></thead><tbody><tr><td><strong>0</strong></td><td>True</td></tr><tr><td><strong>1</strong></td><td>False</td></tr><tr><td><strong>2</strong></td><td>True</td></tr></tbody></table>"
      ],
      "text/plain": [
       "<analytica.DataFrame at 0x7f08d34c1110>"
      ]
     },
     "execution_count": 56,
     "metadata": {},
     "output_type": "execute_result"
    }
   ],
   "source": [
    "print(pd_df.all(axis=1))\n",
    "alt_df.all(axis=1)"
   ]
  },
  {
   "cell_type": "code",
   "execution_count": 57,
   "metadata": {},
   "outputs": [
    {
     "name": "stdout",
     "output_type": "stream",
     "text": [
      "a    True\n",
      "b    True\n",
      "c    True\n",
      "d    True\n",
      "e    True\n",
      "f    True\n",
      "dtype: bool\n"
     ]
    },
    {
     "data": {
      "text/html": [
       "<table><thead><tr><th></th><th>a         </th><th>b         </th><th>c         </th><th>d         </th><th>e         </th><th>f         </th></tr></thead><tbody><tr><td><strong>0</strong></td><td>True</td><td>True</td><td>True</td><td>True</td><td>True</td><td>True</td></tr></tbody></table>"
      ],
      "text/plain": [
       "<analytica.DataFrame at 0x7f08d34c0350>"
      ]
     },
     "execution_count": 57,
     "metadata": {},
     "output_type": "execute_result"
    }
   ],
   "source": [
    "print(pd_df2.all())\n",
    "alt_df2.all()"
   ]
  },
  {
   "cell_type": "code",
   "execution_count": 58,
   "metadata": {},
   "outputs": [
    {
     "name": "stdout",
     "output_type": "stream",
     "text": [
      "0    True\n",
      "1    True\n",
      "2    True\n",
      "dtype: bool\n"
     ]
    },
    {
     "data": {
      "text/html": [
       "<table><thead><tr><th></th><th>all       </th></tr></thead><tbody><tr><td><strong>0</strong></td><td>True</td></tr><tr><td><strong>1</strong></td><td>True</td></tr><tr><td><strong>2</strong></td><td>True</td></tr></tbody></table>"
      ],
      "text/plain": [
       "<analytica.DataFrame at 0x7f08d34c0190>"
      ]
     },
     "execution_count": 58,
     "metadata": {},
     "output_type": "execute_result"
    }
   ],
   "source": [
    "print(pd_df2.all(axis=1))\n",
    "alt_df2.all(axis=1)"
   ]
  },
  {
   "cell_type": "markdown",
   "metadata": {},
   "source": [
    "# Any"
   ]
  },
  {
   "cell_type": "code",
   "execution_count": 59,
   "metadata": {},
   "outputs": [
    {
     "name": "stdout",
     "output_type": "stream",
     "text": [
      "a    True\n",
      "b    True\n",
      "c    True\n",
      "d    True\n",
      "e    True\n",
      "f    True\n",
      "dtype: bool\n"
     ]
    },
    {
     "data": {
      "text/html": [
       "<table><thead><tr><th></th><th>a         </th><th>b         </th><th>c         </th><th>d         </th><th>e         </th><th>f         </th></tr></thead><tbody><tr><td><strong>0</strong></td><td>True</td><td>True</td><td>True</td><td>True</td><td>True</td><td>True</td></tr></tbody></table>"
      ],
      "text/plain": [
       "<analytica.DataFrame at 0x7f08d34bb590>"
      ]
     },
     "execution_count": 59,
     "metadata": {},
     "output_type": "execute_result"
    }
   ],
   "source": [
    "print(pd_df.any())\n",
    "alt_df.any()"
   ]
  },
  {
   "cell_type": "code",
   "execution_count": 60,
   "metadata": {},
   "outputs": [
    {
     "name": "stdout",
     "output_type": "stream",
     "text": [
      "0    True\n",
      "1    True\n",
      "2    True\n",
      "dtype: bool\n"
     ]
    },
    {
     "data": {
      "text/html": [
       "<table><thead><tr><th></th><th>any       </th></tr></thead><tbody><tr><td><strong>0</strong></td><td>True</td></tr><tr><td><strong>1</strong></td><td>True</td></tr><tr><td><strong>2</strong></td><td>True</td></tr></tbody></table>"
      ],
      "text/plain": [
       "<analytica.DataFrame at 0x7f08d34b2a50>"
      ]
     },
     "execution_count": 60,
     "metadata": {},
     "output_type": "execute_result"
    }
   ],
   "source": [
    "print(pd_df.any(axis=1))\n",
    "alt_df.any(axis=1)"
   ]
  },
  {
   "cell_type": "code",
   "execution_count": 61,
   "metadata": {},
   "outputs": [
    {
     "name": "stdout",
     "output_type": "stream",
     "text": [
      "a    True\n",
      "b    True\n",
      "c    True\n",
      "d    True\n",
      "e    True\n",
      "f    True\n",
      "dtype: bool\n"
     ]
    },
    {
     "data": {
      "text/html": [
       "<table><thead><tr><th></th><th>a         </th><th>b         </th><th>c         </th><th>d         </th><th>e         </th><th>f         </th></tr></thead><tbody><tr><td><strong>0</strong></td><td>True</td><td>True</td><td>True</td><td>True</td><td>True</td><td>True</td></tr></tbody></table>"
      ],
      "text/plain": [
       "<analytica.DataFrame at 0x7f08d34b2410>"
      ]
     },
     "execution_count": 61,
     "metadata": {},
     "output_type": "execute_result"
    }
   ],
   "source": [
    "print(pd_df2.any())\n",
    "alt_df2.any()"
   ]
  },
  {
   "cell_type": "code",
   "execution_count": 62,
   "metadata": {},
   "outputs": [
    {
     "name": "stdout",
     "output_type": "stream",
     "text": [
      "0    True\n",
      "1    True\n",
      "2    True\n",
      "dtype: bool\n"
     ]
    },
    {
     "data": {
      "text/html": [
       "<table><thead><tr><th></th><th>any       </th></tr></thead><tbody><tr><td><strong>0</strong></td><td>True</td></tr><tr><td><strong>1</strong></td><td>True</td></tr><tr><td><strong>2</strong></td><td>True</td></tr></tbody></table>"
      ],
      "text/plain": [
       "<analytica.DataFrame at 0x7f08d34fba10>"
      ]
     },
     "execution_count": 62,
     "metadata": {},
     "output_type": "execute_result"
    }
   ],
   "source": [
    "print(pd_df2.any(axis=1))\n",
    "alt_df2.any(axis=1)"
   ]
  },
  {
   "cell_type": "markdown",
   "metadata": {},
   "source": [
    "# Var"
   ]
  },
  {
   "cell_type": "code",
   "execution_count": 63,
   "metadata": {},
   "outputs": [
    {
     "name": "stdout",
     "output_type": "stream",
     "text": [
      "c    0.136444\n",
      "d    0.333333\n",
      "e    1.000000\n",
      "f    1.445000\n",
      "dtype: float64\n"
     ]
    },
    {
     "data": {
      "text/html": [
       "<table><thead><tr><th></th><th>c         </th><th>d         </th><th>e         </th><th>f         </th></tr></thead><tbody><tr><td><strong>0</strong></td><td>     0.136</td><td>     0.333</td><td>     1.000</td><td>     1.445</td></tr></tbody></table>"
      ],
      "text/plain": [
       "<analytica.DataFrame at 0x7f08d34accd0>"
      ]
     },
     "execution_count": 63,
     "metadata": {},
     "output_type": "execute_result"
    }
   ],
   "source": [
    "print(pd_df.var())\n",
    "alt_df.var()"
   ]
  },
  {
   "cell_type": "code",
   "execution_count": 64,
   "metadata": {},
   "outputs": [
    {
     "name": "stdout",
     "output_type": "stream",
     "text": [
      "0    2.056811\n",
      "1    1.019650\n",
      "2    4.355485\n",
      "dtype: float64\n"
     ]
    },
    {
     "data": {
      "text/html": [
       "<table><thead><tr><th></th><th>var       </th></tr></thead><tbody><tr><td><strong>0</strong></td><td>     2.057</td></tr><tr><td><strong>1</strong></td><td>     1.020</td></tr><tr><td><strong>2</strong></td><td>     4.355</td></tr></tbody></table>"
      ],
      "text/plain": [
       "<analytica.DataFrame at 0x7f08d34a3990>"
      ]
     },
     "execution_count": 64,
     "metadata": {},
     "output_type": "execute_result"
    }
   ],
   "source": [
    "print(pd_df.var(axis=1))\n",
    "alt_df.var(axis=1)"
   ]
  },
  {
   "cell_type": "code",
   "execution_count": 65,
   "metadata": {},
   "outputs": [
    {
     "name": "stdout",
     "output_type": "stream",
     "text": [
      "Series([], dtype: float64)\n"
     ]
    },
    {
     "data": {
      "text/plain": [
       "[]"
      ]
     },
     "execution_count": 65,
     "metadata": {},
     "output_type": "execute_result"
    }
   ],
   "source": [
    "print(pd_df2.var())\n",
    "alt_df2.var()"
   ]
  },
  {
   "cell_type": "code",
   "execution_count": 66,
   "metadata": {},
   "outputs": [
    {
     "name": "stdout",
     "output_type": "stream",
     "text": [
      "0   NaN\n",
      "1   NaN\n",
      "2   NaN\n",
      "dtype: float64\n"
     ]
    },
    {
     "data": {
      "text/html": [
       "<table><thead><tr><th></th><th>var       </th></tr></thead><tbody><tr><td><strong>0</strong></td><td>       nan</td></tr><tr><td><strong>1</strong></td><td>       nan</td></tr><tr><td><strong>2</strong></td><td>       nan</td></tr></tbody></table>"
      ],
      "text/plain": [
       "<analytica.DataFrame at 0x7f08fc1e3a50>"
      ]
     },
     "execution_count": 66,
     "metadata": {},
     "output_type": "execute_result"
    }
   ],
   "source": [
    "print(pd_df2.var(axis=1))\n",
    "alt_df2.var(axis=1)"
   ]
  },
  {
   "cell_type": "markdown",
   "metadata": {},
   "source": [
    "# Std. Dev"
   ]
  },
  {
   "cell_type": "code",
   "execution_count": 67,
   "metadata": {},
   "outputs": [
    {
     "name": "stdout",
     "output_type": "stream",
     "text": [
      "c    0.369383\n",
      "d    0.577350\n",
      "e    1.000000\n",
      "f    1.202082\n",
      "dtype: float64\n"
     ]
    },
    {
     "data": {
      "text/html": [
       "<table><thead><tr><th></th><th>c         </th><th>d         </th><th>e         </th><th>f         </th></tr></thead><tbody><tr><td><strong>0</strong></td><td>     0.369</td><td>     0.577</td><td>     1.000</td><td>     1.202</td></tr></tbody></table>"
      ],
      "text/plain": [
       "<analytica.DataFrame at 0x7f08d350aa50>"
      ]
     },
     "execution_count": 67,
     "metadata": {},
     "output_type": "execute_result"
    }
   ],
   "source": [
    "print(pd_df.std())\n",
    "alt_df.std()"
   ]
  },
  {
   "cell_type": "code",
   "execution_count": 68,
   "metadata": {},
   "outputs": [
    {
     "name": "stdout",
     "output_type": "stream",
     "text": [
      "0    1.434159\n",
      "1    1.009777\n",
      "2    2.086980\n",
      "dtype: float64\n"
     ]
    },
    {
     "data": {
      "text/html": [
       "<table><thead><tr><th></th><th>std       </th></tr></thead><tbody><tr><td><strong>0</strong></td><td>     1.434</td></tr><tr><td><strong>1</strong></td><td>     1.010</td></tr><tr><td><strong>2</strong></td><td>     2.087</td></tr></tbody></table>"
      ],
      "text/plain": [
       "<analytica.DataFrame at 0x7f08d35273d0>"
      ]
     },
     "execution_count": 68,
     "metadata": {},
     "output_type": "execute_result"
    }
   ],
   "source": [
    "print(pd_df.std(axis=1))\n",
    "alt_df.std(axis=1)"
   ]
  },
  {
   "cell_type": "code",
   "execution_count": 69,
   "metadata": {},
   "outputs": [
    {
     "name": "stdout",
     "output_type": "stream",
     "text": [
      "Series([], dtype: float64)\n"
     ]
    },
    {
     "data": {
      "text/plain": [
       "[]"
      ]
     },
     "execution_count": 69,
     "metadata": {},
     "output_type": "execute_result"
    }
   ],
   "source": [
    "print(pd_df2.std())\n",
    "alt_df2.std()"
   ]
  },
  {
   "cell_type": "code",
   "execution_count": 70,
   "metadata": {},
   "outputs": [
    {
     "name": "stdout",
     "output_type": "stream",
     "text": [
      "0   NaN\n",
      "1   NaN\n",
      "2   NaN\n",
      "dtype: float64\n"
     ]
    },
    {
     "data": {
      "text/html": [
       "<table><thead><tr><th></th><th>std       </th></tr></thead><tbody><tr><td><strong>0</strong></td><td>       nan</td></tr><tr><td><strong>1</strong></td><td>       nan</td></tr><tr><td><strong>2</strong></td><td>       nan</td></tr></tbody></table>"
      ],
      "text/plain": [
       "<analytica.DataFrame at 0x7f08d350ab90>"
      ]
     },
     "execution_count": 70,
     "metadata": {},
     "output_type": "execute_result"
    }
   ],
   "source": [
    "print(pd_df2.std(axis=1))\n",
    "alt_df2.std(axis=1)"
   ]
  },
  {
   "cell_type": "markdown",
   "metadata": {},
   "source": [
    "# isna"
   ]
  },
  {
   "cell_type": "code",
   "execution_count": 71,
   "metadata": {},
   "outputs": [
    {
     "name": "stdout",
     "output_type": "stream",
     "text": [
      "       a      b      c      d      e      f\n",
      "0  False  False  False  False  False  False\n",
      "1  False  False  False  False  False   True\n",
      "2  False   True  False  False  False  False\n"
     ]
    },
    {
     "data": {
      "text/html": [
       "<table><thead><tr><th></th><th>a         </th><th>b         </th><th>c         </th><th>d         </th><th>e         </th><th>f         </th></tr></thead><tbody><tr><td><strong>0</strong></td><td>False</td><td>False</td><td>False</td><td>False</td><td>False</td><td>False</td></tr><tr><td><strong>1</strong></td><td>False</td><td>False</td><td>False</td><td>False</td><td>False</td><td>True</td></tr><tr><td><strong>2</strong></td><td>False</td><td>True</td><td>False</td><td>False</td><td>False</td><td>False</td></tr></tbody></table>"
      ],
      "text/plain": [
       "<analytica.DataFrame at 0x7f08d34fb7d0>"
      ]
     },
     "execution_count": 71,
     "metadata": {},
     "output_type": "execute_result"
    }
   ],
   "source": [
    "print(pd_df.isna())\n",
    "alt_df.isna()"
   ]
  },
  {
   "cell_type": "code",
   "execution_count": 72,
   "metadata": {},
   "outputs": [
    {
     "name": "stdout",
     "output_type": "stream",
     "text": [
      "       a      b      c      d      e      f\n",
      "0  False  False  False  False  False  False\n",
      "1  False  False  False  False   True  False\n",
      "2  False  False  False   True  False   True\n"
     ]
    },
    {
     "data": {
      "text/html": [
       "<table><thead><tr><th></th><th>a         </th><th>b         </th><th>c         </th><th>d         </th><th>e         </th><th>f         </th></tr></thead><tbody><tr><td><strong>0</strong></td><td>False</td><td>False</td><td>False</td><td>False</td><td>False</td><td>False</td></tr><tr><td><strong>1</strong></td><td>False</td><td>False</td><td>False</td><td>False</td><td>True</td><td>False</td></tr><tr><td><strong>2</strong></td><td>False</td><td>False</td><td>False</td><td>True</td><td>False</td><td>True</td></tr></tbody></table>"
      ],
      "text/plain": [
       "<analytica.DataFrame at 0x7f08f4052fd0>"
      ]
     },
     "execution_count": 72,
     "metadata": {},
     "output_type": "execute_result"
    }
   ],
   "source": [
    "print(pd_df2.isna())\n",
    "alt_df2.isna()"
   ]
  },
  {
   "cell_type": "markdown",
   "metadata": {},
   "source": [
    "# Head & Tail"
   ]
  },
  {
   "cell_type": "code",
   "execution_count": 73,
   "metadata": {},
   "outputs": [
    {
     "name": "stdout",
     "output_type": "stream",
     "text": [
      "   a  b         c      d  e    f\n",
      "0  a  c  0.037262   True  1  3.4\n",
      "1  b  d  0.757206  False  2  NaN\n"
     ]
    },
    {
     "data": {
      "text/html": [
       "<table><thead><tr><th></th><th>a         </th><th>b         </th><th>c         </th><th>d         </th><th>e         </th><th>f         </th></tr></thead><tbody><tr><td><strong>0</strong></td><td>a         </td><td>c         </td><td>     0.037</td><td>True</td><td>         1</td><td>     3.400</td></tr><tr><td><strong>1</strong></td><td>b         </td><td>d         </td><td>     0.757</td><td>False</td><td>         2</td><td>       nan</td></tr></tbody></table>"
      ],
      "text/plain": [
       "<analytica.DataFrame at 0x7f08d34fbf50>"
      ]
     },
     "execution_count": 73,
     "metadata": {},
     "output_type": "execute_result"
    }
   ],
   "source": [
    "print(pd_df.head(2))\n",
    "alt_df.head(2)"
   ]
  },
  {
   "cell_type": "code",
   "execution_count": 74,
   "metadata": {},
   "outputs": [
    {
     "name": "stdout",
     "output_type": "stream",
     "text": [
      "   a     b         c      d  e    f\n",
      "1  b     d  0.757206  False  2  NaN\n",
      "2  c  None  0.540734   True  3  5.1\n"
     ]
    },
    {
     "data": {
      "text/html": [
       "<table><thead><tr><th></th><th>a         </th><th>b         </th><th>c         </th><th>d         </th><th>e         </th><th>f         </th></tr></thead><tbody><tr><td><strong>0</strong></td><td>b         </td><td>d         </td><td>     0.757</td><td>False</td><td>         2</td><td>       nan</td></tr><tr><td><strong>1</strong></td><td>c         </td><td>None      </td><td>     0.541</td><td>True</td><td>         3</td><td>     5.100</td></tr></tbody></table>"
      ],
      "text/plain": [
       "<analytica.DataFrame at 0x7f08d34c0890>"
      ]
     },
     "execution_count": 74,
     "metadata": {},
     "output_type": "execute_result"
    }
   ],
   "source": [
    "print(pd_df.tail(2))\n",
    "alt_df.tail(2)"
   ]
  },
  {
   "cell_type": "markdown",
   "metadata": {},
   "source": [
    "# Count"
   ]
  },
  {
   "cell_type": "code",
   "execution_count": 75,
   "metadata": {},
   "outputs": [
    {
     "name": "stdout",
     "output_type": "stream",
     "text": [
      "a    3\n",
      "b    2\n",
      "c    3\n",
      "d    3\n",
      "e    3\n",
      "f    2\n",
      "dtype: int64\n"
     ]
    },
    {
     "data": {
      "text/html": [
       "<table><thead><tr><th></th><th>a         </th><th>b         </th><th>c         </th><th>d         </th><th>e         </th><th>f         </th></tr></thead><tbody><tr><td><strong>0</strong></td><td>         3</td><td>         2</td><td>         3</td><td>         3</td><td>         3</td><td>         2</td></tr></tbody></table>"
      ],
      "text/plain": [
       "<analytica.DataFrame at 0x7f08d34bb2d0>"
      ]
     },
     "execution_count": 75,
     "metadata": {},
     "output_type": "execute_result"
    }
   ],
   "source": [
    "print(pd_df.count())\n",
    "alt_df.count()"
   ]
  },
  {
   "cell_type": "code",
   "execution_count": 76,
   "metadata": {},
   "outputs": [
    {
     "name": "stdout",
     "output_type": "stream",
     "text": [
      "0    6\n",
      "1    5\n",
      "2    5\n",
      "dtype: int64\n"
     ]
    },
    {
     "data": {
      "text/html": [
       "<table><thead><tr><th></th><th>count     </th></tr></thead><tbody><tr><td><strong>0</strong></td><td>         6</td></tr><tr><td><strong>1</strong></td><td>         5</td></tr><tr><td><strong>2</strong></td><td>         5</td></tr></tbody></table>"
      ],
      "text/plain": [
       "<analytica.DataFrame at 0x7f08d3523190>"
      ]
     },
     "execution_count": 76,
     "metadata": {},
     "output_type": "execute_result"
    }
   ],
   "source": [
    "print(pd_df.count(axis=1))\n",
    "alt_df.count(axis=1)"
   ]
  },
  {
   "cell_type": "code",
   "execution_count": 77,
   "metadata": {},
   "outputs": [
    {
     "name": "stdout",
     "output_type": "stream",
     "text": [
      "a    3\n",
      "b    3\n",
      "c    3\n",
      "d    2\n",
      "e    2\n",
      "f    2\n",
      "dtype: int64\n"
     ]
    },
    {
     "data": {
      "text/html": [
       "<table><thead><tr><th></th><th>a         </th><th>b         </th><th>c         </th><th>d         </th><th>e         </th><th>f         </th></tr></thead><tbody><tr><td><strong>0</strong></td><td>         3</td><td>         3</td><td>         3</td><td>         2</td><td>         2</td><td>         2</td></tr></tbody></table>"
      ],
      "text/plain": [
       "<analytica.DataFrame at 0x7f08d3523a90>"
      ]
     },
     "execution_count": 77,
     "metadata": {},
     "output_type": "execute_result"
    }
   ],
   "source": [
    "print(pd_df2.count())\n",
    "alt_df2.count()"
   ]
  },
  {
   "cell_type": "code",
   "execution_count": 78,
   "metadata": {},
   "outputs": [
    {
     "name": "stdout",
     "output_type": "stream",
     "text": [
      "0    6\n",
      "1    5\n",
      "2    4\n",
      "dtype: int64\n"
     ]
    },
    {
     "data": {
      "text/html": [
       "<table><thead><tr><th></th><th>count     </th></tr></thead><tbody><tr><td><strong>0</strong></td><td>         6</td></tr><tr><td><strong>1</strong></td><td>         5</td></tr><tr><td><strong>2</strong></td><td>         4</td></tr></tbody></table>"
      ],
      "text/plain": [
       "<analytica.DataFrame at 0x7f08d351a310>"
      ]
     },
     "execution_count": 78,
     "metadata": {},
     "output_type": "execute_result"
    }
   ],
   "source": [
    "print(pd_df2.count(axis=1))\n",
    "alt_df2.count(axis=1)"
   ]
  },
  {
   "cell_type": "markdown",
   "metadata": {},
   "source": [
    "# Rename"
   ]
  },
  {
   "cell_type": "code",
   "execution_count": 79,
   "metadata": {},
   "outputs": [
    {
     "name": "stdout",
     "output_type": "stream",
     "text": [
      "   A     b         C      d  e    f\n",
      "0  a     c  0.037262   True  1  3.4\n",
      "1  b     d  0.757206  False  2  NaN\n",
      "2  c  None  0.540734   True  3  5.1\n"
     ]
    },
    {
     "data": {
      "text/html": [
       "<table><thead><tr><th></th><th>A         </th><th>b         </th><th>C         </th><th>d         </th><th>e         </th><th>f         </th></tr></thead><tbody><tr><td><strong>0</strong></td><td>a         </td><td>c         </td><td>     0.037</td><td>True</td><td>         1</td><td>     3.400</td></tr><tr><td><strong>1</strong></td><td>b         </td><td>d         </td><td>     0.757</td><td>False</td><td>         2</td><td>       nan</td></tr><tr><td><strong>2</strong></td><td>c         </td><td>None      </td><td>     0.541</td><td>True</td><td>         3</td><td>     5.100</td></tr></tbody></table>"
      ],
      "text/plain": [
       "<analytica.DataFrame at 0x7f08d34e9210>"
      ]
     },
     "execution_count": 79,
     "metadata": {},
     "output_type": "execute_result"
    }
   ],
   "source": [
    "print(pd_df.rename(columns={'a':'A','c':'C'}))\n",
    "alt_df.rename({'a':'A','c':'C'})"
   ]
  },
  {
   "cell_type": "markdown",
   "metadata": {},
   "source": [
    "# Setting Values"
   ]
  },
  {
   "cell_type": "code",
   "execution_count": 80,
   "metadata": {},
   "outputs": [
    {
     "data": {
      "text/html": [
       "<table><thead><tr><th></th><th>a         </th><th>b         </th><th>c         </th><th>d         </th><th>e         </th><th>f         </th><th>g         </th></tr></thead><tbody><tr><td><strong>0</strong></td><td>a         </td><td>c         </td><td>     0.037</td><td>True</td><td>         1</td><td>     3.400</td><td>         1</td></tr><tr><td><strong>1</strong></td><td>b         </td><td>d         </td><td>     0.757</td><td>False</td><td>         2</td><td>       nan</td><td>         1</td></tr><tr><td><strong>2</strong></td><td>c         </td><td>None      </td><td>     0.541</td><td>True</td><td>         3</td><td>     5.100</td><td>         1</td></tr></tbody></table>"
      ],
      "text/plain": [
       "<analytica.DataFrame at 0x7f08d351af90>"
      ]
     },
     "execution_count": 80,
     "metadata": {},
     "output_type": "execute_result"
    }
   ],
   "source": [
    "alt_df['g'] = 1\n",
    "alt_df"
   ]
  },
  {
   "cell_type": "code",
   "execution_count": 81,
   "metadata": {},
   "outputs": [
    {
     "data": {
      "text/html": [
       "<table><thead><tr><th></th><th>a         </th><th>b         </th><th>c         </th><th>d         </th><th>e         </th><th>f         </th><th>g         </th><th>h         </th></tr></thead><tbody><tr><td><strong>0</strong></td><td>a         </td><td>c         </td><td>     0.037</td><td>True</td><td>         1</td><td>     3.400</td><td>         1</td><td>k         </td></tr><tr><td><strong>1</strong></td><td>b         </td><td>d         </td><td>     0.757</td><td>False</td><td>         2</td><td>       nan</td><td>         1</td><td>k         </td></tr><tr><td><strong>2</strong></td><td>c         </td><td>None      </td><td>     0.541</td><td>True</td><td>         3</td><td>     5.100</td><td>         1</td><td>k         </td></tr></tbody></table>"
      ],
      "text/plain": [
       "<analytica.DataFrame at 0x7f08d351af90>"
      ]
     },
     "execution_count": 81,
     "metadata": {},
     "output_type": "execute_result"
    }
   ],
   "source": [
    "alt_df['h'] = 'k'\n",
    "alt_df"
   ]
  },
  {
   "cell_type": "code",
   "execution_count": 82,
   "metadata": {},
   "outputs": [
    {
     "data": {
      "text/html": [
       "<table><thead><tr><th></th><th>a         </th><th>b         </th><th>c         </th><th>d         </th><th>e         </th><th>f         </th><th>g         </th><th>h         </th><th>i         </th></tr></thead><tbody><tr><td><strong>0</strong></td><td>a         </td><td>c         </td><td>     0.037</td><td>True</td><td>         1</td><td>     3.400</td><td>         1</td><td>k         </td><td>     0.487</td></tr><tr><td><strong>1</strong></td><td>b         </td><td>d         </td><td>     0.757</td><td>False</td><td>         2</td><td>       nan</td><td>         1</td><td>k         </td><td>     0.800</td></tr><tr><td><strong>2</strong></td><td>c         </td><td>None      </td><td>     0.541</td><td>True</td><td>         3</td><td>     5.100</td><td>         1</td><td>k         </td><td>     0.086</td></tr></tbody></table>"
      ],
      "text/plain": [
       "<analytica.DataFrame at 0x7f08d351af90>"
      ]
     },
     "execution_count": 82,
     "metadata": {},
     "output_type": "execute_result"
    }
   ],
   "source": [
    "alt_df['i'] = np.random.rand(3)\n",
    "alt_df"
   ]
  },
  {
   "cell_type": "code",
   "execution_count": 83,
   "metadata": {},
   "outputs": [
    {
     "data": {
      "text/html": [
       "<table><thead><tr><th></th><th>a         </th><th>b         </th><th>c         </th><th>d         </th><th>e         </th><th>f         </th><th>g         </th><th>h         </th><th>i         </th><th>j         </th></tr></thead><tbody><tr><td><strong>0</strong></td><td>a         </td><td>c         </td><td>     0.037</td><td>True</td><td>         1</td><td>     3.400</td><td>         1</td><td>k         </td><td>     0.487</td><td>w         </td></tr><tr><td><strong>1</strong></td><td>b         </td><td>d         </td><td>     0.757</td><td>False</td><td>         2</td><td>       nan</td><td>         1</td><td>k         </td><td>     0.800</td><td>q         </td></tr><tr><td><strong>2</strong></td><td>c         </td><td>None      </td><td>     0.541</td><td>True</td><td>         3</td><td>     5.100</td><td>         1</td><td>k         </td><td>     0.086</td><td>r         </td></tr></tbody></table>"
      ],
      "text/plain": [
       "<analytica.DataFrame at 0x7f08d351af90>"
      ]
     },
     "execution_count": 83,
     "metadata": {},
     "output_type": "execute_result"
    }
   ],
   "source": [
    "alt_df['j'] = ['w','q','r']\n",
    "alt_df"
   ]
  },
  {
   "cell_type": "code",
   "execution_count": 84,
   "metadata": {},
   "outputs": [
    {
     "data": {
      "text/html": [
       "<table><thead><tr><th></th><th>a         </th><th>b         </th><th>c         </th><th>d         </th><th>e         </th><th>f         </th><th>g         </th><th>h         </th><th>i         </th><th>j         </th><th>k         </th></tr></thead><tbody><tr><td><strong>0</strong></td><td>a         </td><td>c         </td><td>     0.037</td><td>True</td><td>         1</td><td>     3.400</td><td>         1</td><td>k         </td><td>     0.487</td><td>w         </td><td>        36</td></tr><tr><td><strong>1</strong></td><td>b         </td><td>d         </td><td>     0.757</td><td>False</td><td>         2</td><td>       nan</td><td>         1</td><td>k         </td><td>     0.800</td><td>q         </td><td>        98</td></tr><tr><td><strong>2</strong></td><td>c         </td><td>None      </td><td>     0.541</td><td>True</td><td>         3</td><td>     5.100</td><td>         1</td><td>k         </td><td>     0.086</td><td>r         </td><td>        21</td></tr></tbody></table>"
      ],
      "text/plain": [
       "<analytica.DataFrame at 0x7f08d351af90>"
      ]
     },
     "execution_count": 84,
     "metadata": {},
     "output_type": "execute_result"
    }
   ],
   "source": [
    "alt_df['k'] = np.array([36,98,21])\n",
    "alt_df"
   ]
  },
  {
   "cell_type": "code",
   "execution_count": 85,
   "metadata": {},
   "outputs": [
    {
     "data": {
      "text/html": [
       "<table><thead><tr><th></th><th>a         </th><th>b         </th><th>c         </th><th>d         </th><th>e         </th><th>f         </th><th>g         </th><th>h         </th><th>i         </th><th>j         </th><th>k         </th></tr></thead><tbody><tr><td><strong>0</strong></td><td>a         </td><td>c         </td><td>     0.037</td><td>True</td><td>         1</td><td>     3.400</td><td>         1</td><td>k         </td><td>     0.487</td><td>w         </td><td>        36</td></tr><tr><td><strong>1</strong></td><td>b         </td><td>r         </td><td>     0.757</td><td>False</td><td>         2</td><td>       nan</td><td>         1</td><td>k         </td><td>     0.800</td><td>q         </td><td>        98</td></tr><tr><td><strong>2</strong></td><td>c         </td><td>None      </td><td>     0.541</td><td>True</td><td>         3</td><td>     5.100</td><td>         1</td><td>k         </td><td>     0.086</td><td>r         </td><td>        21</td></tr></tbody></table>"
      ],
      "text/plain": [
       "<analytica.DataFrame at 0x7f08d351af90>"
      ]
     },
     "execution_count": 85,
     "metadata": {},
     "output_type": "execute_result"
    }
   ],
   "source": [
    "alt_df[1,'b'] = 'r'\n",
    "alt_df"
   ]
  },
  {
   "cell_type": "code",
   "execution_count": 86,
   "metadata": {},
   "outputs": [
    {
     "data": {
      "text/html": [
       "<table><thead><tr><th></th><th>a         </th><th>b         </th><th>c         </th><th>d         </th><th>e         </th><th>f         </th><th>g         </th><th>h         </th><th>i         </th><th>j         </th><th>k         </th></tr></thead><tbody><tr><td><strong>0</strong></td><td>a         </td><td>c         </td><td>     0.037</td><td>True</td><td>         1</td><td>     3.400</td><td>         1</td><td>k         </td><td>     0.487</td><td>w         </td><td>        36</td></tr><tr><td><strong>1</strong></td><td>b         </td><td>r         </td><td>     0.757</td><td>False</td><td>         2</td><td>     3.146</td><td>         1</td><td>k         </td><td>     0.800</td><td>q         </td><td>        98</td></tr><tr><td><strong>2</strong></td><td>c         </td><td>None      </td><td>     0.541</td><td>True</td><td>         3</td><td>     3.146</td><td>         1</td><td>k         </td><td>     0.086</td><td>r         </td><td>        21</td></tr></tbody></table>"
      ],
      "text/plain": [
       "<analytica.DataFrame at 0x7f08d351af90>"
      ]
     },
     "execution_count": 86,
     "metadata": {},
     "output_type": "execute_result"
    }
   ],
   "source": [
    "alt_df[[1,2],'f'] = 3.145668\n",
    "alt_df"
   ]
  },
  {
   "cell_type": "code",
   "execution_count": 87,
   "metadata": {},
   "outputs": [
    {
     "data": {
      "text/html": [
       "<table><thead><tr><th></th><th>a         </th><th>b         </th><th>c         </th><th>d         </th><th>e         </th><th>f         </th><th>g         </th><th>h         </th><th>i         </th><th>j         </th><th>k         </th></tr></thead><tbody><tr><td><strong>0</strong></td><td>a         </td><td>c         </td><td>     0.037</td><td>True</td><td>         1</td><td>     3.400</td><td>         1</td><td>k         </td><td>     0.487</td><td>w         </td><td>        36</td></tr><tr><td><strong>1</strong></td><td>b         </td><td>r         </td><td>     0.757</td><td>False</td><td>         2</td><td>     3.146</td><td>        66</td><td>k         </td><td>     0.800</td><td>q         </td><td>        98</td></tr><tr><td><strong>2</strong></td><td>c         </td><td>None      </td><td>     0.541</td><td>True</td><td>         3</td><td>     3.146</td><td>        66</td><td>k         </td><td>     0.086</td><td>r         </td><td>        21</td></tr></tbody></table>"
      ],
      "text/plain": [
       "<analytica.DataFrame at 0x7f08d351af90>"
      ]
     },
     "execution_count": 87,
     "metadata": {},
     "output_type": "execute_result"
    }
   ],
   "source": [
    "alt_df[1:3,'g'] = 66\n",
    "alt_df"
   ]
  },
  {
   "cell_type": "code",
   "execution_count": 88,
   "metadata": {},
   "outputs": [
    {
     "data": {
      "text/html": [
       "<table><thead><tr><th></th><th>Column Name</th><th>Data Type </th></tr></thead><tbody><tr><td><strong>0</strong></td><td>a         </td><td>object    </td></tr><tr><td><strong>1</strong></td><td>b         </td><td>object    </td></tr><tr><td><strong>2</strong></td><td>c         </td><td>float64   </td></tr><tr><td><strong>3</strong></td><td>d         </td><td>bool      </td></tr><tr><td><strong>4</strong></td><td>e         </td><td>int64     </td></tr><tr><td><strong>5</strong></td><td>f         </td><td>float64   </td></tr><tr><td><strong>6</strong></td><td>g         </td><td>int64     </td></tr><tr><td><strong>7</strong></td><td>h         </td><td>object    </td></tr><tr><td><strong>8</strong></td><td>i         </td><td>float64   </td></tr><tr><td><strong>9</strong></td><td>j         </td><td>object    </td></tr><tr><td><strong>10</strong></td><td>k         </td><td>int64     </td></tr></tbody></table>"
      ],
      "text/plain": [
       "<analytica.DataFrame at 0x7f08d34a75d0>"
      ]
     },
     "execution_count": 88,
     "metadata": {},
     "output_type": "execute_result"
    }
   ],
   "source": [
    "alt_df.dtypes"
   ]
  },
  {
   "cell_type": "code",
   "execution_count": 89,
   "metadata": {},
   "outputs": [],
   "source": [
    "a = np.array(['a', 'b', 'c'])\n",
    "b = np.array(['c', 'd', None])\n",
    "c = np.random.rand(3)\n",
    "d = np.array([True, False, True])\n",
    "e = np.array([1, 2, 3])\n",
    "f = np.array([3.4, np.nan, 5.1])\n",
    "\n",
    "data_dict = {'a': a, 'b': b, 'c': c, 'd': d, 'e': e, 'f':f}\n",
    "\n",
    "alt_df = alt.DataFrame(data_dict)\n",
    "pd_df = pd.DataFrame(data_dict)"
   ]
  },
  {
   "cell_type": "code",
   "execution_count": 90,
   "metadata": {},
   "outputs": [],
   "source": [
    "a1 = np.array(['a', 'b', 'c'])\n",
    "b1 = np.array(['c', 'd', 'e'])\n",
    "c1 = np.array(['f', 'g', 'h'])\n",
    "d1 = np.array(['i', 'j', None])\n",
    "e1 = np.array(['k', None, 'l'])\n",
    "f1 = np.array(['m', 'n', None])\n",
    "\n",
    "data_dict = {'a': a1, 'b': b1, 'c': c1, 'd': d1, 'e': e1, 'f':f1}\n",
    "\n",
    "alt_df2 = alt.DataFrame(data_dict)\n",
    "pd_df2 = pd.DataFrame(data_dict)"
   ]
  },
  {
   "cell_type": "markdown",
   "metadata": {},
   "source": [
    "# Airthemetic Operators"
   ]
  },
  {
   "cell_type": "code",
   "execution_count": 91,
   "metadata": {},
   "outputs": [
    {
     "name": "stdout",
     "output_type": "stream",
     "text": [
      "          c      d  e    f\n",
      "0  0.536216   True  1  3.4\n",
      "1  0.415485  False  2  NaN\n",
      "2  0.057453   True  3  5.1\n"
     ]
    },
    {
     "data": {
      "text/html": [
       "<table><thead><tr><th></th><th>c         </th><th>d         </th><th>e         </th><th>f         </th></tr></thead><tbody><tr><td><strong>0</strong></td><td>     0.536</td><td>True</td><td>         1</td><td>     3.400</td></tr><tr><td><strong>1</strong></td><td>     0.415</td><td>False</td><td>         2</td><td>       nan</td></tr><tr><td><strong>2</strong></td><td>     0.057</td><td>True</td><td>         3</td><td>     5.100</td></tr></tbody></table>"
      ],
      "text/plain": [
       "<analytica.DataFrame at 0x7f08d346bf50>"
      ]
     },
     "execution_count": 91,
     "metadata": {},
     "output_type": "execute_result"
    }
   ],
   "source": [
    "numeric_alt_df = alt_df[['c','d','e','f']]\n",
    "numeric_pd_df = pd_df[['c','d','e','f']]\n",
    "\n",
    "print(numeric_pd_df)\n",
    "numeric_alt_df"
   ]
  },
  {
   "cell_type": "markdown",
   "metadata": {},
   "source": [
    "## Add"
   ]
  },
  {
   "cell_type": "code",
   "execution_count": 92,
   "metadata": {},
   "outputs": [
    {
     "name": "stdout",
     "output_type": "stream",
     "text": [
      "          c  d  e     f\n",
      "0  6.536216  7  7   9.4\n",
      "1  6.415485  6  8   NaN\n",
      "2  6.057453  7  9  11.1\n"
     ]
    },
    {
     "data": {
      "text/html": [
       "<table><thead><tr><th></th><th>c         </th><th>d         </th><th>e         </th><th>f         </th></tr></thead><tbody><tr><td><strong>0</strong></td><td>     6.536</td><td>         7</td><td>         7</td><td>     9.400</td></tr><tr><td><strong>1</strong></td><td>     6.415</td><td>         6</td><td>         8</td><td>       nan</td></tr><tr><td><strong>2</strong></td><td>     6.057</td><td>         7</td><td>         9</td><td>    11.100</td></tr></tbody></table>"
      ],
      "text/plain": [
       "<analytica.DataFrame at 0x7f08d346be90>"
      ]
     },
     "execution_count": 92,
     "metadata": {},
     "output_type": "execute_result"
    }
   ],
   "source": [
    "print(numeric_pd_df + 6)\n",
    "numeric_alt_df + 6"
   ]
  },
  {
   "cell_type": "code",
   "execution_count": 93,
   "metadata": {},
   "outputs": [
    {
     "name": "stdout",
     "output_type": "stream",
     "text": [
      "     a    b    c    d    e    f\n",
      "0  aSS  cSS  fSS  iSS  kSS  mSS\n",
      "1  bSS  dSS  gSS  jSS  NaN  nSS\n",
      "2  cSS  eSS  hSS  NaN  lSS  NaN\n"
     ]
    },
    {
     "data": {
      "text/html": [
       "<table><thead><tr><th></th><th>a         </th><th>b         </th><th>c         </th><th>d         </th><th>e         </th><th>f         </th></tr></thead><tbody><tr><td><strong>0</strong></td><td>aSS       </td><td>cSS       </td><td>fSS       </td><td>iSS       </td><td>kSS       </td><td>mSS       </td></tr><tr><td><strong>1</strong></td><td>bSS       </td><td>dSS       </td><td>gSS       </td><td>jSS       </td><td>None      </td><td>nSS       </td></tr><tr><td><strong>2</strong></td><td>cSS       </td><td>eSS       </td><td>hSS       </td><td>None      </td><td>lSS       </td><td>None      </td></tr></tbody></table>"
      ],
      "text/plain": [
       "<analytica.DataFrame at 0x7f08d346ed50>"
      ]
     },
     "execution_count": 93,
     "metadata": {},
     "output_type": "execute_result"
    }
   ],
   "source": [
    "print(pd_df2 + 'SS')\n",
    "alt_df2 + 'SS'"
   ]
  },
  {
   "cell_type": "code",
   "execution_count": 94,
   "metadata": {},
   "outputs": [
    {
     "name": "stdout",
     "output_type": "stream",
     "text": [
      "          c  d  e     f\n",
      "0  6.536216  7  7   9.4\n",
      "1  6.415485  6  8   NaN\n",
      "2  6.057453  7  9  11.1\n"
     ]
    },
    {
     "data": {
      "text/html": [
       "<table><thead><tr><th></th><th>c         </th><th>d         </th><th>e         </th><th>f         </th></tr></thead><tbody><tr><td><strong>0</strong></td><td>     6.536</td><td>         7</td><td>         7</td><td>     9.400</td></tr><tr><td><strong>1</strong></td><td>     6.415</td><td>         6</td><td>         8</td><td>       nan</td></tr><tr><td><strong>2</strong></td><td>     6.057</td><td>         7</td><td>         9</td><td>    11.100</td></tr></tbody></table>"
      ],
      "text/plain": [
       "<analytica.DataFrame at 0x7f08d3471090>"
      ]
     },
     "execution_count": 94,
     "metadata": {},
     "output_type": "execute_result"
    }
   ],
   "source": [
    "print(6 + numeric_pd_df)\n",
    "6 + numeric_alt_df"
   ]
  },
  {
   "cell_type": "code",
   "execution_count": 95,
   "metadata": {},
   "outputs": [
    {
     "name": "stdout",
     "output_type": "stream",
     "text": [
      "     a    b    c    d    e    f\n",
      "0  SSa  SSc  SSf  SSi  SSk  SSm\n",
      "1  SSb  SSd  SSg  SSj  NaN  SSn\n",
      "2  SSc  SSe  SSh  NaN  SSl  NaN\n"
     ]
    },
    {
     "data": {
      "text/html": [
       "<table><thead><tr><th></th><th>a         </th><th>b         </th><th>c         </th><th>d         </th><th>e         </th><th>f         </th></tr></thead><tbody><tr><td><strong>0</strong></td><td>SSa       </td><td>SSc       </td><td>SSf       </td><td>SSi       </td><td>SSk       </td><td>SSm       </td></tr><tr><td><strong>1</strong></td><td>SSb       </td><td>SSd       </td><td>SSg       </td><td>SSj       </td><td>None      </td><td>SSn       </td></tr><tr><td><strong>2</strong></td><td>SSc       </td><td>SSe       </td><td>SSh       </td><td>None      </td><td>SSl       </td><td>None      </td></tr></tbody></table>"
      ],
      "text/plain": [
       "<analytica.DataFrame at 0x7f08d3471c10>"
      ]
     },
     "execution_count": 95,
     "metadata": {},
     "output_type": "execute_result"
    }
   ],
   "source": [
    "print('SS' + pd_df2)\n",
    "'SS' + alt_df2"
   ]
  },
  {
   "cell_type": "markdown",
   "metadata": {},
   "source": [
    "## Sub"
   ]
  },
  {
   "cell_type": "code",
   "execution_count": 96,
   "metadata": {},
   "outputs": [
    {
     "name": "stdout",
     "output_type": "stream",
     "text": [
      "          c  d  e    f\n",
      "0 -5.463784 -5 -5 -2.6\n",
      "1 -5.584515 -6 -4  NaN\n",
      "2 -5.942547 -5 -3 -0.9\n"
     ]
    },
    {
     "data": {
      "text/html": [
       "<table><thead><tr><th></th><th>c         </th><th>d         </th><th>e         </th><th>f         </th></tr></thead><tbody><tr><td><strong>0</strong></td><td>    -5.464</td><td>        -5</td><td>        -5</td><td>    -2.600</td></tr><tr><td><strong>1</strong></td><td>    -5.585</td><td>        -6</td><td>        -4</td><td>       nan</td></tr><tr><td><strong>2</strong></td><td>    -5.943</td><td>        -5</td><td>        -3</td><td>    -0.900</td></tr></tbody></table>"
      ],
      "text/plain": [
       "<analytica.DataFrame at 0x7f08d3451210>"
      ]
     },
     "execution_count": 96,
     "metadata": {},
     "output_type": "execute_result"
    }
   ],
   "source": [
    "print(numeric_pd_df - 6)\n",
    "numeric_alt_df - 6"
   ]
  },
  {
   "cell_type": "code",
   "execution_count": 97,
   "metadata": {},
   "outputs": [
    {
     "name": "stdout",
     "output_type": "stream",
     "text": [
      "          c  d  e    f\n",
      "0  5.463784  5  5  2.6\n",
      "1  5.584515  6  4  NaN\n",
      "2  5.942547  5  3  0.9\n"
     ]
    },
    {
     "data": {
      "text/html": [
       "<table><thead><tr><th></th><th>c         </th><th>d         </th><th>e         </th><th>f         </th></tr></thead><tbody><tr><td><strong>0</strong></td><td>     5.464</td><td>         5</td><td>         5</td><td>     2.600</td></tr><tr><td><strong>1</strong></td><td>     5.585</td><td>         6</td><td>         4</td><td>       nan</td></tr><tr><td><strong>2</strong></td><td>     5.943</td><td>         5</td><td>         3</td><td>     0.900</td></tr></tbody></table>"
      ],
      "text/plain": [
       "<analytica.DataFrame at 0x7f08d3471b90>"
      ]
     },
     "execution_count": 97,
     "metadata": {},
     "output_type": "execute_result"
    }
   ],
   "source": [
    "print(6 - numeric_pd_df)\n",
    "6 - numeric_alt_df"
   ]
  },
  {
   "cell_type": "markdown",
   "metadata": {},
   "source": [
    "## Mul"
   ]
  },
  {
   "cell_type": "code",
   "execution_count": 98,
   "metadata": {},
   "outputs": [
    {
     "name": "stdout",
     "output_type": "stream",
     "text": [
      "          c  d   e     f\n",
      "0  3.217298  6   6  20.4\n",
      "1  2.492912  0  12   NaN\n",
      "2  0.344720  6  18  30.6\n"
     ]
    },
    {
     "data": {
      "text/html": [
       "<table><thead><tr><th></th><th>c         </th><th>d         </th><th>e         </th><th>f         </th></tr></thead><tbody><tr><td><strong>0</strong></td><td>     3.217</td><td>         6</td><td>         6</td><td>    20.400</td></tr><tr><td><strong>1</strong></td><td>     2.493</td><td>         0</td><td>        12</td><td>       nan</td></tr><tr><td><strong>2</strong></td><td>     0.345</td><td>         6</td><td>        18</td><td>    30.600</td></tr></tbody></table>"
      ],
      "text/plain": [
       "<analytica.DataFrame at 0x7f08d3471210>"
      ]
     },
     "execution_count": 98,
     "metadata": {},
     "output_type": "execute_result"
    }
   ],
   "source": [
    "print(numeric_pd_df * 6)\n",
    "numeric_alt_df * 6"
   ]
  },
  {
   "cell_type": "code",
   "execution_count": 99,
   "metadata": {},
   "outputs": [
    {
     "name": "stdout",
     "output_type": "stream",
     "text": [
      "     a    b    c    d    e    f\n",
      "0  aaa  ccc  fff  iii  kkk  mmm\n",
      "1  bbb  ddd  ggg  jjj  NaN  nnn\n",
      "2  ccc  eee  hhh  NaN  lll  NaN\n"
     ]
    },
    {
     "data": {
      "text/html": [
       "<table><thead><tr><th></th><th>a         </th><th>b         </th><th>c         </th><th>d         </th><th>e         </th><th>f         </th></tr></thead><tbody><tr><td><strong>0</strong></td><td>aaa       </td><td>ccc       </td><td>fff       </td><td>iii       </td><td>kkk       </td><td>mmm       </td></tr><tr><td><strong>1</strong></td><td>bbb       </td><td>ddd       </td><td>ggg       </td><td>jjj       </td><td>None      </td><td>nnn       </td></tr><tr><td><strong>2</strong></td><td>ccc       </td><td>eee       </td><td>hhh       </td><td>None      </td><td>lll       </td><td>None      </td></tr></tbody></table>"
      ],
      "text/plain": [
       "<analytica.DataFrame at 0x7f08d346ea90>"
      ]
     },
     "execution_count": 99,
     "metadata": {},
     "output_type": "execute_result"
    }
   ],
   "source": [
    "print(pd_df2 * 3)\n",
    "alt_df2 * 3"
   ]
  },
  {
   "cell_type": "code",
   "execution_count": 100,
   "metadata": {},
   "outputs": [
    {
     "name": "stdout",
     "output_type": "stream",
     "text": [
      "          c  d   e     f\n",
      "0  3.217298  6   6  20.4\n",
      "1  2.492912  0  12   NaN\n",
      "2  0.344720  6  18  30.6\n"
     ]
    },
    {
     "data": {
      "text/html": [
       "<table><thead><tr><th></th><th>c         </th><th>d         </th><th>e         </th><th>f         </th></tr></thead><tbody><tr><td><strong>0</strong></td><td>     3.217</td><td>         6</td><td>         6</td><td>    20.400</td></tr><tr><td><strong>1</strong></td><td>     2.493</td><td>         0</td><td>        12</td><td>       nan</td></tr><tr><td><strong>2</strong></td><td>     0.345</td><td>         6</td><td>        18</td><td>    30.600</td></tr></tbody></table>"
      ],
      "text/plain": [
       "<analytica.DataFrame at 0x7f08d346ec90>"
      ]
     },
     "execution_count": 100,
     "metadata": {},
     "output_type": "execute_result"
    }
   ],
   "source": [
    "print(6 * numeric_pd_df)\n",
    "6 * numeric_alt_df"
   ]
  },
  {
   "cell_type": "code",
   "execution_count": 101,
   "metadata": {},
   "outputs": [
    {
     "name": "stdout",
     "output_type": "stream",
     "text": [
      "     a    b    c    d    e    f\n",
      "0  aaa  ccc  fff  iii  kkk  mmm\n",
      "1  bbb  ddd  ggg  jjj  NaN  nnn\n",
      "2  ccc  eee  hhh  NaN  lll  NaN\n"
     ]
    },
    {
     "data": {
      "text/html": [
       "<table><thead><tr><th></th><th>a         </th><th>b         </th><th>c         </th><th>d         </th><th>e         </th><th>f         </th></tr></thead><tbody><tr><td><strong>0</strong></td><td>aaa       </td><td>ccc       </td><td>fff       </td><td>iii       </td><td>kkk       </td><td>mmm       </td></tr><tr><td><strong>1</strong></td><td>bbb       </td><td>ddd       </td><td>ggg       </td><td>jjj       </td><td>None      </td><td>nnn       </td></tr><tr><td><strong>2</strong></td><td>ccc       </td><td>eee       </td><td>hhh       </td><td>None      </td><td>lll       </td><td>None      </td></tr></tbody></table>"
      ],
      "text/plain": [
       "<analytica.DataFrame at 0x7f08d346b250>"
      ]
     },
     "execution_count": 101,
     "metadata": {},
     "output_type": "execute_result"
    }
   ],
   "source": [
    "print(3 * pd_df2)\n",
    "3 * alt_df2"
   ]
  },
  {
   "cell_type": "markdown",
   "metadata": {},
   "source": [
    "## Div"
   ]
  },
  {
   "cell_type": "code",
   "execution_count": 102,
   "metadata": {},
   "outputs": [
    {
     "name": "stdout",
     "output_type": "stream",
     "text": [
      "          c         d         e         f\n",
      "0  0.089369  0.166667  0.166667  0.566667\n",
      "1  0.069248  0.000000  0.333333       NaN\n",
      "2  0.009576  0.166667  0.500000  0.850000\n"
     ]
    },
    {
     "data": {
      "text/html": [
       "<table><thead><tr><th></th><th>c         </th><th>d         </th><th>e         </th><th>f         </th></tr></thead><tbody><tr><td><strong>0</strong></td><td>     0.089</td><td>     0.167</td><td>     0.167</td><td>     0.567</td></tr><tr><td><strong>1</strong></td><td>     0.069</td><td>     0.000</td><td>     0.333</td><td>       nan</td></tr><tr><td><strong>2</strong></td><td>     0.010</td><td>     0.167</td><td>     0.500</td><td>     0.850</td></tr></tbody></table>"
      ],
      "text/plain": [
       "<analytica.DataFrame at 0x7f08d34ab1d0>"
      ]
     },
     "execution_count": 102,
     "metadata": {},
     "output_type": "execute_result"
    }
   ],
   "source": [
    "print(numeric_pd_df / 6)\n",
    "numeric_alt_df / 6"
   ]
  },
  {
   "cell_type": "code",
   "execution_count": 103,
   "metadata": {},
   "outputs": [
    {
     "name": "stdout",
     "output_type": "stream",
     "text": [
      "     c  d  e    f\n",
      "0  0.0  0  0  1.0\n",
      "1  0.0  0  1  NaN\n",
      "2  0.0  0  1  2.0\n"
     ]
    },
    {
     "data": {
      "text/html": [
       "<table><thead><tr><th></th><th>c         </th><th>d         </th><th>e         </th><th>f         </th></tr></thead><tbody><tr><td><strong>0</strong></td><td>     0.000</td><td>         0</td><td>         0</td><td>     1.000</td></tr><tr><td><strong>1</strong></td><td>     0.000</td><td>         0</td><td>         1</td><td>       nan</td></tr><tr><td><strong>2</strong></td><td>     0.000</td><td>         0</td><td>         1</td><td>     2.000</td></tr></tbody></table>"
      ],
      "text/plain": [
       "<analytica.DataFrame at 0x7f08d3451150>"
      ]
     },
     "execution_count": 103,
     "metadata": {},
     "output_type": "execute_result"
    }
   ],
   "source": [
    "print(numeric_pd_df // 2)\n",
    "numeric_alt_df // 2"
   ]
  },
  {
   "cell_type": "code",
   "execution_count": 104,
   "metadata": {},
   "outputs": [
    {
     "name": "stdout",
     "output_type": "stream",
     "text": [
      "            c    d    e         f\n",
      "0   11.189515  6.0  6.0  1.764706\n",
      "1   14.440940  inf  3.0       NaN\n",
      "2  104.432550  6.0  2.0  1.176471\n"
     ]
    },
    {
     "name": "stderr",
     "output_type": "stream",
     "text": [
      "/home/najaf/Documents/Analytica/analytica/__init__.py:459: RuntimeWarning: divide by zero encountered in true_divide\n",
      "  data[col] = func(val)\n"
     ]
    },
    {
     "data": {
      "text/html": [
       "<table><thead><tr><th></th><th>c         </th><th>d         </th><th>e         </th><th>f         </th></tr></thead><tbody><tr><td><strong>0</strong></td><td>    11.190</td><td>     6.000</td><td>     6.000</td><td>     1.765</td></tr><tr><td><strong>1</strong></td><td>    14.441</td><td>       inf</td><td>     3.000</td><td>       nan</td></tr><tr><td><strong>2</strong></td><td>   104.433</td><td>     6.000</td><td>     2.000</td><td>     1.176</td></tr></tbody></table>"
      ],
      "text/plain": [
       "<analytica.DataFrame at 0x7f08d3451d50>"
      ]
     },
     "execution_count": 104,
     "metadata": {},
     "output_type": "execute_result"
    }
   ],
   "source": [
    "print(6 / numeric_pd_df)\n",
    "6 / numeric_alt_df"
   ]
  },
  {
   "cell_type": "code",
   "execution_count": 105,
   "metadata": {},
   "outputs": [
    {
     "name": "stdout",
     "output_type": "stream",
     "text": [
      "       c    d  e    f\n",
      "0   11.0  6.0  6  1.0\n",
      "1   14.0  inf  3  NaN\n",
      "2  104.0  6.0  2  1.0\n"
     ]
    },
    {
     "name": "stderr",
     "output_type": "stream",
     "text": [
      "/home/najaf/Documents/Analytica/analytica/__init__.py:459: RuntimeWarning: divide by zero encountered in floor_divide\n",
      "  data[col] = func(val)\n"
     ]
    },
    {
     "data": {
      "text/html": [
       "<table><thead><tr><th></th><th>c         </th><th>d         </th><th>e         </th><th>f         </th></tr></thead><tbody><tr><td><strong>0</strong></td><td>    11.000</td><td>         6</td><td>         6</td><td>     1.000</td></tr><tr><td><strong>1</strong></td><td>    14.000</td><td>         0</td><td>         3</td><td>       nan</td></tr><tr><td><strong>2</strong></td><td>   104.000</td><td>         6</td><td>         2</td><td>     1.000</td></tr></tbody></table>"
      ],
      "text/plain": [
       "<analytica.DataFrame at 0x7f08d3456490>"
      ]
     },
     "execution_count": 105,
     "metadata": {},
     "output_type": "execute_result"
    }
   ],
   "source": [
    "print(6 // numeric_pd_df)\n",
    "6 // numeric_alt_df"
   ]
  },
  {
   "cell_type": "markdown",
   "metadata": {},
   "source": [
    "## Pow"
   ]
  },
  {
   "cell_type": "code",
   "execution_count": 106,
   "metadata": {},
   "outputs": [
    {
     "name": "stdout",
     "output_type": "stream",
     "text": [
      "          c  d  e      f\n",
      "0  0.287528  1  1  11.56\n",
      "1  0.172628  0  4    NaN\n",
      "2  0.003301  1  9  26.01\n"
     ]
    },
    {
     "data": {
      "text/html": [
       "<table><thead><tr><th></th><th>c         </th><th>d         </th><th>e         </th><th>f         </th></tr></thead><tbody><tr><td><strong>0</strong></td><td>     0.288</td><td>         1</td><td>         1</td><td>    11.560</td></tr><tr><td><strong>1</strong></td><td>     0.173</td><td>         0</td><td>         4</td><td>       nan</td></tr><tr><td><strong>2</strong></td><td>     0.003</td><td>         1</td><td>         9</td><td>    26.010</td></tr></tbody></table>"
      ],
      "text/plain": [
       "<analytica.DataFrame at 0x7f08d34132d0>"
      ]
     },
     "execution_count": 106,
     "metadata": {},
     "output_type": "execute_result"
    }
   ],
   "source": [
    "print(numeric_pd_df**2)\n",
    "numeric_alt_df**2"
   ]
  },
  {
   "cell_type": "code",
   "execution_count": 107,
   "metadata": {},
   "outputs": [
    {
     "name": "stdout",
     "output_type": "stream",
     "text": [
      "          c  d    e            f\n",
      "0  2.613710  6    6   442.297262\n",
      "1  2.105283  1   36          NaN\n",
      "2  1.108428  6  216  9301.893802\n"
     ]
    },
    {
     "data": {
      "text/html": [
       "<table><thead><tr><th></th><th>c         </th><th>d         </th><th>e         </th><th>f         </th></tr></thead><tbody><tr><td><strong>0</strong></td><td>     2.614</td><td>         6</td><td>         6</td><td>   442.297</td></tr><tr><td><strong>1</strong></td><td>     2.105</td><td>         1</td><td>        36</td><td>       nan</td></tr><tr><td><strong>2</strong></td><td>     1.108</td><td>         6</td><td>       216</td><td>  9301.894</td></tr></tbody></table>"
      ],
      "text/plain": [
       "<analytica.DataFrame at 0x7f08d3413b90>"
      ]
     },
     "execution_count": 107,
     "metadata": {},
     "output_type": "execute_result"
    }
   ],
   "source": [
    "print(6**numeric_pd_df)\n",
    "6**numeric_alt_df"
   ]
  },
  {
   "cell_type": "markdown",
   "metadata": {},
   "source": [
    "## >="
   ]
  },
  {
   "cell_type": "code",
   "execution_count": 108,
   "metadata": {},
   "outputs": [
    {
     "name": "stdout",
     "output_type": "stream",
     "text": [
      "       c      d     e      f\n",
      "0   True   True  True   True\n",
      "1   True  False  True  False\n",
      "2  False   True  True   True\n"
     ]
    },
    {
     "name": "stderr",
     "output_type": "stream",
     "text": [
      "/home/najaf/Documents/Analytica/analytica/__init__.py:459: RuntimeWarning: invalid value encountered in greater\n",
      "  data[col] = func(val)\n"
     ]
    },
    {
     "data": {
      "text/html": [
       "<table><thead><tr><th></th><th>c         </th><th>d         </th><th>e         </th><th>f         </th></tr></thead><tbody><tr><td><strong>0</strong></td><td>True</td><td>True</td><td>True</td><td>True</td></tr><tr><td><strong>1</strong></td><td>True</td><td>False</td><td>True</td><td>False</td></tr><tr><td><strong>2</strong></td><td>False</td><td>True</td><td>True</td><td>True</td></tr></tbody></table>"
      ],
      "text/plain": [
       "<analytica.DataFrame at 0x7f08d3417550>"
      ]
     },
     "execution_count": 108,
     "metadata": {},
     "output_type": "execute_result"
    }
   ],
   "source": [
    "print(numeric_pd_df > 0.2)\n",
    "numeric_alt_df > 0.2"
   ]
  },
  {
   "cell_type": "code",
   "execution_count": 109,
   "metadata": {},
   "outputs": [
    {
     "name": "stdout",
     "output_type": "stream",
     "text": [
      "       c      d     e      f\n",
      "0   True   True  True   True\n",
      "1   True  False  True  False\n",
      "2  False   True  True   True\n"
     ]
    },
    {
     "name": "stderr",
     "output_type": "stream",
     "text": [
      "/home/najaf/Documents/Analytica/analytica/__init__.py:459: RuntimeWarning: invalid value encountered in greater_equal\n",
      "  data[col] = func(val)\n"
     ]
    },
    {
     "data": {
      "text/html": [
       "<table><thead><tr><th></th><th>c         </th><th>d         </th><th>e         </th><th>f         </th></tr></thead><tbody><tr><td><strong>0</strong></td><td>True</td><td>True</td><td>True</td><td>True</td></tr><tr><td><strong>1</strong></td><td>True</td><td>False</td><td>True</td><td>False</td></tr><tr><td><strong>2</strong></td><td>False</td><td>True</td><td>True</td><td>True</td></tr></tbody></table>"
      ],
      "text/plain": [
       "<analytica.DataFrame at 0x7f08d3417750>"
      ]
     },
     "execution_count": 109,
     "metadata": {},
     "output_type": "execute_result"
    }
   ],
   "source": [
    "print(numeric_pd_df >= 0.2)\n",
    "numeric_alt_df >= 0.2"
   ]
  },
  {
   "cell_type": "code",
   "execution_count": 110,
   "metadata": {},
   "outputs": [
    {
     "name": "stdout",
     "output_type": "stream",
     "text": [
      "       a     b     c      d      e      f\n",
      "0  False  True  True   True   True   True\n",
      "1  False  True  True   True  False   True\n",
      "2   True  True  True  False   True  False\n"
     ]
    },
    {
     "data": {
      "text/html": [
       "<table><thead><tr><th></th><th>a         </th><th>b         </th><th>c         </th><th>d         </th><th>e         </th><th>f         </th></tr></thead><tbody><tr><td><strong>0</strong></td><td>False</td><td>True</td><td>True</td><td>True</td><td>True</td><td>True</td></tr><tr><td><strong>1</strong></td><td>False</td><td>True</td><td>True</td><td>True</td><td>False</td><td>True</td></tr><tr><td><strong>2</strong></td><td>True</td><td>True</td><td>True</td><td>False</td><td>True</td><td>False</td></tr></tbody></table>"
      ],
      "text/plain": [
       "<analytica.DataFrame at 0x7f08d34abb90>"
      ]
     },
     "execution_count": 110,
     "metadata": {},
     "output_type": "execute_result"
    }
   ],
   "source": [
    "print(pd_df2 > 'b')\n",
    "alt_df2 > 'b'"
   ]
  },
  {
   "cell_type": "code",
   "execution_count": 111,
   "metadata": {},
   "outputs": [
    {
     "name": "stdout",
     "output_type": "stream",
     "text": [
      "       a     b     c      d      e      f\n",
      "0  False  True  True   True   True   True\n",
      "1   True  True  True   True  False   True\n",
      "2   True  True  True  False   True  False\n"
     ]
    },
    {
     "data": {
      "text/html": [
       "<table><thead><tr><th></th><th>a         </th><th>b         </th><th>c         </th><th>d         </th><th>e         </th><th>f         </th></tr></thead><tbody><tr><td><strong>0</strong></td><td>False</td><td>True</td><td>True</td><td>True</td><td>True</td><td>True</td></tr><tr><td><strong>1</strong></td><td>True</td><td>True</td><td>True</td><td>True</td><td>False</td><td>True</td></tr><tr><td><strong>2</strong></td><td>True</td><td>True</td><td>True</td><td>False</td><td>True</td><td>False</td></tr></tbody></table>"
      ],
      "text/plain": [
       "<analytica.DataFrame at 0x7f08d3456410>"
      ]
     },
     "execution_count": 111,
     "metadata": {},
     "output_type": "execute_result"
    }
   ],
   "source": [
    "print(pd_df2 >= 'b')\n",
    "alt_df2 >= 'b'"
   ]
  },
  {
   "cell_type": "markdown",
   "metadata": {},
   "source": [
    "## <="
   ]
  },
  {
   "cell_type": "code",
   "execution_count": 112,
   "metadata": {},
   "outputs": [
    {
     "name": "stdout",
     "output_type": "stream",
     "text": [
      "       c      d      e      f\n",
      "0  False  False  False  False\n",
      "1  False   True  False  False\n",
      "2   True  False  False  False\n"
     ]
    },
    {
     "name": "stderr",
     "output_type": "stream",
     "text": [
      "/home/najaf/Documents/Analytica/analytica/__init__.py:459: RuntimeWarning: invalid value encountered in less\n",
      "  data[col] = func(val)\n"
     ]
    },
    {
     "data": {
      "text/html": [
       "<table><thead><tr><th></th><th>c         </th><th>d         </th><th>e         </th><th>f         </th></tr></thead><tbody><tr><td><strong>0</strong></td><td>False</td><td>False</td><td>False</td><td>False</td></tr><tr><td><strong>1</strong></td><td>False</td><td>True</td><td>False</td><td>False</td></tr><tr><td><strong>2</strong></td><td>True</td><td>False</td><td>False</td><td>False</td></tr></tbody></table>"
      ],
      "text/plain": [
       "<analytica.DataFrame at 0x7f08d3523590>"
      ]
     },
     "execution_count": 112,
     "metadata": {},
     "output_type": "execute_result"
    }
   ],
   "source": [
    "print(numeric_pd_df < 0.2)\n",
    "numeric_alt_df < 0.2"
   ]
  },
  {
   "cell_type": "code",
   "execution_count": 113,
   "metadata": {},
   "outputs": [
    {
     "name": "stdout",
     "output_type": "stream",
     "text": [
      "       c      d      e      f\n",
      "0  False  False  False  False\n",
      "1  False   True  False  False\n",
      "2   True  False  False  False\n"
     ]
    },
    {
     "name": "stderr",
     "output_type": "stream",
     "text": [
      "/home/najaf/Documents/Analytica/analytica/__init__.py:459: RuntimeWarning: invalid value encountered in less_equal\n",
      "  data[col] = func(val)\n"
     ]
    },
    {
     "data": {
      "text/html": [
       "<table><thead><tr><th></th><th>c         </th><th>d         </th><th>e         </th><th>f         </th></tr></thead><tbody><tr><td><strong>0</strong></td><td>False</td><td>False</td><td>False</td><td>False</td></tr><tr><td><strong>1</strong></td><td>False</td><td>True</td><td>False</td><td>False</td></tr><tr><td><strong>2</strong></td><td>True</td><td>False</td><td>False</td><td>False</td></tr></tbody></table>"
      ],
      "text/plain": [
       "<analytica.DataFrame at 0x7f08d3413090>"
      ]
     },
     "execution_count": 113,
     "metadata": {},
     "output_type": "execute_result"
    }
   ],
   "source": [
    "print(numeric_pd_df <= 0.2)\n",
    "numeric_alt_df <= 0.2"
   ]
  },
  {
   "cell_type": "code",
   "execution_count": 114,
   "metadata": {},
   "outputs": [
    {
     "name": "stdout",
     "output_type": "stream",
     "text": [
      "       a      b      c      d      e      f\n",
      "0   True  False  False  False  False  False\n",
      "1  False  False  False  False  False  False\n",
      "2  False  False  False  False  False  False\n"
     ]
    },
    {
     "data": {
      "text/html": [
       "<table><thead><tr><th></th><th>a         </th><th>b         </th><th>c         </th><th>d         </th><th>e         </th><th>f         </th></tr></thead><tbody><tr><td><strong>0</strong></td><td>True</td><td>False</td><td>False</td><td>False</td><td>False</td><td>False</td></tr><tr><td><strong>1</strong></td><td>False</td><td>False</td><td>False</td><td>False</td><td>False</td><td>False</td></tr><tr><td><strong>2</strong></td><td>False</td><td>False</td><td>False</td><td>False</td><td>False</td><td>False</td></tr></tbody></table>"
      ],
      "text/plain": [
       "<analytica.DataFrame at 0x7f08d34710d0>"
      ]
     },
     "execution_count": 114,
     "metadata": {},
     "output_type": "execute_result"
    }
   ],
   "source": [
    "print(pd_df2 < 'b')\n",
    "alt_df2 < 'b'"
   ]
  },
  {
   "cell_type": "code",
   "execution_count": 115,
   "metadata": {},
   "outputs": [
    {
     "name": "stdout",
     "output_type": "stream",
     "text": [
      "       a      b      c      d      e      f\n",
      "0   True  False  False  False  False  False\n",
      "1   True  False  False  False  False  False\n",
      "2  False  False  False  False  False  False\n"
     ]
    },
    {
     "data": {
      "text/html": [
       "<table><thead><tr><th></th><th>a         </th><th>b         </th><th>c         </th><th>d         </th><th>e         </th><th>f         </th></tr></thead><tbody><tr><td><strong>0</strong></td><td>True</td><td>False</td><td>False</td><td>False</td><td>False</td><td>False</td></tr><tr><td><strong>1</strong></td><td>True</td><td>False</td><td>False</td><td>False</td><td>False</td><td>False</td></tr><tr><td><strong>2</strong></td><td>False</td><td>False</td><td>False</td><td>False</td><td>False</td><td>False</td></tr></tbody></table>"
      ],
      "text/plain": [
       "<analytica.DataFrame at 0x7f08d341eb50>"
      ]
     },
     "execution_count": 115,
     "metadata": {},
     "output_type": "execute_result"
    }
   ],
   "source": [
    "print(pd_df2 <= 'b')\n",
    "alt_df2 <= 'b'"
   ]
  },
  {
   "cell_type": "markdown",
   "metadata": {},
   "source": [
    "## ==, !="
   ]
  },
  {
   "cell_type": "code",
   "execution_count": 116,
   "metadata": {},
   "outputs": [
    {
     "name": "stdout",
     "output_type": "stream",
     "text": [
      "       c      d      e      f\n",
      "0  False  False  False  False\n",
      "1  False  False  False  False\n",
      "2  False  False  False  False\n"
     ]
    },
    {
     "data": {
      "text/html": [
       "<table><thead><tr><th></th><th>c         </th><th>d         </th><th>e         </th><th>f         </th></tr></thead><tbody><tr><td><strong>0</strong></td><td>False</td><td>False</td><td>False</td><td>False</td></tr><tr><td><strong>1</strong></td><td>False</td><td>False</td><td>False</td><td>False</td></tr><tr><td><strong>2</strong></td><td>False</td><td>False</td><td>False</td><td>False</td></tr></tbody></table>"
      ],
      "text/plain": [
       "<analytica.DataFrame at 0x7f08d341e490>"
      ]
     },
     "execution_count": 116,
     "metadata": {},
     "output_type": "execute_result"
    }
   ],
   "source": [
    "print(numeric_pd_df == 0.2000)\n",
    "numeric_alt_df == 0.2000"
   ]
  },
  {
   "cell_type": "code",
   "execution_count": 117,
   "metadata": {},
   "outputs": [
    {
     "name": "stdout",
     "output_type": "stream",
     "text": [
      "      c     d     e     f\n",
      "0  True  True  True  True\n",
      "1  True  True  True  True\n",
      "2  True  True  True  True\n"
     ]
    },
    {
     "data": {
      "text/html": [
       "<table><thead><tr><th></th><th>c         </th><th>d         </th><th>e         </th><th>f         </th></tr></thead><tbody><tr><td><strong>0</strong></td><td>True</td><td>True</td><td>True</td><td>True</td></tr><tr><td><strong>1</strong></td><td>True</td><td>True</td><td>True</td><td>True</td></tr><tr><td><strong>2</strong></td><td>True</td><td>True</td><td>True</td><td>True</td></tr></tbody></table>"
      ],
      "text/plain": [
       "<analytica.DataFrame at 0x7f08d3424450>"
      ]
     },
     "execution_count": 117,
     "metadata": {},
     "output_type": "execute_result"
    }
   ],
   "source": [
    "print(numeric_pd_df != 0.2)\n",
    "numeric_alt_df != 0.2"
   ]
  },
  {
   "cell_type": "code",
   "execution_count": 118,
   "metadata": {},
   "outputs": [
    {
     "name": "stdout",
     "output_type": "stream",
     "text": [
      "       a      b      c      d      e      f\n",
      "0  False  False  False  False  False  False\n",
      "1   True  False  False  False  False  False\n",
      "2  False  False  False  False  False  False\n"
     ]
    },
    {
     "data": {
      "text/html": [
       "<table><thead><tr><th></th><th>a         </th><th>b         </th><th>c         </th><th>d         </th><th>e         </th><th>f         </th></tr></thead><tbody><tr><td><strong>0</strong></td><td>False</td><td>False</td><td>False</td><td>False</td><td>False</td><td>False</td></tr><tr><td><strong>1</strong></td><td>True</td><td>False</td><td>False</td><td>False</td><td>False</td><td>False</td></tr><tr><td><strong>2</strong></td><td>False</td><td>False</td><td>False</td><td>False</td><td>False</td><td>False</td></tr></tbody></table>"
      ],
      "text/plain": [
       "<analytica.DataFrame at 0x7f08d3424490>"
      ]
     },
     "execution_count": 118,
     "metadata": {},
     "output_type": "execute_result"
    }
   ],
   "source": [
    "print(pd_df2 == 'b')\n",
    "alt_df2 == 'b'"
   ]
  },
  {
   "cell_type": "code",
   "execution_count": 119,
   "metadata": {},
   "outputs": [
    {
     "name": "stdout",
     "output_type": "stream",
     "text": [
      "       a     b     c     d     e     f\n",
      "0   True  True  True  True  True  True\n",
      "1  False  True  True  True  True  True\n",
      "2   True  True  True  True  True  True\n"
     ]
    },
    {
     "data": {
      "text/html": [
       "<table><thead><tr><th></th><th>a         </th><th>b         </th><th>c         </th><th>d         </th><th>e         </th><th>f         </th></tr></thead><tbody><tr><td><strong>0</strong></td><td>True</td><td>True</td><td>True</td><td>True</td><td>True</td><td>True</td></tr><tr><td><strong>1</strong></td><td>False</td><td>True</td><td>True</td><td>True</td><td>False</td><td>True</td></tr><tr><td><strong>2</strong></td><td>True</td><td>True</td><td>True</td><td>False</td><td>True</td><td>False</td></tr></tbody></table>"
      ],
      "text/plain": [
       "<analytica.DataFrame at 0x7f08d3427d90>"
      ]
     },
     "execution_count": 119,
     "metadata": {},
     "output_type": "execute_result"
    }
   ],
   "source": [
    "print(pd_df2 != 'b')\n",
    "alt_df2 != 'b'"
   ]
  },
  {
   "cell_type": "markdown",
   "metadata": {},
   "source": [
    "# Read CSV"
   ]
  },
  {
   "cell_type": "code",
   "execution_count": 120,
   "metadata": {},
   "outputs": [],
   "source": [
    "csv_alt = alt.read_csv('./data/PizzaData.csv')\n",
    "csv_pd = pd.read_csv('./data/PizzaData.csv')"
   ]
  },
  {
   "cell_type": "code",
   "execution_count": 121,
   "metadata": {},
   "outputs": [
    {
     "name": "stdout",
     "output_type": "stream",
     "text": [
      "Index(['id', 'address', 'categories', 'city', 'country', 'keys', 'latitude',\n",
      "       'longitude', 'menuPageURL', 'menus.amountMax', 'menus.amountMin',\n",
      "       'menus.currency', 'menus.dateSeen', 'menus.description', 'menus.name',\n",
      "       'name', 'postalCode', 'priceRangeCurrency', 'priceRangeMin',\n",
      "       'priceRangeMax', 'province'],\n",
      "      dtype='object')\n",
      "['id', 'address', 'categories', 'city', 'country', 'keys', 'latitude', 'longitude', 'menuPageURL', 'menus.amountMax', 'menus.amountMin', 'menus.currency', 'menus.dateSeen', 'menus.description', 'menus.name', 'name', 'postalCode', 'priceRangeCurrency', 'priceRangeMin', 'priceRangeMax', 'province']\n"
     ]
    }
   ],
   "source": [
    "print(csv_pd.columns)\n",
    "print(csv_alt.columns)"
   ]
  },
  {
   "cell_type": "code",
   "execution_count": 122,
   "metadata": {},
   "outputs": [
    {
     "name": "stdout",
     "output_type": "stream",
     "text": [
      "(3510, 21)\n"
     ]
    },
    {
     "data": {
      "text/plain": [
       "(3510, 21)"
      ]
     },
     "execution_count": 122,
     "metadata": {},
     "output_type": "execute_result"
    }
   ],
   "source": [
    "print(csv_pd.shape)\n",
    "csv_alt.shape"
   ]
  },
  {
   "cell_type": "code",
   "execution_count": 123,
   "metadata": {},
   "outputs": [],
   "source": [
    "csv_alt = alt.read_csv('./data/PizzaData.csv', header=False)\n",
    "csv_pd = pd.read_csv('./data/PizzaData.csv', header=None)"
   ]
  },
  {
   "cell_type": "code",
   "execution_count": 124,
   "metadata": {},
   "outputs": [
    {
     "name": "stdout",
     "output_type": "stream",
     "text": [
      "Int64Index([0, 1, 2, 3, 4, 5, 6, 7, 8, 9, 10, 11, 12, 13, 14, 15, 16, 17, 18,\n",
      "            19, 20],\n",
      "           dtype='int64')\n",
      "['0', '1', '2', '3', '4', '5', '6', '7', '8', '9', '10', '11', '12', '13', '14', '15', '16', '17', '18', '19', '20']\n"
     ]
    }
   ],
   "source": [
    "print(csv_pd.columns)\n",
    "print(csv_alt.columns)"
   ]
  },
  {
   "cell_type": "code",
   "execution_count": 125,
   "metadata": {},
   "outputs": [
    {
     "name": "stdout",
     "output_type": "stream",
     "text": [
      "(3511, 21)\n"
     ]
    },
    {
     "data": {
      "text/plain": [
       "(3511, 21)"
      ]
     },
     "execution_count": 125,
     "metadata": {},
     "output_type": "execute_result"
    }
   ],
   "source": [
    "print(csv_pd.shape)\n",
    "csv_alt.shape"
   ]
  },
  {
   "cell_type": "markdown",
   "metadata": {},
   "source": [
    "# Sample\n",
    "### Seed=5 to compare result with pandas"
   ]
  },
  {
   "cell_type": "code",
   "execution_count": 126,
   "metadata": {},
   "outputs": [
    {
     "name": "stdout",
     "output_type": "stream",
     "text": [
      "   a  b         c     d  e    f\n",
      "0  a  c  0.536216  True  1  3.4\n"
     ]
    },
    {
     "data": {
      "text/html": [
       "<table><thead><tr><th></th><th>a         </th><th>b         </th><th>c         </th><th>d         </th><th>e         </th><th>f         </th></tr></thead><tbody><tr><td><strong>0</strong></td><td>a         </td><td>c         </td><td>     0.536</td><td>True</td><td>         1</td><td>     3.400</td></tr></tbody></table>"
      ],
      "text/plain": [
       "<analytica.DataFrame at 0x7f08d34137d0>"
      ]
     },
     "execution_count": 126,
     "metadata": {},
     "output_type": "execute_result"
    }
   ],
   "source": [
    "print(pd_df.sample(n=1, random_state=5))\n",
    "alt_df.sample(seed=5)"
   ]
  },
  {
   "cell_type": "code",
   "execution_count": 127,
   "metadata": {},
   "outputs": [
    {
     "name": "stdout",
     "output_type": "stream",
     "text": [
      "   a  b         c      d  e    f\n",
      "0  a  c  0.536216   True  1  3.4\n",
      "1  b  d  0.415485  False  2  NaN\n"
     ]
    },
    {
     "data": {
      "text/html": [
       "<table><thead><tr><th></th><th>a         </th><th>b         </th><th>c         </th><th>d         </th><th>e         </th><th>f         </th></tr></thead><tbody><tr><td><strong>0</strong></td><td>a         </td><td>c         </td><td>     0.536</td><td>True</td><td>         1</td><td>     3.400</td></tr><tr><td><strong>1</strong></td><td>b         </td><td>d         </td><td>     0.415</td><td>False</td><td>         2</td><td>       nan</td></tr></tbody></table>"
      ],
      "text/plain": [
       "<analytica.DataFrame at 0x7f08d3413c10>"
      ]
     },
     "execution_count": 127,
     "metadata": {},
     "output_type": "execute_result"
    }
   ],
   "source": [
    "print(pd_df.sample(frac=0.5, random_state=5))\n",
    "alt_df.sample(frac=0.5, seed=5)"
   ]
  },
  {
   "cell_type": "code",
   "execution_count": 128,
   "metadata": {},
   "outputs": [
    {
     "name": "stdout",
     "output_type": "stream",
     "text": [
      "   a     b         c      d  e    f\n",
      "2  c  None  0.057453   True  3  5.1\n",
      "1  b     d  0.415485  False  2  NaN\n",
      "2  c  None  0.057453   True  3  5.1\n",
      "2  c  None  0.057453   True  3  5.1\n"
     ]
    },
    {
     "data": {
      "text/html": [
       "<table><thead><tr><th></th><th>a         </th><th>b         </th><th>c         </th><th>d         </th><th>e         </th><th>f         </th></tr></thead><tbody><tr><td><strong>0</strong></td><td>c         </td><td>None      </td><td>     0.057</td><td>True</td><td>         3</td><td>     5.100</td></tr><tr><td><strong>1</strong></td><td>b         </td><td>d         </td><td>     0.415</td><td>False</td><td>         2</td><td>       nan</td></tr><tr><td><strong>2</strong></td><td>c         </td><td>None      </td><td>     0.057</td><td>True</td><td>         3</td><td>     5.100</td></tr><tr><td><strong>3</strong></td><td>c         </td><td>None      </td><td>     0.057</td><td>True</td><td>         3</td><td>     5.100</td></tr><tr><td><strong>4</strong></td><td>a         </td><td>c         </td><td>     0.536</td><td>True</td><td>         1</td><td>     3.400</td></tr></tbody></table>"
      ],
      "text/plain": [
       "<analytica.DataFrame at 0x7f08d3451f10>"
      ]
     },
     "execution_count": 128,
     "metadata": {},
     "output_type": "execute_result"
    }
   ],
   "source": [
    "print(pd_df.sample(frac=1.5, random_state=5, replace=True))\n",
    "alt_df.sample(frac=1.5, seed=5, replace=True)"
   ]
  },
  {
   "cell_type": "markdown",
   "metadata": {},
   "source": [
    "# Unique & nUnique"
   ]
  },
  {
   "cell_type": "code",
   "execution_count": 129,
   "metadata": {},
   "outputs": [
    {
     "data": {
      "text/html": [
       "<table><thead><tr><th></th><th>a         </th><th>b         </th><th>c         </th><th>d         </th><th>e         </th><th>f         </th></tr></thead><tbody><tr><td><strong>0</strong></td><td>a         </td><td>c         </td><td>     0.536</td><td>True</td><td>         1</td><td>     3.400</td></tr><tr><td><strong>1</strong></td><td>b         </td><td>d         </td><td>     0.415</td><td>False</td><td>         2</td><td>       nan</td></tr><tr><td><strong>2</strong></td><td>c         </td><td>None      </td><td>     0.057</td><td>True</td><td>         3</td><td>     5.100</td></tr></tbody></table>"
      ],
      "text/plain": [
       "<analytica.DataFrame at 0x7f08d346e090>"
      ]
     },
     "execution_count": 129,
     "metadata": {},
     "output_type": "execute_result"
    }
   ],
   "source": [
    "alt_df"
   ]
  },
  {
   "cell_type": "code",
   "execution_count": 130,
   "metadata": {},
   "outputs": [
    {
     "name": "stdout",
     "output_type": "stream",
     "text": [
      "   a     b         c      d  e    f\n",
      "0  a     c  0.536216   True  1  3.4\n",
      "1  c     d  0.415485  False  1  NaN\n",
      "2  c  None  0.057453   True  3  5.1\n"
     ]
    },
    {
     "data": {
      "text/html": [
       "<table><thead><tr><th></th><th>a         </th><th>b         </th><th>c         </th><th>d         </th><th>e         </th><th>f         </th></tr></thead><tbody><tr><td><strong>0</strong></td><td>a         </td><td>c         </td><td>     0.536</td><td>True</td><td>         1</td><td>     3.400</td></tr><tr><td><strong>1</strong></td><td>c         </td><td>d         </td><td>     0.415</td><td>False</td><td>         1</td><td>       nan</td></tr><tr><td><strong>2</strong></td><td>c         </td><td>None      </td><td>     0.057</td><td>True</td><td>         3</td><td>     5.100</td></tr></tbody></table>"
      ],
      "text/plain": [
       "<analytica.DataFrame at 0x7f08d346e090>"
      ]
     },
     "execution_count": 130,
     "metadata": {},
     "output_type": "execute_result"
    }
   ],
   "source": [
    "pd_df.loc[1,'a'] = 'c'\n",
    "pd_df.loc[1,'e'] = 1\n",
    "alt_df[1,'a'] = 'c'\n",
    "alt_df[1,'e'] = 1\n",
    "\n",
    "print(pd_df)\n",
    "alt_df"
   ]
  },
  {
   "cell_type": "code",
   "execution_count": 131,
   "metadata": {},
   "outputs": [
    {
     "data": {
      "text/html": [
       "<div>\n",
       "<style scoped>\n",
       "    .dataframe tbody tr th:only-of-type {\n",
       "        vertical-align: middle;\n",
       "    }\n",
       "\n",
       "    .dataframe tbody tr th {\n",
       "        vertical-align: top;\n",
       "    }\n",
       "\n",
       "    .dataframe thead th {\n",
       "        text-align: right;\n",
       "    }\n",
       "</style>\n",
       "<table border=\"1\" class=\"dataframe\">\n",
       "  <thead>\n",
       "    <tr style=\"text-align: right;\">\n",
       "      <th></th>\n",
       "      <th>a</th>\n",
       "      <th>b</th>\n",
       "      <th>c</th>\n",
       "      <th>d</th>\n",
       "      <th>e</th>\n",
       "      <th>f</th>\n",
       "    </tr>\n",
       "  </thead>\n",
       "  <tbody>\n",
       "    <tr>\n",
       "      <th>0</th>\n",
       "      <td>a</td>\n",
       "      <td>c</td>\n",
       "      <td>f</td>\n",
       "      <td>i</td>\n",
       "      <td>k</td>\n",
       "      <td>m</td>\n",
       "    </tr>\n",
       "    <tr>\n",
       "      <th>1</th>\n",
       "      <td>b</td>\n",
       "      <td>d</td>\n",
       "      <td>g</td>\n",
       "      <td>j</td>\n",
       "      <td>None</td>\n",
       "      <td>n</td>\n",
       "    </tr>\n",
       "    <tr>\n",
       "      <th>2</th>\n",
       "      <td>c</td>\n",
       "      <td>e</td>\n",
       "      <td>h</td>\n",
       "      <td>None</td>\n",
       "      <td>l</td>\n",
       "      <td>None</td>\n",
       "    </tr>\n",
       "  </tbody>\n",
       "</table>\n",
       "</div>"
      ],
      "text/plain": [
       "   a  b  c     d     e     f\n",
       "0  a  c  f     i     k     m\n",
       "1  b  d  g     j  None     n\n",
       "2  c  e  h  None     l  None"
      ]
     },
     "execution_count": 131,
     "metadata": {},
     "output_type": "execute_result"
    }
   ],
   "source": [
    "pd_df2"
   ]
  },
  {
   "cell_type": "code",
   "execution_count": 132,
   "metadata": {},
   "outputs": [
    {
     "name": "stdout",
     "output_type": "stream",
     "text": [
      "   a  b  c     d     e     f\n",
      "0  a  c  f     i     k     m\n",
      "1  b  d  h     j  None     n\n",
      "2  c  e  h  None     k  None\n"
     ]
    },
    {
     "data": {
      "text/html": [
       "<table><thead><tr><th></th><th>a         </th><th>b         </th><th>c         </th><th>d         </th><th>e         </th><th>f         </th></tr></thead><tbody><tr><td><strong>0</strong></td><td>a         </td><td>c         </td><td>f         </td><td>i         </td><td>k         </td><td>m         </td></tr><tr><td><strong>1</strong></td><td>b         </td><td>d         </td><td>h         </td><td>j         </td><td>None      </td><td>n         </td></tr><tr><td><strong>2</strong></td><td>c         </td><td>e         </td><td>h         </td><td>None      </td><td>k         </td><td>None      </td></tr></tbody></table>"
      ],
      "text/plain": [
       "<analytica.DataFrame at 0x7f08d346e650>"
      ]
     },
     "execution_count": 132,
     "metadata": {},
     "output_type": "execute_result"
    }
   ],
   "source": [
    "pd_df2.loc[1,'c'] = 'h'\n",
    "pd_df2.loc[2,'e'] = 'k'\n",
    "alt_df2[1,'c'] = 'h'\n",
    "alt_df2[2,'e'] = 'k'\n",
    "\n",
    "print(pd_df2)\n",
    "alt_df2"
   ]
  },
  {
   "cell_type": "code",
   "execution_count": 133,
   "metadata": {},
   "outputs": [
    {
     "name": "stdout",
     "output_type": "stream",
     "text": [
      "   a     b         c      d  e    f\n",
      "0  a     c  0.536216   True  1  3.4\n",
      "1  c     d  0.415485  False  1  NaN\n",
      "2  c  None  0.057453   True  3  5.1\n"
     ]
    },
    {
     "data": {
      "text/plain": [
       "{'a': array(['a', 'c'], dtype=object),\n",
       " 'b': array(['c', 'd', None], dtype=object),\n",
       " 'c': array([0.53621629, 0.41548541, 0.05745335]),\n",
       " 'd': array([ True, False]),\n",
       " 'e': array([1, 3]),\n",
       " 'f': array([3.4, nan, 5.1])}"
      ]
     },
     "execution_count": 133,
     "metadata": {},
     "output_type": "execute_result"
    }
   ],
   "source": [
    "print(pd_df)\n",
    "alt_df.unique()"
   ]
  },
  {
   "cell_type": "code",
   "execution_count": 134,
   "metadata": {},
   "outputs": [
    {
     "name": "stdout",
     "output_type": "stream",
     "text": [
      "a    2\n",
      "b    3\n",
      "c    3\n",
      "d    2\n",
      "e    2\n",
      "f    3\n",
      "dtype: int64\n"
     ]
    },
    {
     "data": {
      "text/html": [
       "<table><thead><tr><th></th><th>a         </th><th>b         </th><th>c         </th><th>d         </th><th>e         </th><th>f         </th></tr></thead><tbody><tr><td><strong>0</strong></td><td>         2</td><td>         3</td><td>         3</td><td>         2</td><td>         2</td><td>         3</td></tr></tbody></table>"
      ],
      "text/plain": [
       "<analytica.DataFrame at 0x7f08d05e6110>"
      ]
     },
     "execution_count": 134,
     "metadata": {},
     "output_type": "execute_result"
    }
   ],
   "source": [
    "print(pd_df.nunique(dropna=False))\n",
    "alt_df.nunique()"
   ]
  },
  {
   "cell_type": "code",
   "execution_count": 135,
   "metadata": {},
   "outputs": [
    {
     "name": "stdout",
     "output_type": "stream",
     "text": [
      "   a  b  c     d     e     f\n",
      "0  a  c  f     i     k     m\n",
      "1  b  d  h     j  None     n\n",
      "2  c  e  h  None     k  None\n"
     ]
    },
    {
     "data": {
      "text/plain": [
       "{'a': array(['a', 'b', 'c'], dtype=object),\n",
       " 'b': array(['c', 'd', 'e'], dtype=object),\n",
       " 'c': array(['f', 'h'], dtype=object),\n",
       " 'd': array(['i', 'j', None], dtype=object),\n",
       " 'e': array(['k', None], dtype=object),\n",
       " 'f': array(['m', 'n', None], dtype=object)}"
      ]
     },
     "execution_count": 135,
     "metadata": {},
     "output_type": "execute_result"
    }
   ],
   "source": [
    "print(pd_df2)\n",
    "alt_df2.unique()"
   ]
  },
  {
   "cell_type": "code",
   "execution_count": 136,
   "metadata": {},
   "outputs": [
    {
     "name": "stdout",
     "output_type": "stream",
     "text": [
      "a    3\n",
      "b    3\n",
      "c    2\n",
      "d    3\n",
      "e    2\n",
      "f    3\n",
      "dtype: int64\n"
     ]
    },
    {
     "data": {
      "text/html": [
       "<table><thead><tr><th></th><th>a         </th><th>b         </th><th>c         </th><th>d         </th><th>e         </th><th>f         </th></tr></thead><tbody><tr><td><strong>0</strong></td><td>         3</td><td>         3</td><td>         2</td><td>         3</td><td>         2</td><td>         3</td></tr></tbody></table>"
      ],
      "text/plain": [
       "<analytica.DataFrame at 0x7f08d05dc090>"
      ]
     },
     "execution_count": 136,
     "metadata": {},
     "output_type": "execute_result"
    }
   ],
   "source": [
    "print(pd_df2.nunique(dropna=False))\n",
    "alt_df2.nunique()"
   ]
  },
  {
   "cell_type": "code",
   "execution_count": 137,
   "metadata": {},
   "outputs": [
    {
     "name": "stdout",
     "output_type": "stream",
     "text": [
      "[3.4 nan 5.1]\n"
     ]
    },
    {
     "data": {
      "text/html": [
       "<table><thead><tr><th></th><th>f         </th></tr></thead><tbody><tr><td><strong>0</strong></td><td>     3.400</td></tr><tr><td><strong>1</strong></td><td>       nan</td></tr><tr><td><strong>2</strong></td><td>     5.100</td></tr></tbody></table>"
      ],
      "text/plain": [
       "<analytica.DataFrame at 0x7f08d05e09d0>"
      ]
     },
     "execution_count": 137,
     "metadata": {},
     "output_type": "execute_result"
    }
   ],
   "source": [
    "print(pd_df['f'].unique())\n",
    "alt_df['f'].unique()"
   ]
  },
  {
   "cell_type": "code",
   "execution_count": 138,
   "metadata": {},
   "outputs": [
    {
     "name": "stdout",
     "output_type": "stream",
     "text": [
      "3\n"
     ]
    },
    {
     "data": {
      "text/html": [
       "<table><thead><tr><th></th><th>f         </th></tr></thead><tbody><tr><td><strong>0</strong></td><td>         3</td></tr></tbody></table>"
      ],
      "text/plain": [
       "<analytica.DataFrame at 0x7f08d05e6a10>"
      ]
     },
     "execution_count": 138,
     "metadata": {},
     "output_type": "execute_result"
    }
   ],
   "source": [
    "print(pd_df['f'].nunique(dropna=False))\n",
    "alt_df['f'].nunique()"
   ]
  },
  {
   "cell_type": "code",
   "execution_count": 139,
   "metadata": {},
   "outputs": [
    {
     "name": "stdout",
     "output_type": "stream",
     "text": [
      "['k' None]\n"
     ]
    },
    {
     "data": {
      "text/html": [
       "<table><thead><tr><th></th><th>e         </th></tr></thead><tbody><tr><td><strong>0</strong></td><td>k         </td></tr><tr><td><strong>1</strong></td><td>None      </td></tr></tbody></table>"
      ],
      "text/plain": [
       "<analytica.DataFrame at 0x7f08d20b3690>"
      ]
     },
     "execution_count": 139,
     "metadata": {},
     "output_type": "execute_result"
    }
   ],
   "source": [
    "print(pd_df2['e'].unique())\n",
    "alt_df2['e'].unique()"
   ]
  },
  {
   "cell_type": "code",
   "execution_count": 140,
   "metadata": {},
   "outputs": [
    {
     "name": "stdout",
     "output_type": "stream",
     "text": [
      "2\n"
     ]
    },
    {
     "data": {
      "text/html": [
       "<table><thead><tr><th></th><th>e         </th></tr></thead><tbody><tr><td><strong>0</strong></td><td>         2</td></tr></tbody></table>"
      ],
      "text/plain": [
       "<analytica.DataFrame at 0x7f08d3424a90>"
      ]
     },
     "execution_count": 140,
     "metadata": {},
     "output_type": "execute_result"
    }
   ],
   "source": [
    "print(pd_df2['e'].nunique(dropna=False))\n",
    "alt_df2['e'].nunique()"
   ]
  },
  {
   "cell_type": "code",
   "execution_count": 141,
   "metadata": {},
   "outputs": [],
   "source": [
    "a = np.array(['a', 'b', 'c'])\n",
    "b = np.array(['c', 'd', None])\n",
    "c = np.random.rand(3)\n",
    "d = np.array([True, False, True])\n",
    "e = np.array([1, 2, 3])\n",
    "f = np.array([3.4, np.nan, 5.1])\n",
    "\n",
    "data_dict = {'a': a, 'b': b, 'c': c, 'd': d, 'e': e, 'f':f}\n",
    "\n",
    "alt_df = alt.DataFrame(data_dict)\n",
    "pd_df = pd.DataFrame(data_dict)"
   ]
  },
  {
   "cell_type": "code",
   "execution_count": 142,
   "metadata": {},
   "outputs": [],
   "source": [
    "a1 = np.array(['a', 'b', 'c'])\n",
    "b1 = np.array(['c', 'd', 'e'])\n",
    "c1 = np.array(['f', 'g', 'h'])\n",
    "d1 = np.array(['i', 'j', None])\n",
    "e1 = np.array(['k', None, 'l'])\n",
    "f1 = np.array(['m', 'n', None])\n",
    "\n",
    "data_dict = {'a': a1, 'b': b1, 'c': c1, 'd': d1, 'e': e1, 'f':f1}\n",
    "\n",
    "alt_df2 = alt.DataFrame(data_dict)\n",
    "pd_df2 = pd.DataFrame(data_dict)"
   ]
  },
  {
   "cell_type": "code",
   "execution_count": null,
   "metadata": {},
   "outputs": [],
   "source": []
  }
 ],
 "metadata": {
  "kernelspec": {
   "display_name": "Python [conda env:analytica]",
   "language": "python",
   "name": "conda-env-analytica-py"
  },
  "language_info": {
   "codemirror_mode": {
    "name": "ipython",
    "version": 3
   },
   "file_extension": ".py",
   "mimetype": "text/x-python",
   "name": "python",
   "nbconvert_exporter": "python",
   "pygments_lexer": "ipython3",
   "version": "3.7.4"
  }
 },
 "nbformat": 4,
 "nbformat_minor": 2
}
